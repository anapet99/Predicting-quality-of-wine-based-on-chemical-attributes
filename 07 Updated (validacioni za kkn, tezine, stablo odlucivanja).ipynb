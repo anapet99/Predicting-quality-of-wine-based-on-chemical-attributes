{
 "cells": [
  {
   "cell_type": "markdown",
   "id": "229d8fef",
   "metadata": {},
   "source": [
    "# Skup belog vina\n",
    "### Ucitavanje podataka"
   ]
  },
  {
   "cell_type": "code",
   "execution_count": 81,
   "id": "b7388887",
   "metadata": {},
   "outputs": [],
   "source": [
    "import numpy as np\n",
    "import matplotlib.pyplot as plt\n",
    "import pandas as pd\n",
    "import warnings\n",
    "warnings.filterwarnings('ignore')\n",
    "from sklearn import tree\n",
    "from sklearn import ensemble\n",
    "from sklearn import metrics\n",
    "import seaborn as sns\n",
    "from sklearn import model_selection\n",
    "from sklearn import linear_model\n",
    "from sklearn import metrics\n",
    "from sklearn import preprocessing\n",
    "from sklearn import feature_selection\n",
    "from sklearn import neighbors\n",
    "from sklearn.neighbors import KNeighborsClassifier"
   ]
  },
  {
   "cell_type": "code",
   "execution_count": 82,
   "id": "18cccbad",
   "metadata": {},
   "outputs": [],
   "source": [
    "np.random.seed(7)"
   ]
  },
  {
   "cell_type": "code",
   "execution_count": 83,
   "id": "c3279b86",
   "metadata": {},
   "outputs": [],
   "source": [
    "data_white=pd.read_csv('winequality-white.csv',delimiter=';') #ucitavanje parametara belog vina"
   ]
  },
  {
   "cell_type": "code",
   "execution_count": 84,
   "id": "e676abbf",
   "metadata": {},
   "outputs": [
    {
     "data": {
      "text/html": [
       "<div>\n",
       "<style scoped>\n",
       "    .dataframe tbody tr th:only-of-type {\n",
       "        vertical-align: middle;\n",
       "    }\n",
       "\n",
       "    .dataframe tbody tr th {\n",
       "        vertical-align: top;\n",
       "    }\n",
       "\n",
       "    .dataframe thead th {\n",
       "        text-align: right;\n",
       "    }\n",
       "</style>\n",
       "<table border=\"1\" class=\"dataframe\">\n",
       "  <thead>\n",
       "    <tr style=\"text-align: right;\">\n",
       "      <th></th>\n",
       "      <th>fixed acidity</th>\n",
       "      <th>volatile acidity</th>\n",
       "      <th>citric acid</th>\n",
       "      <th>residual sugar</th>\n",
       "      <th>chlorides</th>\n",
       "      <th>free sulfur dioxide</th>\n",
       "      <th>total sulfur dioxide</th>\n",
       "      <th>density</th>\n",
       "      <th>pH</th>\n",
       "      <th>sulphates</th>\n",
       "      <th>alcohol</th>\n",
       "      <th>quality</th>\n",
       "    </tr>\n",
       "  </thead>\n",
       "  <tbody>\n",
       "    <tr>\n",
       "      <th>0</th>\n",
       "      <td>7.0</td>\n",
       "      <td>0.27</td>\n",
       "      <td>0.36</td>\n",
       "      <td>20.7</td>\n",
       "      <td>0.045</td>\n",
       "      <td>45.0</td>\n",
       "      <td>170.0</td>\n",
       "      <td>1.0010</td>\n",
       "      <td>3.00</td>\n",
       "      <td>0.45</td>\n",
       "      <td>8.8</td>\n",
       "      <td>6</td>\n",
       "    </tr>\n",
       "    <tr>\n",
       "      <th>1</th>\n",
       "      <td>6.3</td>\n",
       "      <td>0.30</td>\n",
       "      <td>0.34</td>\n",
       "      <td>1.6</td>\n",
       "      <td>0.049</td>\n",
       "      <td>14.0</td>\n",
       "      <td>132.0</td>\n",
       "      <td>0.9940</td>\n",
       "      <td>3.30</td>\n",
       "      <td>0.49</td>\n",
       "      <td>9.5</td>\n",
       "      <td>6</td>\n",
       "    </tr>\n",
       "    <tr>\n",
       "      <th>2</th>\n",
       "      <td>8.1</td>\n",
       "      <td>0.28</td>\n",
       "      <td>0.40</td>\n",
       "      <td>6.9</td>\n",
       "      <td>0.050</td>\n",
       "      <td>30.0</td>\n",
       "      <td>97.0</td>\n",
       "      <td>0.9951</td>\n",
       "      <td>3.26</td>\n",
       "      <td>0.44</td>\n",
       "      <td>10.1</td>\n",
       "      <td>6</td>\n",
       "    </tr>\n",
       "    <tr>\n",
       "      <th>3</th>\n",
       "      <td>7.2</td>\n",
       "      <td>0.23</td>\n",
       "      <td>0.32</td>\n",
       "      <td>8.5</td>\n",
       "      <td>0.058</td>\n",
       "      <td>47.0</td>\n",
       "      <td>186.0</td>\n",
       "      <td>0.9956</td>\n",
       "      <td>3.19</td>\n",
       "      <td>0.40</td>\n",
       "      <td>9.9</td>\n",
       "      <td>6</td>\n",
       "    </tr>\n",
       "    <tr>\n",
       "      <th>4</th>\n",
       "      <td>7.2</td>\n",
       "      <td>0.23</td>\n",
       "      <td>0.32</td>\n",
       "      <td>8.5</td>\n",
       "      <td>0.058</td>\n",
       "      <td>47.0</td>\n",
       "      <td>186.0</td>\n",
       "      <td>0.9956</td>\n",
       "      <td>3.19</td>\n",
       "      <td>0.40</td>\n",
       "      <td>9.9</td>\n",
       "      <td>6</td>\n",
       "    </tr>\n",
       "  </tbody>\n",
       "</table>\n",
       "</div>"
      ],
      "text/plain": [
       "   fixed acidity  volatile acidity  citric acid  residual sugar  chlorides  \\\n",
       "0            7.0              0.27         0.36            20.7      0.045   \n",
       "1            6.3              0.30         0.34             1.6      0.049   \n",
       "2            8.1              0.28         0.40             6.9      0.050   \n",
       "3            7.2              0.23         0.32             8.5      0.058   \n",
       "4            7.2              0.23         0.32             8.5      0.058   \n",
       "\n",
       "   free sulfur dioxide  total sulfur dioxide  density    pH  sulphates  \\\n",
       "0                 45.0                 170.0   1.0010  3.00       0.45   \n",
       "1                 14.0                 132.0   0.9940  3.30       0.49   \n",
       "2                 30.0                  97.0   0.9951  3.26       0.44   \n",
       "3                 47.0                 186.0   0.9956  3.19       0.40   \n",
       "4                 47.0                 186.0   0.9956  3.19       0.40   \n",
       "\n",
       "   alcohol  quality  \n",
       "0      8.8        6  \n",
       "1      9.5        6  \n",
       "2     10.1        6  \n",
       "3      9.9        6  \n",
       "4      9.9        6  "
      ]
     },
     "execution_count": 84,
     "metadata": {},
     "output_type": "execute_result"
    }
   ],
   "source": [
    "data_white.head() #prvih 5, izgled tabele"
   ]
  },
  {
   "cell_type": "code",
   "execution_count": 85,
   "id": "021fc827",
   "metadata": {},
   "outputs": [],
   "source": [
    "y_white=data_white['quality'] #ciljna promenljiva, uzima vrednosti od 1-10, ocena kvaliteta vina"
   ]
  },
  {
   "cell_type": "code",
   "execution_count": 86,
   "id": "86b1d804",
   "metadata": {},
   "outputs": [
    {
     "data": {
      "text/plain": [
       "0    6\n",
       "1    6\n",
       "2    6\n",
       "3    6\n",
       "4    6\n",
       "Name: quality, dtype: int64"
      ]
     },
     "execution_count": 86,
     "metadata": {},
     "output_type": "execute_result"
    }
   ],
   "source": [
    "y_white.head()"
   ]
  },
  {
   "cell_type": "code",
   "execution_count": 87,
   "id": "53590e53",
   "metadata": {},
   "outputs": [],
   "source": [
    "x_white=data_white.drop(labels='quality',axis=1) #vrednosti atributa"
   ]
  },
  {
   "cell_type": "code",
   "execution_count": 88,
   "id": "f0daa961",
   "metadata": {},
   "outputs": [
    {
     "data": {
      "text/html": [
       "<div>\n",
       "<style scoped>\n",
       "    .dataframe tbody tr th:only-of-type {\n",
       "        vertical-align: middle;\n",
       "    }\n",
       "\n",
       "    .dataframe tbody tr th {\n",
       "        vertical-align: top;\n",
       "    }\n",
       "\n",
       "    .dataframe thead th {\n",
       "        text-align: right;\n",
       "    }\n",
       "</style>\n",
       "<table border=\"1\" class=\"dataframe\">\n",
       "  <thead>\n",
       "    <tr style=\"text-align: right;\">\n",
       "      <th></th>\n",
       "      <th>fixed acidity</th>\n",
       "      <th>volatile acidity</th>\n",
       "      <th>citric acid</th>\n",
       "      <th>residual sugar</th>\n",
       "      <th>chlorides</th>\n",
       "      <th>free sulfur dioxide</th>\n",
       "      <th>total sulfur dioxide</th>\n",
       "      <th>density</th>\n",
       "      <th>pH</th>\n",
       "      <th>sulphates</th>\n",
       "      <th>alcohol</th>\n",
       "    </tr>\n",
       "  </thead>\n",
       "  <tbody>\n",
       "    <tr>\n",
       "      <th>0</th>\n",
       "      <td>7.0</td>\n",
       "      <td>0.27</td>\n",
       "      <td>0.36</td>\n",
       "      <td>20.7</td>\n",
       "      <td>0.045</td>\n",
       "      <td>45.0</td>\n",
       "      <td>170.0</td>\n",
       "      <td>1.0010</td>\n",
       "      <td>3.00</td>\n",
       "      <td>0.45</td>\n",
       "      <td>8.8</td>\n",
       "    </tr>\n",
       "    <tr>\n",
       "      <th>1</th>\n",
       "      <td>6.3</td>\n",
       "      <td>0.30</td>\n",
       "      <td>0.34</td>\n",
       "      <td>1.6</td>\n",
       "      <td>0.049</td>\n",
       "      <td>14.0</td>\n",
       "      <td>132.0</td>\n",
       "      <td>0.9940</td>\n",
       "      <td>3.30</td>\n",
       "      <td>0.49</td>\n",
       "      <td>9.5</td>\n",
       "    </tr>\n",
       "    <tr>\n",
       "      <th>2</th>\n",
       "      <td>8.1</td>\n",
       "      <td>0.28</td>\n",
       "      <td>0.40</td>\n",
       "      <td>6.9</td>\n",
       "      <td>0.050</td>\n",
       "      <td>30.0</td>\n",
       "      <td>97.0</td>\n",
       "      <td>0.9951</td>\n",
       "      <td>3.26</td>\n",
       "      <td>0.44</td>\n",
       "      <td>10.1</td>\n",
       "    </tr>\n",
       "    <tr>\n",
       "      <th>3</th>\n",
       "      <td>7.2</td>\n",
       "      <td>0.23</td>\n",
       "      <td>0.32</td>\n",
       "      <td>8.5</td>\n",
       "      <td>0.058</td>\n",
       "      <td>47.0</td>\n",
       "      <td>186.0</td>\n",
       "      <td>0.9956</td>\n",
       "      <td>3.19</td>\n",
       "      <td>0.40</td>\n",
       "      <td>9.9</td>\n",
       "    </tr>\n",
       "    <tr>\n",
       "      <th>4</th>\n",
       "      <td>7.2</td>\n",
       "      <td>0.23</td>\n",
       "      <td>0.32</td>\n",
       "      <td>8.5</td>\n",
       "      <td>0.058</td>\n",
       "      <td>47.0</td>\n",
       "      <td>186.0</td>\n",
       "      <td>0.9956</td>\n",
       "      <td>3.19</td>\n",
       "      <td>0.40</td>\n",
       "      <td>9.9</td>\n",
       "    </tr>\n",
       "  </tbody>\n",
       "</table>\n",
       "</div>"
      ],
      "text/plain": [
       "   fixed acidity  volatile acidity  citric acid  residual sugar  chlorides  \\\n",
       "0            7.0              0.27         0.36            20.7      0.045   \n",
       "1            6.3              0.30         0.34             1.6      0.049   \n",
       "2            8.1              0.28         0.40             6.9      0.050   \n",
       "3            7.2              0.23         0.32             8.5      0.058   \n",
       "4            7.2              0.23         0.32             8.5      0.058   \n",
       "\n",
       "   free sulfur dioxide  total sulfur dioxide  density    pH  sulphates  \\\n",
       "0                 45.0                 170.0   1.0010  3.00       0.45   \n",
       "1                 14.0                 132.0   0.9940  3.30       0.49   \n",
       "2                 30.0                  97.0   0.9951  3.26       0.44   \n",
       "3                 47.0                 186.0   0.9956  3.19       0.40   \n",
       "4                 47.0                 186.0   0.9956  3.19       0.40   \n",
       "\n",
       "   alcohol  \n",
       "0      8.8  \n",
       "1      9.5  \n",
       "2     10.1  \n",
       "3      9.9  \n",
       "4      9.9  "
      ]
     },
     "execution_count": 88,
     "metadata": {},
     "output_type": "execute_result"
    }
   ],
   "source": [
    "x_white.head()  #prvih 5 instanci"
   ]
  },
  {
   "cell_type": "code",
   "execution_count": 89,
   "id": "4705fa2a",
   "metadata": {},
   "outputs": [
    {
     "data": {
      "text/plain": [
       "fixed acidity           False\n",
       "volatile acidity        False\n",
       "citric acid             False\n",
       "residual sugar          False\n",
       "chlorides               False\n",
       "free sulfur dioxide     False\n",
       "total sulfur dioxide    False\n",
       "density                 False\n",
       "pH                      False\n",
       "sulphates               False\n",
       "alcohol                 False\n",
       "quality                 False\n",
       "dtype: bool"
      ]
     },
     "execution_count": 89,
     "metadata": {},
     "output_type": "execute_result"
    }
   ],
   "source": [
    "data_white.isnull().any() #nema nula elemeneta, nepopunjenih"
   ]
  },
  {
   "cell_type": "code",
   "execution_count": 90,
   "id": "0746190b",
   "metadata": {},
   "outputs": [
    {
     "data": {
      "text/plain": [
       "4898"
      ]
     },
     "execution_count": 90,
     "metadata": {},
     "output_type": "execute_result"
    }
   ],
   "source": [
    "len(data_white) #broj instanci"
   ]
  },
  {
   "cell_type": "code",
   "execution_count": 91,
   "id": "2b3c7451",
   "metadata": {},
   "outputs": [
    {
     "data": {
      "image/png": "[encoded data removed]",
      "text/plain": [
       "<Figure size 900x1000 with 12 Axes>"
      ]
     },
     "metadata": {},
     "output_type": "display_data"
    }
   ],
   "source": [
    "x_white.hist(figsize=(9,10)) # raspodele vrednosti po atributima\n",
    "plt.savefig('raspodele_atributa.png')\n",
    "plt.show()"
   ]
  },
  {
   "cell_type": "code",
   "execution_count": 92,
   "id": "1e570cbf",
   "metadata": {},
   "outputs": [
    {
     "data": {
      "text/plain": [
       "11"
      ]
     },
     "execution_count": 92,
     "metadata": {},
     "output_type": "execute_result"
    }
   ],
   "source": [
    "len(x_white.columns) # broj kolona, broj atributa"
   ]
  },
  {
   "cell_type": "code",
   "execution_count": 93,
   "id": "4e4d29c4",
   "metadata": {},
   "outputs": [
    {
     "data": {
      "text/plain": [
       "<bound method Index.to_series of Index(['fixed acidity', 'volatile acidity', 'citric acid', 'residual sugar',\n",
       "       'chlorides', 'free sulfur dioxide', 'total sulfur dioxide', 'density',\n",
       "       'pH', 'sulphates', 'alcohol'],\n",
       "      dtype='object')>"
      ]
     },
     "execution_count": 93,
     "metadata": {},
     "output_type": "execute_result"
    }
   ],
   "source": [
    "imena_kolona=x_white.columns.to_series #imena kolona\n",
    "imena_kolona"
   ]
  },
  {
   "cell_type": "code",
   "execution_count": 94,
   "id": "2a961d3e",
   "metadata": {},
   "outputs": [
    {
     "name": "stdout",
     "output_type": "stream",
     "text": [
      "<class 'pandas.core.frame.DataFrame'>\n",
      "RangeIndex: 4898 entries, 0 to 4897\n",
      "Data columns (total 12 columns):\n",
      " #   Column                Non-Null Count  Dtype  \n",
      "---  ------                --------------  -----  \n",
      " 0   fixed acidity         4898 non-null   float64\n",
      " 1   volatile acidity      4898 non-null   float64\n",
      " 2   citric acid           4898 non-null   float64\n",
      " 3   residual sugar        4898 non-null   float64\n",
      " 4   chlorides             4898 non-null   float64\n",
      " 5   free sulfur dioxide   4898 non-null   float64\n",
      " 6   total sulfur dioxide  4898 non-null   float64\n",
      " 7   density               4898 non-null   float64\n",
      " 8   pH                    4898 non-null   float64\n",
      " 9   sulphates             4898 non-null   float64\n",
      " 10  alcohol               4898 non-null   float64\n",
      " 11  quality               4898 non-null   int64  \n",
      "dtypes: float64(11), int64(1)\n",
      "memory usage: 459.3 KB\n"
     ]
    }
   ],
   "source": [
    "data_white.info() #informacije o promenljivim, kog su tipa"
   ]
  },
  {
   "cell_type": "code",
   "execution_count": 95,
   "id": "9a82cf18",
   "metadata": {},
   "outputs": [
    {
     "data": {
      "text/html": [
       "<div>\n",
       "<style scoped>\n",
       "    .dataframe tbody tr th:only-of-type {\n",
       "        vertical-align: middle;\n",
       "    }\n",
       "\n",
       "    .dataframe tbody tr th {\n",
       "        vertical-align: top;\n",
       "    }\n",
       "\n",
       "    .dataframe thead th {\n",
       "        text-align: right;\n",
       "    }\n",
       "</style>\n",
       "<table border=\"1\" class=\"dataframe\">\n",
       "  <thead>\n",
       "    <tr style=\"text-align: right;\">\n",
       "      <th></th>\n",
       "      <th>fixed acidity</th>\n",
       "      <th>volatile acidity</th>\n",
       "      <th>citric acid</th>\n",
       "      <th>residual sugar</th>\n",
       "      <th>chlorides</th>\n",
       "      <th>free sulfur dioxide</th>\n",
       "      <th>total sulfur dioxide</th>\n",
       "      <th>density</th>\n",
       "      <th>pH</th>\n",
       "      <th>sulphates</th>\n",
       "      <th>alcohol</th>\n",
       "      <th>quality</th>\n",
       "    </tr>\n",
       "  </thead>\n",
       "  <tbody>\n",
       "    <tr>\n",
       "      <th>count</th>\n",
       "      <td>4898.000000</td>\n",
       "      <td>4898.000000</td>\n",
       "      <td>4898.000000</td>\n",
       "      <td>4898.000000</td>\n",
       "      <td>4898.000000</td>\n",
       "      <td>4898.000000</td>\n",
       "      <td>4898.000000</td>\n",
       "      <td>4898.000000</td>\n",
       "      <td>4898.000000</td>\n",
       "      <td>4898.000000</td>\n",
       "      <td>4898.000000</td>\n",
       "      <td>4898.000000</td>\n",
       "    </tr>\n",
       "    <tr>\n",
       "      <th>mean</th>\n",
       "      <td>6.854788</td>\n",
       "      <td>0.278241</td>\n",
       "      <td>0.334192</td>\n",
       "      <td>6.391415</td>\n",
       "      <td>0.045772</td>\n",
       "      <td>35.308085</td>\n",
       "      <td>138.360657</td>\n",
       "      <td>0.994027</td>\n",
       "      <td>3.188267</td>\n",
       "      <td>0.489847</td>\n",
       "      <td>10.514267</td>\n",
       "      <td>5.877909</td>\n",
       "    </tr>\n",
       "    <tr>\n",
       "      <th>std</th>\n",
       "      <td>0.843868</td>\n",
       "      <td>0.100795</td>\n",
       "      <td>0.121020</td>\n",
       "      <td>5.072058</td>\n",
       "      <td>0.021848</td>\n",
       "      <td>17.007137</td>\n",
       "      <td>42.498065</td>\n",
       "      <td>0.002991</td>\n",
       "      <td>0.151001</td>\n",
       "      <td>0.114126</td>\n",
       "      <td>1.230621</td>\n",
       "      <td>0.885639</td>\n",
       "    </tr>\n",
       "    <tr>\n",
       "      <th>min</th>\n",
       "      <td>3.800000</td>\n",
       "      <td>0.080000</td>\n",
       "      <td>0.000000</td>\n",
       "      <td>0.600000</td>\n",
       "      <td>0.009000</td>\n",
       "      <td>2.000000</td>\n",
       "      <td>9.000000</td>\n",
       "      <td>0.987110</td>\n",
       "      <td>2.720000</td>\n",
       "      <td>0.220000</td>\n",
       "      <td>8.000000</td>\n",
       "      <td>3.000000</td>\n",
       "    </tr>\n",
       "    <tr>\n",
       "      <th>25%</th>\n",
       "      <td>6.300000</td>\n",
       "      <td>0.210000</td>\n",
       "      <td>0.270000</td>\n",
       "      <td>1.700000</td>\n",
       "      <td>0.036000</td>\n",
       "      <td>23.000000</td>\n",
       "      <td>108.000000</td>\n",
       "      <td>0.991723</td>\n",
       "      <td>3.090000</td>\n",
       "      <td>0.410000</td>\n",
       "      <td>9.500000</td>\n",
       "      <td>5.000000</td>\n",
       "    </tr>\n",
       "    <tr>\n",
       "      <th>50%</th>\n",
       "      <td>6.800000</td>\n",
       "      <td>0.260000</td>\n",
       "      <td>0.320000</td>\n",
       "      <td>5.200000</td>\n",
       "      <td>0.043000</td>\n",
       "      <td>34.000000</td>\n",
       "      <td>134.000000</td>\n",
       "      <td>0.993740</td>\n",
       "      <td>3.180000</td>\n",
       "      <td>0.470000</td>\n",
       "      <td>10.400000</td>\n",
       "      <td>6.000000</td>\n",
       "    </tr>\n",
       "    <tr>\n",
       "      <th>75%</th>\n",
       "      <td>7.300000</td>\n",
       "      <td>0.320000</td>\n",
       "      <td>0.390000</td>\n",
       "      <td>9.900000</td>\n",
       "      <td>0.050000</td>\n",
       "      <td>46.000000</td>\n",
       "      <td>167.000000</td>\n",
       "      <td>0.996100</td>\n",
       "      <td>3.280000</td>\n",
       "      <td>0.550000</td>\n",
       "      <td>11.400000</td>\n",
       "      <td>6.000000</td>\n",
       "    </tr>\n",
       "    <tr>\n",
       "      <th>max</th>\n",
       "      <td>14.200000</td>\n",
       "      <td>1.100000</td>\n",
       "      <td>1.660000</td>\n",
       "      <td>65.800000</td>\n",
       "      <td>0.346000</td>\n",
       "      <td>289.000000</td>\n",
       "      <td>440.000000</td>\n",
       "      <td>1.038980</td>\n",
       "      <td>3.820000</td>\n",
       "      <td>1.080000</td>\n",
       "      <td>14.200000</td>\n",
       "      <td>9.000000</td>\n",
       "    </tr>\n",
       "  </tbody>\n",
       "</table>\n",
       "</div>"
      ],
      "text/plain": [
       "       fixed acidity  volatile acidity  citric acid  residual sugar  \\\n",
       "count    4898.000000       4898.000000  4898.000000     4898.000000   \n",
       "mean        6.854788          0.278241     0.334192        6.391415   \n",
       "std         0.843868          0.100795     0.121020        5.072058   \n",
       "min         3.800000          0.080000     0.000000        0.600000   \n",
       "25%         6.300000          0.210000     0.270000        1.700000   \n",
       "50%         6.800000          0.260000     0.320000        5.200000   \n",
       "75%         7.300000          0.320000     0.390000        9.900000   \n",
       "max        14.200000          1.100000     1.660000       65.800000   \n",
       "\n",
       "         chlorides  free sulfur dioxide  total sulfur dioxide      density  \\\n",
       "count  4898.000000          4898.000000           4898.000000  4898.000000   \n",
       "mean      0.045772            35.308085            138.360657     0.994027   \n",
       "std       0.021848            17.007137             42.498065     0.002991   \n",
       "min       0.009000             2.000000              9.000000     0.987110   \n",
       "25%       0.036000            23.000000            108.000000     0.991723   \n",
       "50%       0.043000            34.000000            134.000000     0.993740   \n",
       "75%       0.050000            46.000000            167.000000     0.996100   \n",
       "max       0.346000           289.000000            440.000000     1.038980   \n",
       "\n",
       "                pH    sulphates      alcohol      quality  \n",
       "count  4898.000000  4898.000000  4898.000000  4898.000000  \n",
       "mean      3.188267     0.489847    10.514267     5.877909  \n",
       "std       0.151001     0.114126     1.230621     0.885639  \n",
       "min       2.720000     0.220000     8.000000     3.000000  \n",
       "25%       3.090000     0.410000     9.500000     5.000000  \n",
       "50%       3.180000     0.470000    10.400000     6.000000  \n",
       "75%       3.280000     0.550000    11.400000     6.000000  \n",
       "max       3.820000     1.080000    14.200000     9.000000  "
      ]
     },
     "execution_count": 95,
     "metadata": {},
     "output_type": "execute_result"
    }
   ],
   "source": [
    "data_white.describe() #sredina, min, max svih promenljivih u skupu podataka"
   ]
  },
  {
   "cell_type": "code",
   "execution_count": 96,
   "id": "de8030d9",
   "metadata": {},
   "outputs": [
    {
     "data": {
      "image/png": "[encoded data removed]",
      "text/plain": [
       "<Figure size 640x480 with 1 Axes>"
      ]
     },
     "metadata": {},
     "output_type": "display_data"
    }
   ],
   "source": [
    "\n",
    "sns.countplot(x ='quality', data = data_white)\n",
    "plt.xlabel('ocene kvaliteta')\n",
    "plt.ylabel('broj instanci')\n",
    "plt.savefig('raspodela_y.png')\n",
    "plt.show() #histogram kako su rasporedjenje ocene kvaliteta belog vina, vidimo da nije balansirana raspodela"
   ]
  },
  {
   "cell_type": "markdown",
   "id": "29bb69da",
   "metadata": {},
   "source": [
    "iz ovoga vidimo da najvise ima srednjih ocena vina,\n",
    "malo je odlicnih vina (ocena 8,9), a malo je i losih vina (ocena 3,4)"
   ]
  },
  {
   "cell_type": "code",
   "execution_count": 97,
   "id": "d08d1664",
   "metadata": {},
   "outputs": [
    {
     "data": {
      "text/plain": [
       "6    2198\n",
       "5    1457\n",
       "7     880\n",
       "8     175\n",
       "4     163\n",
       "3      20\n",
       "9       5\n",
       "Name: quality, dtype: int64"
      ]
     },
     "execution_count": 97,
     "metadata": {},
     "output_type": "execute_result"
    }
   ],
   "source": [
    "data_white['quality'].value_counts() #raspodela po ocenama kvaliteta"
   ]
  },
  {
   "cell_type": "code",
   "execution_count": 98,
   "id": "4032f9df",
   "metadata": {},
   "outputs": [
    {
     "data": {
      "text/plain": [
       "(4898, 12)"
      ]
     },
     "execution_count": 98,
     "metadata": {},
     "output_type": "execute_result"
    }
   ],
   "source": [
    "data_white.shape #4898 instanci, 12 kolona"
   ]
  },
  {
   "cell_type": "code",
   "execution_count": 99,
   "id": "573d029d",
   "metadata": {},
   "outputs": [
    {
     "data": {
      "text/html": [
       "<div>\n",
       "<style scoped>\n",
       "    .dataframe tbody tr th:only-of-type {\n",
       "        vertical-align: middle;\n",
       "    }\n",
       "\n",
       "    .dataframe tbody tr th {\n",
       "        vertical-align: top;\n",
       "    }\n",
       "\n",
       "    .dataframe thead th {\n",
       "        text-align: right;\n",
       "    }\n",
       "</style>\n",
       "<table border=\"1\" class=\"dataframe\">\n",
       "  <thead>\n",
       "    <tr style=\"text-align: right;\">\n",
       "      <th></th>\n",
       "      <th>fixed acidity</th>\n",
       "      <th>volatile acidity</th>\n",
       "      <th>citric acid</th>\n",
       "      <th>residual sugar</th>\n",
       "      <th>chlorides</th>\n",
       "      <th>free sulfur dioxide</th>\n",
       "      <th>total sulfur dioxide</th>\n",
       "      <th>density</th>\n",
       "      <th>pH</th>\n",
       "      <th>sulphates</th>\n",
       "      <th>alcohol</th>\n",
       "      <th>quality</th>\n",
       "    </tr>\n",
       "  </thead>\n",
       "  <tbody>\n",
       "    <tr>\n",
       "      <th>fixed acidity</th>\n",
       "      <td>1.000000</td>\n",
       "      <td>-0.022697</td>\n",
       "      <td>0.289181</td>\n",
       "      <td>0.089021</td>\n",
       "      <td>0.023086</td>\n",
       "      <td>-0.049396</td>\n",
       "      <td>0.091070</td>\n",
       "      <td>0.265331</td>\n",
       "      <td>-0.425858</td>\n",
       "      <td>-0.017143</td>\n",
       "      <td>-0.120881</td>\n",
       "      <td>-0.113663</td>\n",
       "    </tr>\n",
       "    <tr>\n",
       "      <th>volatile acidity</th>\n",
       "      <td>-0.022697</td>\n",
       "      <td>1.000000</td>\n",
       "      <td>-0.149472</td>\n",
       "      <td>0.064286</td>\n",
       "      <td>0.070512</td>\n",
       "      <td>-0.097012</td>\n",
       "      <td>0.089261</td>\n",
       "      <td>0.027114</td>\n",
       "      <td>-0.031915</td>\n",
       "      <td>-0.035728</td>\n",
       "      <td>0.067718</td>\n",
       "      <td>-0.194723</td>\n",
       "    </tr>\n",
       "    <tr>\n",
       "      <th>citric acid</th>\n",
       "      <td>0.289181</td>\n",
       "      <td>-0.149472</td>\n",
       "      <td>1.000000</td>\n",
       "      <td>0.094212</td>\n",
       "      <td>0.114364</td>\n",
       "      <td>0.094077</td>\n",
       "      <td>0.121131</td>\n",
       "      <td>0.149503</td>\n",
       "      <td>-0.163748</td>\n",
       "      <td>0.062331</td>\n",
       "      <td>-0.075729</td>\n",
       "      <td>-0.009209</td>\n",
       "    </tr>\n",
       "    <tr>\n",
       "      <th>residual sugar</th>\n",
       "      <td>0.089021</td>\n",
       "      <td>0.064286</td>\n",
       "      <td>0.094212</td>\n",
       "      <td>1.000000</td>\n",
       "      <td>0.088685</td>\n",
       "      <td>0.299098</td>\n",
       "      <td>0.401439</td>\n",
       "      <td>0.838966</td>\n",
       "      <td>-0.194133</td>\n",
       "      <td>-0.026664</td>\n",
       "      <td>-0.450631</td>\n",
       "      <td>-0.097577</td>\n",
       "    </tr>\n",
       "    <tr>\n",
       "      <th>chlorides</th>\n",
       "      <td>0.023086</td>\n",
       "      <td>0.070512</td>\n",
       "      <td>0.114364</td>\n",
       "      <td>0.088685</td>\n",
       "      <td>1.000000</td>\n",
       "      <td>0.101392</td>\n",
       "      <td>0.198910</td>\n",
       "      <td>0.257211</td>\n",
       "      <td>-0.090439</td>\n",
       "      <td>0.016763</td>\n",
       "      <td>-0.360189</td>\n",
       "      <td>-0.209934</td>\n",
       "    </tr>\n",
       "    <tr>\n",
       "      <th>free sulfur dioxide</th>\n",
       "      <td>-0.049396</td>\n",
       "      <td>-0.097012</td>\n",
       "      <td>0.094077</td>\n",
       "      <td>0.299098</td>\n",
       "      <td>0.101392</td>\n",
       "      <td>1.000000</td>\n",
       "      <td>0.615501</td>\n",
       "      <td>0.294210</td>\n",
       "      <td>-0.000618</td>\n",
       "      <td>0.059217</td>\n",
       "      <td>-0.250104</td>\n",
       "      <td>0.008158</td>\n",
       "    </tr>\n",
       "    <tr>\n",
       "      <th>total sulfur dioxide</th>\n",
       "      <td>0.091070</td>\n",
       "      <td>0.089261</td>\n",
       "      <td>0.121131</td>\n",
       "      <td>0.401439</td>\n",
       "      <td>0.198910</td>\n",
       "      <td>0.615501</td>\n",
       "      <td>1.000000</td>\n",
       "      <td>0.529881</td>\n",
       "      <td>0.002321</td>\n",
       "      <td>0.134562</td>\n",
       "      <td>-0.448892</td>\n",
       "      <td>-0.174737</td>\n",
       "    </tr>\n",
       "    <tr>\n",
       "      <th>density</th>\n",
       "      <td>0.265331</td>\n",
       "      <td>0.027114</td>\n",
       "      <td>0.149503</td>\n",
       "      <td>0.838966</td>\n",
       "      <td>0.257211</td>\n",
       "      <td>0.294210</td>\n",
       "      <td>0.529881</td>\n",
       "      <td>1.000000</td>\n",
       "      <td>-0.093591</td>\n",
       "      <td>0.074493</td>\n",
       "      <td>-0.780138</td>\n",
       "      <td>-0.307123</td>\n",
       "    </tr>\n",
       "    <tr>\n",
       "      <th>pH</th>\n",
       "      <td>-0.425858</td>\n",
       "      <td>-0.031915</td>\n",
       "      <td>-0.163748</td>\n",
       "      <td>-0.194133</td>\n",
       "      <td>-0.090439</td>\n",
       "      <td>-0.000618</td>\n",
       "      <td>0.002321</td>\n",
       "      <td>-0.093591</td>\n",
       "      <td>1.000000</td>\n",
       "      <td>0.155951</td>\n",
       "      <td>0.121432</td>\n",
       "      <td>0.099427</td>\n",
       "    </tr>\n",
       "    <tr>\n",
       "      <th>sulphates</th>\n",
       "      <td>-0.017143</td>\n",
       "      <td>-0.035728</td>\n",
       "      <td>0.062331</td>\n",
       "      <td>-0.026664</td>\n",
       "      <td>0.016763</td>\n",
       "      <td>0.059217</td>\n",
       "      <td>0.134562</td>\n",
       "      <td>0.074493</td>\n",
       "      <td>0.155951</td>\n",
       "      <td>1.000000</td>\n",
       "      <td>-0.017433</td>\n",
       "      <td>0.053678</td>\n",
       "    </tr>\n",
       "    <tr>\n",
       "      <th>alcohol</th>\n",
       "      <td>-0.120881</td>\n",
       "      <td>0.067718</td>\n",
       "      <td>-0.075729</td>\n",
       "      <td>-0.450631</td>\n",
       "      <td>-0.360189</td>\n",
       "      <td>-0.250104</td>\n",
       "      <td>-0.448892</td>\n",
       "      <td>-0.780138</td>\n",
       "      <td>0.121432</td>\n",
       "      <td>-0.017433</td>\n",
       "      <td>1.000000</td>\n",
       "      <td>0.435575</td>\n",
       "    </tr>\n",
       "    <tr>\n",
       "      <th>quality</th>\n",
       "      <td>-0.113663</td>\n",
       "      <td>-0.194723</td>\n",
       "      <td>-0.009209</td>\n",
       "      <td>-0.097577</td>\n",
       "      <td>-0.209934</td>\n",
       "      <td>0.008158</td>\n",
       "      <td>-0.174737</td>\n",
       "      <td>-0.307123</td>\n",
       "      <td>0.099427</td>\n",
       "      <td>0.053678</td>\n",
       "      <td>0.435575</td>\n",
       "      <td>1.000000</td>\n",
       "    </tr>\n",
       "  </tbody>\n",
       "</table>\n",
       "</div>"
      ],
      "text/plain": [
       "                      fixed acidity  volatile acidity  citric acid  \\\n",
       "fixed acidity              1.000000         -0.022697     0.289181   \n",
       "volatile acidity          -0.022697          1.000000    -0.149472   \n",
       "citric acid                0.289181         -0.149472     1.000000   \n",
       "residual sugar             0.089021          0.064286     0.094212   \n",
       "chlorides                  0.023086          0.070512     0.114364   \n",
       "free sulfur dioxide       -0.049396         -0.097012     0.094077   \n",
       "total sulfur dioxide       0.091070          0.089261     0.121131   \n",
       "density                    0.265331          0.027114     0.149503   \n",
       "pH                        -0.425858         -0.031915    -0.163748   \n",
       "sulphates                 -0.017143         -0.035728     0.062331   \n",
       "alcohol                   -0.120881          0.067718    -0.075729   \n",
       "quality                   -0.113663         -0.194723    -0.009209   \n",
       "\n",
       "                      residual sugar  chlorides  free sulfur dioxide  \\\n",
       "fixed acidity               0.089021   0.023086            -0.049396   \n",
       "volatile acidity            0.064286   0.070512            -0.097012   \n",
       "citric acid                 0.094212   0.114364             0.094077   \n",
       "residual sugar              1.000000   0.088685             0.299098   \n",
       "chlorides                   0.088685   1.000000             0.101392   \n",
       "free sulfur dioxide         0.299098   0.101392             1.000000   \n",
       "total sulfur dioxide        0.401439   0.198910             0.615501   \n",
       "density                     0.838966   0.257211             0.294210   \n",
       "pH                         -0.194133  -0.090439            -0.000618   \n",
       "sulphates                  -0.026664   0.016763             0.059217   \n",
       "alcohol                    -0.450631  -0.360189            -0.250104   \n",
       "quality                    -0.097577  -0.209934             0.008158   \n",
       "\n",
       "                      total sulfur dioxide   density        pH  sulphates  \\\n",
       "fixed acidity                     0.091070  0.265331 -0.425858  -0.017143   \n",
       "volatile acidity                  0.089261  0.027114 -0.031915  -0.035728   \n",
       "citric acid                       0.121131  0.149503 -0.163748   0.062331   \n",
       "residual sugar                    0.401439  0.838966 -0.194133  -0.026664   \n",
       "chlorides                         0.198910  0.257211 -0.090439   0.016763   \n",
       "free sulfur dioxide               0.615501  0.294210 -0.000618   0.059217   \n",
       "total sulfur dioxide              1.000000  0.529881  0.002321   0.134562   \n",
       "density                           0.529881  1.000000 -0.093591   0.074493   \n",
       "pH                                0.002321 -0.093591  1.000000   0.155951   \n",
       "sulphates                         0.134562  0.074493  0.155951   1.000000   \n",
       "alcohol                          -0.448892 -0.780138  0.121432  -0.017433   \n",
       "quality                          -0.174737 -0.307123  0.099427   0.053678   \n",
       "\n",
       "                       alcohol   quality  \n",
       "fixed acidity        -0.120881 -0.113663  \n",
       "volatile acidity      0.067718 -0.194723  \n",
       "citric acid          -0.075729 -0.009209  \n",
       "residual sugar       -0.450631 -0.097577  \n",
       "chlorides            -0.360189 -0.209934  \n",
       "free sulfur dioxide  -0.250104  0.008158  \n",
       "total sulfur dioxide -0.448892 -0.174737  \n",
       "density              -0.780138 -0.307123  \n",
       "pH                    0.121432  0.099427  \n",
       "sulphates            -0.017433  0.053678  \n",
       "alcohol               1.000000  0.435575  \n",
       "quality               0.435575  1.000000  "
      ]
     },
     "execution_count": 99,
     "metadata": {},
     "output_type": "execute_result"
    }
   ],
   "source": [
    "matrica_korelacije=data_white.corr() \n",
    "matrica_korelacije            #matrica korelacije"
   ]
  },
  {
   "cell_type": "code",
   "execution_count": 100,
   "id": "86460ee8",
   "metadata": {},
   "outputs": [
    {
     "data": {
      "image/png": "[encoded data removed]",
      "text/plain": [
       "<Figure size 1500x1000 with 2 Axes>"
      ]
     },
     "metadata": {},
     "output_type": "display_data"
    }
   ],
   "source": [
    "#plt.imshow(matrica_korelacije)\n",
    "plt.subplots(figsize=(15, 10))\n",
    "sns.heatmap(matrica_korelacije, annot = True, cmap = 'coolwarm')\n",
    "plt.savefig('matrica_konfuzije.png')\n",
    "plt.show() #heatmapa korelacija"
   ]
  },
  {
   "cell_type": "markdown",
   "id": "cb85e01b",
   "metadata": {},
   "source": [
    "vidimo ih heatmape visoku povezanost density i residual sugar, kao i density i alcohol ali suprotno korelisano\n",
    "takodje vidimo poveznaost atributa sa ciljnom promenljivom"
   ]
  },
  {
   "cell_type": "code",
   "execution_count": 101,
   "id": "1f6e95dc",
   "metadata": {},
   "outputs": [],
   "source": [
    "def korelacija(value, threshold=0.5):\n",
    "    if np.abs(value) < threshold:\n",
    "        return 0\n",
    "    else:\n",
    "        return value # da prikaze visoko korelisane"
   ]
  },
  {
   "cell_type": "code",
   "execution_count": 102,
   "id": "41cdad98",
   "metadata": {},
   "outputs": [
    {
     "data": {
      "text/html": [
       "<div>\n",
       "<style scoped>\n",
       "    .dataframe tbody tr th:only-of-type {\n",
       "        vertical-align: middle;\n",
       "    }\n",
       "\n",
       "    .dataframe tbody tr th {\n",
       "        vertical-align: top;\n",
       "    }\n",
       "\n",
       "    .dataframe thead th {\n",
       "        text-align: right;\n",
       "    }\n",
       "</style>\n",
       "<table border=\"1\" class=\"dataframe\">\n",
       "  <thead>\n",
       "    <tr style=\"text-align: right;\">\n",
       "      <th></th>\n",
       "      <th>fixed acidity</th>\n",
       "      <th>volatile acidity</th>\n",
       "      <th>citric acid</th>\n",
       "      <th>residual sugar</th>\n",
       "      <th>chlorides</th>\n",
       "      <th>free sulfur dioxide</th>\n",
       "      <th>total sulfur dioxide</th>\n",
       "      <th>density</th>\n",
       "      <th>pH</th>\n",
       "      <th>sulphates</th>\n",
       "      <th>alcohol</th>\n",
       "      <th>quality</th>\n",
       "    </tr>\n",
       "  </thead>\n",
       "  <tbody>\n",
       "    <tr>\n",
       "      <th>fixed acidity</th>\n",
       "      <td>1.0</td>\n",
       "      <td>0.0</td>\n",
       "      <td>0.0</td>\n",
       "      <td>0.000000</td>\n",
       "      <td>0.0</td>\n",
       "      <td>0.000000</td>\n",
       "      <td>0.000000</td>\n",
       "      <td>0.000000</td>\n",
       "      <td>0.0</td>\n",
       "      <td>0.0</td>\n",
       "      <td>0.000000</td>\n",
       "      <td>0.0</td>\n",
       "    </tr>\n",
       "    <tr>\n",
       "      <th>volatile acidity</th>\n",
       "      <td>0.0</td>\n",
       "      <td>1.0</td>\n",
       "      <td>0.0</td>\n",
       "      <td>0.000000</td>\n",
       "      <td>0.0</td>\n",
       "      <td>0.000000</td>\n",
       "      <td>0.000000</td>\n",
       "      <td>0.000000</td>\n",
       "      <td>0.0</td>\n",
       "      <td>0.0</td>\n",
       "      <td>0.000000</td>\n",
       "      <td>0.0</td>\n",
       "    </tr>\n",
       "    <tr>\n",
       "      <th>citric acid</th>\n",
       "      <td>0.0</td>\n",
       "      <td>0.0</td>\n",
       "      <td>1.0</td>\n",
       "      <td>0.000000</td>\n",
       "      <td>0.0</td>\n",
       "      <td>0.000000</td>\n",
       "      <td>0.000000</td>\n",
       "      <td>0.000000</td>\n",
       "      <td>0.0</td>\n",
       "      <td>0.0</td>\n",
       "      <td>0.000000</td>\n",
       "      <td>0.0</td>\n",
       "    </tr>\n",
       "    <tr>\n",
       "      <th>residual sugar</th>\n",
       "      <td>0.0</td>\n",
       "      <td>0.0</td>\n",
       "      <td>0.0</td>\n",
       "      <td>1.000000</td>\n",
       "      <td>0.0</td>\n",
       "      <td>0.000000</td>\n",
       "      <td>0.000000</td>\n",
       "      <td>0.838966</td>\n",
       "      <td>0.0</td>\n",
       "      <td>0.0</td>\n",
       "      <td>0.000000</td>\n",
       "      <td>0.0</td>\n",
       "    </tr>\n",
       "    <tr>\n",
       "      <th>chlorides</th>\n",
       "      <td>0.0</td>\n",
       "      <td>0.0</td>\n",
       "      <td>0.0</td>\n",
       "      <td>0.000000</td>\n",
       "      <td>1.0</td>\n",
       "      <td>0.000000</td>\n",
       "      <td>0.000000</td>\n",
       "      <td>0.000000</td>\n",
       "      <td>0.0</td>\n",
       "      <td>0.0</td>\n",
       "      <td>0.000000</td>\n",
       "      <td>0.0</td>\n",
       "    </tr>\n",
       "    <tr>\n",
       "      <th>free sulfur dioxide</th>\n",
       "      <td>0.0</td>\n",
       "      <td>0.0</td>\n",
       "      <td>0.0</td>\n",
       "      <td>0.000000</td>\n",
       "      <td>0.0</td>\n",
       "      <td>1.000000</td>\n",
       "      <td>0.615501</td>\n",
       "      <td>0.000000</td>\n",
       "      <td>0.0</td>\n",
       "      <td>0.0</td>\n",
       "      <td>0.000000</td>\n",
       "      <td>0.0</td>\n",
       "    </tr>\n",
       "    <tr>\n",
       "      <th>total sulfur dioxide</th>\n",
       "      <td>0.0</td>\n",
       "      <td>0.0</td>\n",
       "      <td>0.0</td>\n",
       "      <td>0.000000</td>\n",
       "      <td>0.0</td>\n",
       "      <td>0.615501</td>\n",
       "      <td>1.000000</td>\n",
       "      <td>0.529881</td>\n",
       "      <td>0.0</td>\n",
       "      <td>0.0</td>\n",
       "      <td>0.000000</td>\n",
       "      <td>0.0</td>\n",
       "    </tr>\n",
       "    <tr>\n",
       "      <th>density</th>\n",
       "      <td>0.0</td>\n",
       "      <td>0.0</td>\n",
       "      <td>0.0</td>\n",
       "      <td>0.838966</td>\n",
       "      <td>0.0</td>\n",
       "      <td>0.000000</td>\n",
       "      <td>0.529881</td>\n",
       "      <td>1.000000</td>\n",
       "      <td>0.0</td>\n",
       "      <td>0.0</td>\n",
       "      <td>-0.780138</td>\n",
       "      <td>0.0</td>\n",
       "    </tr>\n",
       "    <tr>\n",
       "      <th>pH</th>\n",
       "      <td>0.0</td>\n",
       "      <td>0.0</td>\n",
       "      <td>0.0</td>\n",
       "      <td>0.000000</td>\n",
       "      <td>0.0</td>\n",
       "      <td>0.000000</td>\n",
       "      <td>0.000000</td>\n",
       "      <td>0.000000</td>\n",
       "      <td>1.0</td>\n",
       "      <td>0.0</td>\n",
       "      <td>0.000000</td>\n",
       "      <td>0.0</td>\n",
       "    </tr>\n",
       "    <tr>\n",
       "      <th>sulphates</th>\n",
       "      <td>0.0</td>\n",
       "      <td>0.0</td>\n",
       "      <td>0.0</td>\n",
       "      <td>0.000000</td>\n",
       "      <td>0.0</td>\n",
       "      <td>0.000000</td>\n",
       "      <td>0.000000</td>\n",
       "      <td>0.000000</td>\n",
       "      <td>0.0</td>\n",
       "      <td>1.0</td>\n",
       "      <td>0.000000</td>\n",
       "      <td>0.0</td>\n",
       "    </tr>\n",
       "    <tr>\n",
       "      <th>alcohol</th>\n",
       "      <td>0.0</td>\n",
       "      <td>0.0</td>\n",
       "      <td>0.0</td>\n",
       "      <td>0.000000</td>\n",
       "      <td>0.0</td>\n",
       "      <td>0.000000</td>\n",
       "      <td>0.000000</td>\n",
       "      <td>-0.780138</td>\n",
       "      <td>0.0</td>\n",
       "      <td>0.0</td>\n",
       "      <td>1.000000</td>\n",
       "      <td>0.0</td>\n",
       "    </tr>\n",
       "    <tr>\n",
       "      <th>quality</th>\n",
       "      <td>0.0</td>\n",
       "      <td>0.0</td>\n",
       "      <td>0.0</td>\n",
       "      <td>0.000000</td>\n",
       "      <td>0.0</td>\n",
       "      <td>0.000000</td>\n",
       "      <td>0.000000</td>\n",
       "      <td>0.000000</td>\n",
       "      <td>0.0</td>\n",
       "      <td>0.0</td>\n",
       "      <td>0.000000</td>\n",
       "      <td>1.0</td>\n",
       "    </tr>\n",
       "  </tbody>\n",
       "</table>\n",
       "</div>"
      ],
      "text/plain": [
       "                      fixed acidity  volatile acidity  citric acid  \\\n",
       "fixed acidity                   1.0               0.0          0.0   \n",
       "volatile acidity                0.0               1.0          0.0   \n",
       "citric acid                     0.0               0.0          1.0   \n",
       "residual sugar                  0.0               0.0          0.0   \n",
       "chlorides                       0.0               0.0          0.0   \n",
       "free sulfur dioxide             0.0               0.0          0.0   \n",
       "total sulfur dioxide            0.0               0.0          0.0   \n",
       "density                         0.0               0.0          0.0   \n",
       "pH                              0.0               0.0          0.0   \n",
       "sulphates                       0.0               0.0          0.0   \n",
       "alcohol                         0.0               0.0          0.0   \n",
       "quality                         0.0               0.0          0.0   \n",
       "\n",
       "                      residual sugar  chlorides  free sulfur dioxide  \\\n",
       "fixed acidity               0.000000        0.0             0.000000   \n",
       "volatile acidity            0.000000        0.0             0.000000   \n",
       "citric acid                 0.000000        0.0             0.000000   \n",
       "residual sugar              1.000000        0.0             0.000000   \n",
       "chlorides                   0.000000        1.0             0.000000   \n",
       "free sulfur dioxide         0.000000        0.0             1.000000   \n",
       "total sulfur dioxide        0.000000        0.0             0.615501   \n",
       "density                     0.838966        0.0             0.000000   \n",
       "pH                          0.000000        0.0             0.000000   \n",
       "sulphates                   0.000000        0.0             0.000000   \n",
       "alcohol                     0.000000        0.0             0.000000   \n",
       "quality                     0.000000        0.0             0.000000   \n",
       "\n",
       "                      total sulfur dioxide   density   pH  sulphates  \\\n",
       "fixed acidity                     0.000000  0.000000  0.0        0.0   \n",
       "volatile acidity                  0.000000  0.000000  0.0        0.0   \n",
       "citric acid                       0.000000  0.000000  0.0        0.0   \n",
       "residual sugar                    0.000000  0.838966  0.0        0.0   \n",
       "chlorides                         0.000000  0.000000  0.0        0.0   \n",
       "free sulfur dioxide               0.615501  0.000000  0.0        0.0   \n",
       "total sulfur dioxide              1.000000  0.529881  0.0        0.0   \n",
       "density                           0.529881  1.000000  0.0        0.0   \n",
       "pH                                0.000000  0.000000  1.0        0.0   \n",
       "sulphates                         0.000000  0.000000  0.0        1.0   \n",
       "alcohol                           0.000000 -0.780138  0.0        0.0   \n",
       "quality                           0.000000  0.000000  0.0        0.0   \n",
       "\n",
       "                       alcohol  quality  \n",
       "fixed acidity         0.000000      0.0  \n",
       "volatile acidity      0.000000      0.0  \n",
       "citric acid           0.000000      0.0  \n",
       "residual sugar        0.000000      0.0  \n",
       "chlorides             0.000000      0.0  \n",
       "free sulfur dioxide   0.000000      0.0  \n",
       "total sulfur dioxide  0.000000      0.0  \n",
       "density              -0.780138      0.0  \n",
       "pH                    0.000000      0.0  \n",
       "sulphates             0.000000      0.0  \n",
       "alcohol               1.000000      0.0  \n",
       "quality               0.000000      1.0  "
      ]
     },
     "execution_count": 102,
     "metadata": {},
     "output_type": "execute_result"
    }
   ],
   "source": [
    "matrica_korelacije.applymap(korelacija)"
   ]
  },
  {
   "cell_type": "code",
   "execution_count": 103,
   "id": "b01e3632",
   "metadata": {},
   "outputs": [
    {
     "data": {
      "text/plain": [
       "Index(['fixed acidity', 'volatile acidity', 'citric acid', 'residual sugar',\n",
       "       'chlorides', 'free sulfur dioxide', 'total sulfur dioxide', 'density',\n",
       "       'pH', 'sulphates', 'alcohol'],\n",
       "      dtype='object')"
      ]
     },
     "execution_count": 103,
     "metadata": {},
     "output_type": "execute_result"
    }
   ],
   "source": [
    "x_white.columns #imena kolona"
   ]
  },
  {
   "cell_type": "code",
   "execution_count": null,
   "id": "a4dfd03b",
   "metadata": {},
   "outputs": [],
   "source": []
  },
  {
   "cell_type": "markdown",
   "id": "15d755a3",
   "metadata": {},
   "source": [
    "#### podela skupa"
   ]
  },
  {
   "cell_type": "code",
   "execution_count": 104,
   "id": "baa2f912",
   "metadata": {},
   "outputs": [],
   "source": [
    "x_train,x_test,y_train,y_test=model_selection.train_test_split(x_white,y_white,test_size=0.2,random_state=7,stratify=y_white)"
   ]
  },
  {
   "cell_type": "code",
   "execution_count": 105,
   "id": "96a9a36c",
   "metadata": {},
   "outputs": [
    {
     "data": {
      "text/plain": [
       "(3918, 11)"
      ]
     },
     "execution_count": 105,
     "metadata": {},
     "output_type": "execute_result"
    }
   ],
   "source": [
    "x_train.shape"
   ]
  },
  {
   "cell_type": "code",
   "execution_count": 106,
   "id": "b33cb13c",
   "metadata": {},
   "outputs": [
    {
     "data": {
      "text/plain": [
       "(980, 11)"
      ]
     },
     "execution_count": 106,
     "metadata": {},
     "output_type": "execute_result"
    }
   ],
   "source": [
    "x_test.shape"
   ]
  },
  {
   "cell_type": "code",
   "execution_count": 107,
   "id": "5b384713",
   "metadata": {},
   "outputs": [
    {
     "data": {
      "text/plain": [
       "(3918,)"
      ]
     },
     "execution_count": 107,
     "metadata": {},
     "output_type": "execute_result"
    }
   ],
   "source": [
    "y_train.shape"
   ]
  },
  {
   "cell_type": "code",
   "execution_count": 108,
   "id": "ce88758a",
   "metadata": {},
   "outputs": [
    {
     "data": {
      "text/plain": [
       "(980,)"
      ]
     },
     "execution_count": 108,
     "metadata": {},
     "output_type": "execute_result"
    }
   ],
   "source": [
    "y_test.shape"
   ]
  },
  {
   "cell_type": "markdown",
   "id": "c9b653c4",
   "metadata": {},
   "source": [
    "#### standardizacija"
   ]
  },
  {
   "cell_type": "code",
   "execution_count": 109,
   "id": "c2496747",
   "metadata": {},
   "outputs": [],
   "source": [
    "scaler=preprocessing.StandardScaler()"
   ]
  },
  {
   "cell_type": "code",
   "execution_count": 110,
   "id": "5e51789c",
   "metadata": {},
   "outputs": [
    {
     "data": {
      "text/plain": [
       "StandardScaler()"
      ]
     },
     "execution_count": 110,
     "metadata": {},
     "output_type": "execute_result"
    }
   ],
   "source": [
    "scaler.fit(x_train)"
   ]
  },
  {
   "cell_type": "code",
   "execution_count": 111,
   "id": "69e4c916",
   "metadata": {},
   "outputs": [],
   "source": [
    "x_train=scaler.transform(x_train)"
   ]
  },
  {
   "cell_type": "code",
   "execution_count": 112,
   "id": "9f9c4393",
   "metadata": {},
   "outputs": [],
   "source": [
    "x_test=scaler.transform(x_test)"
   ]
  },
  {
   "cell_type": "code",
   "execution_count": 113,
   "id": "ab549acb",
   "metadata": {},
   "outputs": [
    {
     "data": {
      "text/plain": [
       "(4898,)"
      ]
     },
     "execution_count": 113,
     "metadata": {},
     "output_type": "execute_result"
    }
   ],
   "source": [
    "y_white.shape"
   ]
  },
  {
   "cell_type": "markdown",
   "id": "f3154691",
   "metadata": {},
   "source": [
    "## KNN (K najblizih suseda)"
   ]
  },
  {
   "cell_type": "code",
   "execution_count": 377,
   "id": "1c9b9f7a",
   "metadata": {},
   "outputs": [],
   "source": [
    "#Uzimamo za k brojeve od 1-40\n",
    "k = range(1, 35)\n",
    "k_cross_val_scores = []\n",
    "k_val_scores = []\n",
    "#delim na trening i validacioni skup\n",
    "x_train, x_val, y_train, y_val = model_selection.train_test_split(x_train, y_train, test_size=0.2, random_state=7)\n",
    "for k in k:\n",
    "    \n",
    "    knn_model = KNeighborsClassifier(n_neighbors=k)\n",
    "    \n",
    "    # kros validacija 10 slojeva\n",
    "    # tacnost\n",
    "    cross_val_scores = model_selection.cross_val_score(knn_model, x_train, y_train, cv=10, scoring='accuracy')\n",
    "    k_cross_val_scores.append(cross_val_scores.mean()) #srednja vrednost\n",
    "    \n",
    "    # fitovanje na trening skupu i evaluacija na validacionom skupu\n",
    "    knn_model.fit(x_train, y_train)\n",
    "    val_score = knn_model.score(x_val, y_val)\n",
    "    k_val_scores.append(val_score)"
   ]
  },
  {
   "cell_type": "code",
   "execution_count": 378,
   "id": "24ad26c2",
   "metadata": {},
   "outputs": [
    {
     "data": {
      "text/plain": [
       "[0.4320388349514563,\n",
       " 0.39805825242718446,\n",
       " 0.45145631067961167,\n",
       " 0.47572815533980584,\n",
       " 0.45145631067961167,\n",
       " 0.4368932038834951,\n",
       " 0.470873786407767,\n",
       " 0.4563106796116505,\n",
       " 0.4368932038834951,\n",
       " 0.4368932038834951,\n",
       " 0.46116504854368934,\n",
       " 0.44660194174757284,\n",
       " 0.4320388349514563,\n",
       " 0.441747572815534,\n",
       " 0.46116504854368934,\n",
       " 0.470873786407767,\n",
       " 0.46601941747572817,\n",
       " 0.49029126213592233,\n",
       " 0.49029126213592233,\n",
       " 0.49029126213592233,\n",
       " 0.5,\n",
       " 0.5048543689320388,\n",
       " 0.49029126213592233,\n",
       " 0.5048543689320388,\n",
       " 0.47572815533980584,\n",
       " 0.49514563106796117,\n",
       " 0.5097087378640777,\n",
       " 0.5145631067961165,\n",
       " 0.5048543689320388,\n",
       " 0.5097087378640777,\n",
       " 0.5048543689320388,\n",
       " 0.5194174757281553,\n",
       " 0.5097087378640777,\n",
       " 0.5145631067961165]"
      ]
     },
     "execution_count": 378,
     "metadata": {},
     "output_type": "execute_result"
    }
   ],
   "source": [
    "k_val_scores"
   ]
  },
  {
   "cell_type": "code",
   "execution_count": 379,
   "id": "9825761e",
   "metadata": {},
   "outputs": [
    {
     "data": {
      "image/png": "[encoded data removed]",
      "text/plain": [
       "<Figure size 900x900 with 1 Axes>"
      ]
     },
     "metadata": {},
     "output_type": "display_data"
    }
   ],
   "source": [
    "plt.figure(figsize=(9,9))\n",
    "plt.plot(range(k),k_val_scores)\n",
    "plt.xticks(range(k))\n",
    "plt.xlabel('vrednost k')\n",
    "plt.ylabel('kros validacija -tacnost')\n",
    "plt.savefig('knn.png')\n",
    "plt.show()"
   ]
  },
  {
   "cell_type": "code",
   "execution_count": null,
   "id": "50ea285d",
   "metadata": {},
   "outputs": [],
   "source": []
  },
  {
   "cell_type": "markdown",
   "id": "6d071c74",
   "metadata": {},
   "source": [
    "Izabracu k=31 za obucavanje modela, kako sam tu dobila tacnost medju visim"
   ]
  },
  {
   "cell_type": "code",
   "execution_count": 390,
   "id": "3b2532dc",
   "metadata": {},
   "outputs": [
    {
     "data": {
      "text/plain": [
       "KNeighborsClassifier(n_neighbors=31)"
      ]
     },
     "execution_count": 390,
     "metadata": {},
     "output_type": "execute_result"
    }
   ],
   "source": [
    "knn_model = KNeighborsClassifier(n_neighbors=31) #treniranje modela za k=31\n",
    "\n",
    "knn_model.fit(x_train, y_train)"
   ]
  },
  {
   "cell_type": "code",
   "execution_count": 391,
   "id": "2d1cefdd",
   "metadata": {},
   "outputs": [],
   "source": [
    "y_pred = knn_model.predict(x_test) #predvijdanje modela na test skupu"
   ]
  },
  {
   "cell_type": "code",
   "execution_count": 392,
   "id": "569a3672",
   "metadata": {},
   "outputs": [
    {
     "data": {
      "text/plain": [
       "array([5, 5, 6, 6, 6, 6, 6, 6, 6, 6, 7, 6, 6, 6, 5, 6, 6, 6, 6, 6, 6, 6,\n",
       "       6, 6, 6, 5, 6, 6, 6, 5, 6, 7, 6, 6, 6, 7, 6, 5, 6, 6, 6, 6, 6, 6,\n",
       "       6, 6, 7, 5, 5, 5, 6, 6, 5, 5, 6, 6, 6, 6, 6, 5, 6, 5, 5, 6, 6, 6,\n",
       "       5, 6, 6, 6, 6, 6, 5, 6, 6, 6, 6, 6, 7, 6, 7, 6, 6, 6, 6, 6, 6, 5,\n",
       "       6, 6, 6, 7, 6, 6, 6, 5, 5, 6, 6, 6, 6, 5, 6, 6, 6, 6, 5, 6, 6, 6,\n",
       "       6, 5, 6, 6, 6, 6, 6, 6, 5, 6, 6, 6, 6, 5, 5, 6, 6, 5, 6, 6, 6, 6,\n",
       "       6, 6, 6, 6, 6, 6, 6, 6, 5, 6, 6, 6, 6, 6, 6, 6, 6, 5, 6, 6, 6, 6,\n",
       "       7, 6, 5, 6, 6, 6, 6, 6, 6, 6, 5, 6, 6, 6, 6, 6, 6, 6, 6, 6, 5, 6,\n",
       "       6, 6, 5, 5, 6, 6, 6, 5, 6, 5, 6, 6, 6, 6, 5, 6, 5, 6, 6, 6, 6, 6,\n",
       "       6, 6, 6, 6, 6, 6, 6, 6, 6, 6, 7, 5, 6, 6, 6, 6, 7, 5, 6, 6, 6, 6,\n",
       "       6, 6, 5, 6, 6, 6, 6, 6, 7, 5, 6, 6, 6, 6, 6, 6, 6, 6, 6, 6, 5, 6,\n",
       "       6, 6, 5, 6, 6, 6, 6, 5, 6, 6, 5, 5, 6, 6, 6, 5, 5, 5, 6, 5, 6, 6,\n",
       "       6, 5, 5, 6, 6, 6, 6, 5, 5, 6, 7, 6, 6, 6, 5, 6, 6, 5, 6, 6, 6, 6,\n",
       "       6, 5, 6, 6, 6, 7, 6, 6, 6, 6, 6, 6, 7, 7, 5, 6, 6, 5, 6, 6, 6, 6,\n",
       "       6, 5, 6, 7, 6, 6, 5, 5, 6, 6, 6, 6, 6, 7, 5, 6, 6, 6, 6, 6, 6, 6,\n",
       "       6, 6, 5, 6, 6, 6, 5, 6, 6, 6, 6, 5, 5, 6, 6, 6, 6, 6, 6, 6, 6, 6,\n",
       "       6, 5, 6, 6, 6, 6, 5, 6, 6, 6, 6, 6, 6, 7, 6, 6, 6, 6, 6, 6, 5, 5,\n",
       "       6, 6, 7, 6, 6, 6, 6, 6, 6, 6, 6, 6, 6, 6, 6, 5, 6, 6, 6, 5, 6, 6,\n",
       "       5, 5, 5, 6, 6, 6, 6, 6, 6, 6, 6, 6, 6, 6, 6, 6, 6, 6, 6, 5, 5, 6,\n",
       "       6, 6, 6, 6, 6, 6, 5, 6, 5, 6, 6, 6, 6, 5, 7, 6, 6, 6, 6, 5, 6, 5,\n",
       "       6, 7, 6, 6, 7, 6, 6, 6, 6, 6, 6, 6, 6, 5, 6, 6, 5, 6, 5, 6, 6, 6,\n",
       "       6, 6, 6, 5, 6, 5, 6, 6, 6, 6, 6, 6, 6, 6, 5, 6, 6, 6, 6, 6, 6, 6,\n",
       "       7, 5, 7, 6, 5, 6, 6, 6, 6, 6, 6, 6, 6, 6, 5, 6, 6, 6, 7, 5, 6, 6,\n",
       "       6, 6, 6, 6, 5, 7, 7, 6, 6, 6, 6, 6, 6, 5, 6, 6, 5, 5, 6, 6, 5, 6,\n",
       "       6, 6, 5, 6, 6, 6, 6, 6, 6, 7, 7, 6, 6, 6, 6, 6, 6, 6, 6, 6, 6, 6,\n",
       "       5, 5, 6, 6, 6, 6, 5, 7, 6, 6, 6, 6, 6, 6, 6, 6, 6, 6, 5, 5, 6, 6,\n",
       "       5, 7, 6, 7, 6, 6, 6, 6, 6, 6, 6, 6, 6, 7, 5, 6, 6, 6, 5, 6, 5, 6,\n",
       "       6, 6, 6, 5, 6, 6, 6, 6, 6, 6, 5, 6, 6, 6, 6, 6, 6, 6, 6, 6, 6, 6,\n",
       "       6, 6, 5, 6, 6, 6, 6, 6, 6, 6, 6, 7, 6, 6, 6, 5, 6, 6, 6, 5, 6, 6,\n",
       "       6, 6, 6, 5, 6, 6, 6, 6, 6, 6, 6, 6, 6, 6, 6, 6, 6, 5, 6, 6, 6, 6,\n",
       "       6, 5, 6, 7, 6, 5, 6, 6, 6, 5, 6, 6, 6, 5, 6, 6, 6, 6, 6, 5, 5, 6,\n",
       "       6, 6, 5, 5, 6, 6, 6, 5, 6, 5, 5, 6, 7, 6, 6, 6, 6, 5, 6, 6, 6, 6,\n",
       "       5, 6, 6, 6, 6, 6, 6, 6, 6, 6, 6, 6, 7, 6, 6, 5, 6, 6, 5, 7, 6, 6,\n",
       "       6, 6, 7, 6, 6, 6, 6, 6, 6, 6, 6, 6, 6, 6, 6, 6, 6, 7, 6, 6, 6, 5,\n",
       "       6, 6, 6, 6, 6, 6, 5, 6, 5, 5, 6, 7, 6, 6, 6, 6, 6, 6, 5, 7, 6, 7,\n",
       "       6, 6, 6, 5, 6, 7, 6, 5, 6, 6, 6, 6, 5, 6, 6, 6, 6, 6, 6, 6, 6, 5,\n",
       "       6, 6, 6, 5, 6, 5, 6, 5, 6, 5, 6, 7, 6, 6, 6, 5, 5, 5, 6, 6, 5, 5,\n",
       "       6, 6, 7, 6, 5, 6, 6, 6, 6, 6, 6, 6, 6, 5, 6, 6, 6, 6, 6, 6, 5, 6,\n",
       "       6, 5, 6, 5, 5, 6, 6, 6, 6, 6, 6, 6, 6, 6, 6, 6, 5, 7, 6, 7, 6, 6,\n",
       "       7, 6, 5, 6, 6, 6, 5, 6, 6, 6, 6, 7, 5, 6, 5, 6, 5, 6, 6, 6, 6, 6,\n",
       "       6, 6, 6, 6, 6, 6, 6, 6, 6, 6, 6, 6, 6, 6, 6, 5, 6, 6, 6, 6, 6, 6,\n",
       "       6, 6, 6, 6, 6, 6, 6, 6, 7, 6, 6, 7, 6, 6, 6, 6, 6, 6, 5, 5, 6, 5,\n",
       "       5, 5, 6, 6, 7, 6, 5, 6, 6, 5, 6, 6, 5, 6, 5, 6, 5, 6, 6, 6, 5, 5,\n",
       "       5, 6, 6, 6, 6, 6, 6, 5, 6, 6, 6, 6, 6, 6, 6, 6, 5, 5, 6, 5, 6, 5,\n",
       "       6, 6, 6, 5, 5, 5, 6, 6, 6, 6, 5, 6], dtype=int64)"
      ]
     },
     "execution_count": 392,
     "metadata": {},
     "output_type": "execute_result"
    }
   ],
   "source": [
    "y_pred"
   ]
  },
  {
   "cell_type": "code",
   "execution_count": 393,
   "id": "3c37afed",
   "metadata": {},
   "outputs": [
    {
     "name": "stdout",
     "output_type": "stream",
     "text": [
      "              precision    recall  f1-score   support\n",
      "\n",
      "           3       0.00      0.00      0.00         4\n",
      "           4       0.00      0.00      0.00        33\n",
      "           5       0.60      0.38      0.46       291\n",
      "           6       0.50      0.84      0.62       440\n",
      "           7       0.51      0.15      0.24       176\n",
      "           8       0.00      0.00      0.00        35\n",
      "           9       0.00      0.00      0.00         1\n",
      "\n",
      "    accuracy                           0.52       980\n",
      "   macro avg       0.23      0.20      0.19       980\n",
      "weighted avg       0.49      0.52      0.46       980\n",
      "\n"
     ]
    }
   ],
   "source": [
    "print(metrics.classification_report(y_test, y_pred)) #izvestaj"
   ]
  },
  {
   "cell_type": "code",
   "execution_count": 394,
   "id": "d5c97251",
   "metadata": {},
   "outputs": [
    {
     "data": {
      "text/plain": [
       "0.5163265306122449"
      ]
     },
     "execution_count": 394,
     "metadata": {},
     "output_type": "execute_result"
    }
   ],
   "source": [
    "tacnost_knn=metrics.accuracy_score(y_test,y_pred) #tacnost modela\n",
    "tacnost_knn"
   ]
  },
  {
   "cell_type": "markdown",
   "id": "c2e249b0",
   "metadata": {},
   "source": [
    "## Linearna regresija sa tezinama"
   ]
  },
  {
   "cell_type": "code",
   "execution_count": 42,
   "id": "4f0d012f",
   "metadata": {},
   "outputs": [],
   "source": [
    "lm=linear_model.LinearRegression()"
   ]
  },
  {
   "cell_type": "code",
   "execution_count": 254,
   "id": "b2bd4150",
   "metadata": {},
   "outputs": [],
   "source": [
    "from sklearn.utils.class_weight import compute_sample_weight\n",
    "w4=compute_sample_weight(class_weight='balanced', y=y_train) #tezina da pridaje vise vaznosti manjim klasama"
   ]
  },
  {
   "cell_type": "code",
   "execution_count": 255,
   "id": "d28b5226",
   "metadata": {},
   "outputs": [],
   "source": [
    "broj_klasa = y_train.value_counts(normalize=True) #broji instance"
   ]
  },
  {
   "cell_type": "code",
   "execution_count": 256,
   "id": "9c235dec",
   "metadata": {},
   "outputs": [],
   "source": [
    "w5 = {oznaka_klase: 1 / broj_klasa[oznaka_klase] for oznaka_klase in broj_klasa.index} #tezina drugi nacin"
   ]
  },
  {
   "cell_type": "code",
   "execution_count": 268,
   "id": "20c4fab2",
   "metadata": {},
   "outputs": [
    {
     "data": {
      "text/plain": [
       "LinearRegression()"
      ]
     },
     "execution_count": 268,
     "metadata": {},
     "output_type": "execute_result"
    }
   ],
   "source": [
    "lm.fit(x_train,y_train,sample_weight=w4)"
   ]
  },
  {
   "cell_type": "code",
   "execution_count": 269,
   "id": "86789229",
   "metadata": {},
   "outputs": [],
   "source": [
    "#lm.fit(x_train,y_train,sample_weight=y_train.map(w5))"
   ]
  },
  {
   "cell_type": "code",
   "execution_count": 270,
   "id": "676524c4",
   "metadata": {},
   "outputs": [],
   "source": [
    "y_predd=lm.predict(x_test)"
   ]
  },
  {
   "cell_type": "code",
   "execution_count": 271,
   "id": "fc98ecce",
   "metadata": {},
   "outputs": [
    {
     "data": {
      "text/plain": [
       "array([ 4.08115525,  4.52428258,  5.18227995,  6.89536727,  5.09799986,\n",
       "        4.70135687,  6.14466677,  6.20308792,  5.80913184,  6.1953907 ,\n",
       "        6.53714641,  7.22785907,  8.20727467,  6.77569959,  3.70539385,\n",
       "        7.56216568,  5.56414566,  5.73962646,  6.31975025,  6.60539326,\n",
       "        7.90683124,  4.90779869,  7.31399565,  6.73017285,  4.64914529,\n",
       "        5.78879152,  5.98006473,  5.07444615,  5.17958196,  3.01838605,\n",
       "        4.36564404,  7.30465162,  7.52163142,  7.48074525,  6.2281206 ,\n",
       "        5.96940954,  6.22709134,  5.14211614,  5.64380663,  8.02306322,\n",
       "        6.53636347,  4.79131596,  5.59930235,  7.51858308,  5.81566794,\n",
       "        6.23717338,  3.08597781,  4.68449843,  6.81329084,  4.81384071,\n",
       "        3.71518309,  4.98128018,  5.25062149,  3.63793384,  5.5903406 ,\n",
       "        6.89357894,  4.57605984,  6.00158614,  7.42886578,  6.7112502 ,\n",
       "        6.76299036,  4.50306279,  5.22082322,  6.12380904,  5.89692008,\n",
       "        6.9062064 ,  4.54928192,  7.2310417 ,  4.95584822,  7.85720878,\n",
       "        6.0970826 ,  6.24332576,  4.40988726,  7.17790125,  5.58564095,\n",
       "        6.13366924,  4.05090997,  5.84398913,  6.7953405 ,  3.92293198,\n",
       "        6.92498269,  6.11649512,  6.07286693,  4.99237902,  6.34545546,\n",
       "        4.84585579,  7.69475569,  5.45492979,  7.05756157,  5.68306027,\n",
       "        6.71788877,  8.58898662,  5.79017039,  5.37746207,  5.80872633,\n",
       "        7.06952107,  7.15001313,  4.75287699,  5.50773555,  5.30927222,\n",
       "        8.3098972 ,  5.63674355,  6.29055632,  5.60680403,  7.33953093,\n",
       "        7.42730118,  4.42912072,  7.02693084,  6.05833706,  6.09312024,\n",
       "        6.1238885 ,  6.75452252,  8.49108218,  6.62585354,  7.09582933,\n",
       "        6.9355905 ,  5.49634383,  7.04180071,  5.26800657,  7.81035114,\n",
       "        5.93678611,  4.77628109,  5.63877557,  4.6451306 ,  6.51227739,\n",
       "        6.94359543,  7.32759892,  6.31358308,  6.36188278,  5.7932403 ,\n",
       "        4.81688385,  7.8876554 ,  4.95456534,  6.6661894 ,  4.81026024,\n",
       "        5.71311661,  8.15772306,  5.59024208,  6.46638703,  6.96666119,\n",
       "        4.64306865,  6.35927263,  6.22729022,  5.89457582,  6.1733427 ,\n",
       "        4.08858356,  6.40060663,  4.28257942,  5.27442343,  5.07041322,\n",
       "        4.51009584,  5.6711177 ,  4.16110011,  6.29765749,  6.48183013,\n",
       "        5.25518658,  4.07853892,  6.86688494,  5.13803594,  6.83212012,\n",
       "        6.90320509,  5.56665671,  7.58591245,  5.43419366,  6.04321161,\n",
       "        6.40919755,  6.21233965,  5.10728939,  5.08293643,  6.62708497,\n",
       "        4.89189002,  6.27481637,  4.87689139,  6.16922413,  5.28803509,\n",
       "        4.10451804,  7.72367526,  5.60289605,  4.19888202,  4.06507147,\n",
       "        5.80249193,  4.0632024 ,  4.43070163,  5.38591232,  5.32845088,\n",
       "        6.00986363,  6.26192773,  5.75801544,  6.74138318,  7.29091133,\n",
       "        4.17625541,  7.22796916,  5.51415486,  6.85375221,  7.62382347,\n",
       "        6.84806039,  6.23411114,  6.66388325,  5.2380309 ,  5.17081304,\n",
       "        6.27967063,  7.54564654,  6.98197663,  5.16019791,  6.76422314,\n",
       "        6.91803684,  6.59265825,  4.12637028,  6.15472463,  5.91024218,\n",
       "        6.28152699,  3.60539124,  6.47004669,  6.76299036,  8.411843  ,\n",
       "        6.6669098 ,  6.51352295,  5.84300464,  5.64977604,  5.22131179,\n",
       "        5.82714171,  6.7224033 ,  3.70218432,  6.79865461,  4.79131596,\n",
       "        5.87864094,  6.67889242,  5.60248162,  6.84476239,  5.14854749,\n",
       "        7.32696604,  6.42753002,  5.99306867,  5.59963231,  6.92769481,\n",
       "        6.18639467,  6.30511469,  6.21301133,  5.32845088,  6.97804543,\n",
       "        3.97207547,  6.18870586,  6.00924775,  6.00841141,  4.0645737 ,\n",
       "        5.30663676,  5.80718654,  7.02064026,  4.79524953,  4.50882288,\n",
       "        4.39861104,  4.73734908,  5.15615507,  7.37288955,  5.01454076,\n",
       "        5.02293765,  8.42899308,  5.65172467,  4.918683  ,  4.83451743,\n",
       "        3.27699912,  4.79055461,  5.30838717,  8.08442022,  7.3888666 ,\n",
       "        4.2049832 ,  4.33915737,  6.75468303,  5.3180932 ,  5.59453943,\n",
       "        6.32644937,  4.44141279,  4.62706115,  5.81999975,  7.6334283 ,\n",
       "        5.7952245 ,  6.86688494,  5.84791722,  5.23979415,  5.85948248,\n",
       "        6.87462091,  4.32837687,  7.35704709,  6.5242385 ,  5.96221427,\n",
       "        5.56621564,  4.82709637,  4.84966692,  7.50272262,  6.81567518,\n",
       "        5.55159097,  5.83255524,  5.7582954 ,  5.04327377,  7.14255222,\n",
       "        7.22946939,  4.93650248,  5.36015521,  7.48971181,  6.94273473,\n",
       "        5.6288315 ,  7.88791305,  4.10023441,  4.42584545,  6.92313347,\n",
       "        6.43746944,  5.40563329,  7.36513583,  4.82015081,  5.11524014,\n",
       "        7.82540679,  7.16710261,  5.78175858,  6.97537673,  4.35297181,\n",
       "        5.28340125,  6.94467931,  5.20806553,  6.11760866,  4.04965466,\n",
       "        6.3314342 ,  7.95752512,  4.61483858,  7.34014901,  4.69907571,\n",
       "        6.90097993,  5.9469316 ,  4.38609646,  5.53350364,  6.34180773,\n",
       "        5.78589213,  8.08442022,  4.51671122,  4.85984759,  5.30432458,\n",
       "        6.68711691,  4.97749736,  7.36938755,  6.11229783,  5.86439446,\n",
       "        5.77726106,  4.96095223,  4.22825837,  5.31057994,  7.32887062,\n",
       "        6.05885266,  5.75181558,  6.95893513,  6.45737374,  5.85973022,\n",
       "        6.72890334,  5.58073674,  5.89644273,  6.85070735,  6.39733456,\n",
       "        6.200331  ,  7.25172275,  5.72658615,  4.66435568,  6.00158614,\n",
       "        6.70831236,  6.46534725,  6.87732014,  4.36813517,  6.49245673,\n",
       "        6.81030272,  8.24882336,  5.34389255,  4.48235136,  5.64977604,\n",
       "        5.16378357,  5.65565883,  4.15642006,  6.11177105,  7.24238765,\n",
       "        5.67276511,  6.7267179 ,  7.05756157,  6.30036223,  7.14653348,\n",
       "        4.03144135,  5.7579926 ,  5.29466795,  6.5262108 ,  5.61007285,\n",
       "        6.29816243,  5.77322166,  6.66770221,  7.869536  ,  6.33751979,\n",
       "       10.11123426,  6.66203182,  6.24362312,  7.45494874,  7.42773127,\n",
       "        8.27777062,  5.3847021 ,  6.80629586,  5.23979415,  6.26207474,\n",
       "        6.67326227,  5.16452961,  7.77525908,  5.7191366 ,  5.01175839,\n",
       "        7.54450409,  6.77548328,  6.34667363,  5.90654196,  5.22730466,\n",
       "        4.63206146,  4.04946893,  6.7025137 ,  5.49392692,  6.42104098,\n",
       "        4.41030165,  3.93491768,  4.52864928,  6.28110173,  5.57875882,\n",
       "        6.79865461,  4.16652312,  5.79421902,  5.2883682 ,  4.66735875,\n",
       "        5.64188107,  4.98030364,  6.17443434,  6.07373854,  7.19755097,\n",
       "        5.80631565,  4.24337546,  6.88400463,  7.22011109,  4.31148812,\n",
       "        5.1419673 ,  5.20061452,  6.50529983,  5.370285  ,  4.8005049 ,\n",
       "        7.91702987,  7.91425698,  6.02544962,  7.39978128,  6.7700749 ,\n",
       "        4.6909074 ,  6.65430582,  6.68016923,  6.85670015,  7.68579703,\n",
       "        7.15119427,  5.41137968,  4.9402688 ,  4.82471126,  5.74558239,\n",
       "        6.20797867,  2.277253  ,  5.99798884,  4.0626108 ,  5.26744324,\n",
       "        8.08851313,  6.23139231,  6.33966601,  6.44357685,  5.93728664,\n",
       "        5.2718867 ,  7.38016518,  6.20753675,  6.09004053,  6.444375  ,\n",
       "        5.91921813,  3.07242411,  7.54128299,  5.86906577,  6.24534129,\n",
       "        6.55407897,  4.09600907,  5.98015092,  5.60392085,  5.52596438,\n",
       "        5.56322456,  6.23749214,  6.39731005,  6.90277764,  7.17143403,\n",
       "        4.95601248,  7.20597276,  6.12130036,  2.58708458,  6.11484103,\n",
       "        3.53175106,  4.16160063,  6.58577641,  6.5170794 ,  5.70727867,\n",
       "        6.71477536,  6.89357894,  5.370285  ,  3.1044119 ,  4.99270294,\n",
       "        5.02994172,  6.77637949,  5.81638855,  4.16958717,  4.84254329,\n",
       "        6.82254511,  5.6576263 ,  6.81057087,  5.98770789,  5.11291637,\n",
       "        5.17642753,  7.8530673 ,  7.55692669,  5.74113867,  5.66561755,\n",
       "        6.08244003,  5.57649216,  6.15254446,  5.08293643,  5.10528477,\n",
       "        6.26823326,  7.65980177,  3.93491768,  4.62863911,  5.62541869,\n",
       "        5.68102397,  4.52855798,  6.61009965,  4.69811797,  5.16469997,\n",
       "        5.42502717,  7.06761296,  5.5281477 ,  5.14664298,  5.83245466,\n",
       "        5.3867278 ,  6.59019352,  7.17143403,  5.89372479,  6.96788435,\n",
       "        6.31514883,  6.03656457,  6.00097555,  6.25723121,  6.27621828,\n",
       "        6.16895908,  5.30068944,  5.54909134,  6.6581731 ,  4.02282422,\n",
       "        4.72804948,  3.63520605,  7.17495949,  5.81917498,  5.83985129,\n",
       "        5.65081728,  7.17787852,  7.79953948,  6.00924775,  6.9835817 ,\n",
       "        6.18291221,  7.6676305 ,  7.42893374,  6.0964546 ,  3.75365416,\n",
       "        6.34412437,  7.06881173,  6.49548942,  4.03476569,  3.90669664,\n",
       "        5.67734748,  4.28992746,  4.9324601 ,  6.28195828,  5.30809841,\n",
       "        6.92179193,  6.42661435,  7.53778708,  5.62184191,  6.90248994,\n",
       "        6.58695207,  7.09820012,  4.34979334,  7.40006592,  5.21837674,\n",
       "        7.44722336,  4.62122346,  7.44864903,  5.84300464,  6.62168289,\n",
       "        6.71867411,  5.55898146,  4.92348301,  6.96164239,  4.62341921,\n",
       "        5.46323805,  9.43491467,  7.17922588,  7.14301935,  6.77015561,\n",
       "        6.13861992,  6.30664493,  7.26511942,  5.43810342,  4.54499661,\n",
       "        6.46789167,  5.92049606,  6.30107665,  6.80441659,  6.6581731 ,\n",
       "        5.01046051,  6.73342812,  6.67691036,  5.23870707,  6.72847002,\n",
       "        4.78339662,  4.95007156,  6.74096524,  5.59307383,  5.80006089,\n",
       "        6.86946968,  7.23620976,  5.57665589,  6.97641034,  5.95232216,\n",
       "        6.86288805,  5.57114638,  6.48328621,  5.35667972,  6.56844672,\n",
       "        5.41801558,  5.6278272 ,  6.20558417,  6.21718171,  6.48963021,\n",
       "        3.24822766,  7.61876754,  5.98463607,  7.14725505,  6.26425508,\n",
       "        6.63387899,  4.19708341,  5.52033411,  7.02852765,  7.44167897,\n",
       "        5.22815124,  5.51442907,  6.498028  ,  5.55711386,  5.68258327,\n",
       "        5.24481457,  6.09667326,  5.7932403 ,  5.9377638 ,  5.62184191,\n",
       "        5.02817454,  4.65859674,  6.05257049,  4.59967147,  5.41305919,\n",
       "        6.25829218,  3.96493952,  7.82563332,  7.08667389,  6.36151237,\n",
       "        3.66034808,  4.85984759,  5.90038953,  6.35339211,  5.96641496,\n",
       "        4.53742329,  6.55407897,  6.57146585,  5.26343916,  5.51758058,\n",
       "        5.54063884,  5.84883861,  6.90360459,  5.50980435,  2.89974234,\n",
       "        4.75773451,  6.34284276,  6.92988686,  5.763428  ,  4.82471126,\n",
       "        6.19800589,  6.53347635,  5.55159097,  6.45189963,  5.32680672,\n",
       "        7.42886578,  4.82590505,  4.65644179,  6.99209683,  8.10892294,\n",
       "        7.1136674 ,  7.0182686 ,  6.8812201 ,  6.0384853 ,  5.75710968,\n",
       "        6.5242385 ,  5.98592555,  8.97125968,  7.07757757,  5.08988662,\n",
       "        6.55411052,  5.02304345,  6.53115084,  6.56079726,  4.773765  ,\n",
       "        5.13436847,  4.96891221,  5.38183342,  5.74075546,  6.27325897,\n",
       "        5.913534  ,  7.28545567,  7.41755611,  7.43114139,  4.35787002,\n",
       "        6.64754984,  6.38458461,  5.07732319,  5.57338649,  6.93219667,\n",
       "        6.65759712,  5.85178568,  7.28205014,  6.67757478,  6.70556713,\n",
       "        6.72622877,  7.03320597,  4.85135728,  6.60951563,  4.73654286,\n",
       "        6.65190217,  4.09936436,  7.13756901,  5.29377184,  6.22377861,\n",
       "        5.41844563,  5.19467322,  6.31795435,  6.77298922,  8.67216272,\n",
       "        6.50656377,  6.6658887 ,  5.3543023 ,  6.61796641,  7.03926328,\n",
       "        5.75860675,  5.55716258,  4.32939832,  5.96078981,  3.64100786,\n",
       "        6.76299036,  3.87228658,  5.21422261,  6.36887885,  7.26872066,\n",
       "        5.10023877,  6.93160146,  5.42217792,  4.54162567,  4.97111385,\n",
       "        6.77681814,  4.12319085,  6.38318142,  5.13891052,  7.62638477,\n",
       "        5.90483338,  6.31072369,  5.08576655,  3.5668253 ,  4.41897945,\n",
       "        6.42152605,  6.81021304,  4.28412377,  6.65257508,  4.50465155,\n",
       "        4.09870074,  6.51092231,  5.80983258,  6.0177914 ,  5.10023877,\n",
       "        5.91595954, 10.92554224,  6.13221525,  5.97660775,  6.97433011,\n",
       "        4.73782307,  5.16253044,  7.69761566,  5.58796457,  6.8195747 ,\n",
       "        6.60968077,  4.91587291,  3.90274754,  7.93479858,  5.21049165,\n",
       "        5.82513636,  3.90148191,  6.56159092,  7.65286798,  8.2521636 ,\n",
       "        7.6436333 ,  3.57164722,  5.4426533 ,  3.56287903,  6.95713702,\n",
       "        6.23564748,  7.02790027,  5.16301464,  5.74590081,  6.81838823,\n",
       "        6.09317845,  6.43171926,  6.5482493 ,  4.9262912 ,  6.64280872,\n",
       "        5.61289566,  6.44499606,  5.62588151,  6.51118195,  6.3678753 ,\n",
       "        5.7990057 ,  7.42198811,  3.66396052,  6.09286609,  7.18378648,\n",
       "        6.68604514,  4.32312972,  5.55838054,  7.17667968,  4.51891494,\n",
       "        5.23870707,  5.69498999,  5.47992621,  6.1946991 ,  6.38010381,\n",
       "        4.73895289,  6.45783902,  4.85984759,  6.29917138,  6.56665404,\n",
       "        4.64654858,  6.12813088,  6.11455639,  5.10168614,  4.88154661,\n",
       "        7.65980177,  7.03347051,  5.73778143,  6.7953405 ,  6.42678015,\n",
       "        6.91139892,  6.08122638,  6.43028038,  6.28591182,  4.83244707,\n",
       "        3.31736777,  5.37360451,  4.10698268,  6.94674255,  5.1725359 ,\n",
       "        6.90887183,  4.90796693,  6.99504302,  6.74837242,  6.93313774,\n",
       "        5.62173072,  5.73676263,  4.71947813,  4.63421239,  5.57406634,\n",
       "        7.54753435,  8.67843114,  7.4184136 ,  4.28361018,  6.98138289,\n",
       "        4.21763123,  4.76917637,  5.41844563,  5.1467714 ,  7.19151153,\n",
       "        6.36338622,  4.72738212,  6.58863057,  5.8757388 ,  5.9546358 ,\n",
       "        6.69986453,  5.71729646,  7.30845604,  6.1745866 ,  4.53214684,\n",
       "        2.20854123,  6.37625226,  6.84780537,  5.50417225,  6.15262273,\n",
       "        5.88651379,  6.16797305,  6.748811  ,  7.04144074,  6.8094977 ,\n",
       "        5.31057994,  5.5478278 ,  5.70334346,  7.1348728 ,  3.66227641,\n",
       "        6.94076271,  6.18172603,  6.36755091,  6.26924608,  6.30155635,\n",
       "        6.01584912,  5.24713715,  5.27288607,  4.39785788,  7.81971263,\n",
       "        3.88997163,  6.28438079,  6.81101764,  5.36245495,  4.49777405,\n",
       "        4.98356786,  5.61043074,  8.3148741 ,  7.62473087,  6.79285223,\n",
       "        3.36977146,  4.63976135,  7.42956268,  4.79441905,  8.95904527,\n",
       "        5.33427036,  6.14014773,  5.60211579,  4.92375469,  4.56752116,\n",
       "        7.17787852,  5.35127776,  6.25923662,  7.53788144,  4.24362837,\n",
       "        5.01686845,  5.20982164,  6.48247349,  5.84056068,  6.11198534,\n",
       "        7.12358194,  7.0004798 ,  5.54067379,  3.62764464,  5.75434265,\n",
       "        7.93835077,  6.28797332,  6.21339104,  7.33953093,  7.43449787,\n",
       "        5.61406332,  7.07785131,  5.39260922,  5.22183061,  5.24286903,\n",
       "        4.34802459,  3.58117117,  3.76090967,  5.94506983,  5.80121781,\n",
       "        6.11136259,  5.58533101,  4.06420575,  4.2577853 ,  3.1184019 ,\n",
       "        6.28633035,  6.21822045,  5.62183653,  3.77332146,  6.5601597 ])"
      ]
     },
     "execution_count": 271,
     "metadata": {},
     "output_type": "execute_result"
    }
   ],
   "source": [
    "y_predd"
   ]
  },
  {
   "cell_type": "code",
   "execution_count": 272,
   "id": "4b0d3f67",
   "metadata": {},
   "outputs": [
    {
     "data": {
      "text/plain": [
       "array([ 4.,  5.,  5.,  7.,  5.,  5.,  6.,  6.,  6.,  6.,  7.,  7.,  8.,\n",
       "        7.,  4.,  8.,  6.,  6.,  6.,  7.,  8.,  5.,  7.,  7.,  5.,  6.,\n",
       "        6.,  5.,  5.,  3.,  4.,  7.,  8.,  7.,  6.,  6.,  6.,  5.,  6.,\n",
       "        8.,  7.,  5.,  6.,  8.,  6.,  6.,  3.,  5.,  7.,  5.,  4.,  5.,\n",
       "        5.,  4.,  6.,  7.,  5.,  6.,  7.,  7.,  7.,  5.,  5.,  6.,  6.,\n",
       "        7.,  5.,  7.,  5.,  8.,  6.,  6.,  4.,  7.,  6.,  6.,  4.,  6.,\n",
       "        7.,  4.,  7.,  6.,  6.,  5.,  6.,  5.,  8.,  5.,  7.,  6.,  7.,\n",
       "        9.,  6.,  5.,  6.,  7.,  7.,  5.,  6.,  5.,  8.,  6.,  6.,  6.,\n",
       "        7.,  7.,  4.,  7.,  6.,  6.,  6.,  7.,  8.,  7.,  7.,  7.,  5.,\n",
       "        7.,  5.,  8.,  6.,  5.,  6.,  5.,  7.,  7.,  7.,  6.,  6.,  6.,\n",
       "        5.,  8.,  5.,  7.,  5.,  6.,  8.,  6.,  6.,  7.,  5.,  6.,  6.,\n",
       "        6.,  6.,  4.,  6.,  4.,  5.,  5.,  5.,  6.,  4.,  6.,  6.,  5.,\n",
       "        4.,  7.,  5.,  7.,  7.,  6.,  8.,  5.,  6.,  6.,  6.,  5.,  5.,\n",
       "        7.,  5.,  6.,  5.,  6.,  5.,  4.,  8.,  6.,  4.,  4.,  6.,  4.,\n",
       "        4.,  5.,  5.,  6.,  6.,  6.,  7.,  7.,  4.,  7.,  6.,  7.,  8.,\n",
       "        7.,  6.,  7.,  5.,  5.,  6.,  8.,  7.,  5.,  7.,  7.,  7.,  4.,\n",
       "        6.,  6.,  6.,  4.,  6.,  7.,  8.,  7.,  7.,  6.,  6.,  5.,  6.,\n",
       "        7.,  4.,  7.,  5.,  6.,  7.,  6.,  7.,  5.,  7.,  6.,  6.,  6.,\n",
       "        7.,  6.,  6.,  6.,  5.,  7.,  4.,  6.,  6.,  6.,  4.,  5.,  6.,\n",
       "        7.,  5.,  5.,  4.,  5.,  5.,  7.,  5.,  5.,  8.,  6.,  5.,  5.,\n",
       "        3.,  5.,  5.,  8.,  7.,  4.,  4.,  7.,  5.,  6.,  6.,  4.,  5.,\n",
       "        6.,  8.,  6.,  7.,  6.,  5.,  6.,  7.,  4.,  7.,  7.,  6.,  6.,\n",
       "        5.,  5.,  8.,  7.,  6.,  6.,  6.,  5.,  7.,  7.,  5.,  5.,  7.,\n",
       "        7.,  6.,  8.,  4.,  4.,  7.,  6.,  5.,  7.,  5.,  5.,  8.,  7.,\n",
       "        6.,  7.,  4.,  5.,  7.,  5.,  6.,  4.,  6.,  8.,  5.,  7.,  5.,\n",
       "        7.,  6.,  4.,  6.,  6.,  6.,  8.,  5.,  5.,  5.,  7.,  5.,  7.,\n",
       "        6.,  6.,  6.,  5.,  4.,  5.,  7.,  6.,  6.,  7.,  6.,  6.,  7.,\n",
       "        6.,  6.,  7.,  6.,  6.,  7.,  6.,  5.,  6.,  7.,  6.,  7.,  4.,\n",
       "        6.,  7.,  8.,  5.,  4.,  6.,  5.,  6.,  4.,  6.,  7.,  6.,  7.,\n",
       "        7.,  6.,  7.,  4.,  6.,  5.,  7.,  6.,  6.,  6.,  7.,  8.,  6.,\n",
       "       10.,  7.,  6.,  7.,  7.,  8.,  5.,  7.,  5.,  6.,  7.,  5.,  8.,\n",
       "        6.,  5.,  8.,  7.,  6.,  6.,  5.,  5.,  4.,  7.,  5.,  6.,  4.,\n",
       "        4.,  5.,  6.,  6.,  7.,  4.,  6.,  5.,  5.,  6.,  5.,  6.,  6.,\n",
       "        7.,  6.,  4.,  7.,  7.,  4.,  5.,  5.,  7.,  5.,  5.,  8.,  8.,\n",
       "        6.,  7.,  7.,  5.,  7.,  7.,  7.,  8.,  7.,  5.,  5.,  5.,  6.,\n",
       "        6.,  2.,  6.,  4.,  5.,  8.,  6.,  6.,  6.,  6.,  5.,  7.,  6.,\n",
       "        6.,  6.,  6.,  3.,  8.,  6.,  6.,  7.,  4.,  6.,  6.,  6.,  6.,\n",
       "        6.,  6.,  7.,  7.,  5.,  7.,  6.,  3.,  6.,  4.,  4.,  7.,  7.,\n",
       "        6.,  7.,  7.,  5.,  3.,  5.,  5.,  7.,  6.,  4.,  5.,  7.,  6.,\n",
       "        7.,  6.,  5.,  5.,  8.,  8.,  6.,  6.,  6.,  6.,  6.,  5.,  5.,\n",
       "        6.,  8.,  4.,  5.,  6.,  6.,  5.,  7.,  5.,  5.,  5.,  7.,  6.,\n",
       "        5.,  6.,  5.,  7.,  7.,  6.,  7.,  6.,  6.,  6.,  6.,  6.,  6.,\n",
       "        5.,  6.,  7.,  4.,  5.,  4.,  7.,  6.,  6.,  6.,  7.,  8.,  6.,\n",
       "        7.,  6.,  8.,  7.,  6.,  4.,  6.,  7.,  6.,  4.,  4.,  6.,  4.,\n",
       "        5.,  6.,  5.,  7.,  6.,  8.,  6.,  7.,  7.,  7.,  4.,  7.,  5.,\n",
       "        7.,  5.,  7.,  6.,  7.,  7.,  6.,  5.,  7.,  5.,  5.,  9.,  7.,\n",
       "        7.,  7.,  6.,  6.,  7.,  5.,  5.,  6.,  6.,  6.,  7.,  7.,  5.,\n",
       "        7.,  7.,  5.,  7.,  5.,  5.,  7.,  6.,  6.,  7.,  7.,  6.,  7.,\n",
       "        6.,  7.,  6.,  6.,  5.,  7.,  5.,  6.,  6.,  6.,  6.,  3.,  8.,\n",
       "        6.,  7.,  6.,  7.,  4.,  6.,  7.,  7.,  5.,  6.,  6.,  6.,  6.,\n",
       "        5.,  6.,  6.,  6.,  6.,  5.,  5.,  6.,  5.,  5.,  6.,  4.,  8.,\n",
       "        7.,  6.,  4.,  5.,  6.,  6.,  6.,  5.,  7.,  7.,  5.,  6.,  6.,\n",
       "        6.,  7.,  6.,  3.,  5.,  6.,  7.,  6.,  5.,  6.,  7.,  6.,  6.,\n",
       "        5.,  7.,  5.,  5.,  7.,  8.,  7.,  7.,  7.,  6.,  6.,  7.,  6.,\n",
       "        9.,  7.,  5.,  7.,  5.,  7.,  7.,  5.,  5.,  5.,  5.,  6.,  6.,\n",
       "        6.,  7.,  7.,  7.,  4.,  7.,  6.,  5.,  6.,  7.,  7.,  6.,  7.,\n",
       "        7.,  7.,  7.,  7.,  5.,  7.,  5.,  7.,  4.,  7.,  5.,  6.,  5.,\n",
       "        5.,  6.,  7.,  9.,  7.,  7.,  5.,  7.,  7.,  6.,  6.,  4.,  6.,\n",
       "        4.,  7.,  4.,  5.,  6.,  7.,  5.,  7.,  5.,  5.,  5.,  7.,  4.,\n",
       "        6.,  5.,  8.,  6.,  6.,  5.,  4.,  4.,  6.,  7.,  4.,  7.,  5.,\n",
       "        4.,  7.,  6.,  6.,  5.,  6., 11.,  6.,  6.,  7.,  5.,  5.,  8.,\n",
       "        6.,  7.,  7.,  5.,  4.,  8.,  5.,  6.,  4.,  7.,  8.,  8.,  8.,\n",
       "        4.,  5.,  4.,  7.,  6.,  7.,  5.,  6.,  7.,  6.,  6.,  7.,  5.,\n",
       "        7.,  6.,  6.,  6.,  7.,  6.,  6.,  7.,  4.,  6.,  7.,  7.,  4.,\n",
       "        6.,  7.,  5.,  5.,  6.,  5.,  6.,  6.,  5.,  6.,  5.,  6.,  7.,\n",
       "        5.,  6.,  6.,  5.,  5.,  8.,  7.,  6.,  7.,  6.,  7.,  6.,  6.,\n",
       "        6.,  5.,  3.,  5.,  4.,  7.,  5.,  7.,  5.,  7.,  7.,  7.,  6.,\n",
       "        6.,  5.,  5.,  6.,  8.,  9.,  7.,  4.,  7.,  4.,  5.,  5.,  5.,\n",
       "        7.,  6.,  5.,  7.,  6.,  6.,  7.,  6.,  7.,  6.,  5.,  2.,  6.,\n",
       "        7.,  6.,  6.,  6.,  6.,  7.,  7.,  7.,  5.,  6.,  6.,  7.,  4.,\n",
       "        7.,  6.,  6.,  6.,  6.,  6.,  5.,  5.,  4.,  8.,  4.,  6.,  7.,\n",
       "        5.,  4.,  5.,  6.,  8.,  8.,  7.,  3.,  5.,  7.,  5.,  9.,  5.,\n",
       "        6.,  6.,  5.,  5.,  7.,  5.,  6.,  8.,  4.,  5.,  5.,  6.,  6.,\n",
       "        6.,  7.,  7.,  6.,  4.,  6.,  8.,  6.,  6.,  7.,  7.,  6.,  7.,\n",
       "        5.,  5.,  5.,  4.,  4.,  4.,  6.,  6.,  6.,  6.,  4.,  4.,  3.,\n",
       "        6.,  6.,  6.,  4.,  7.])"
      ]
     },
     "execution_count": 272,
     "metadata": {},
     "output_type": "execute_result"
    }
   ],
   "source": [
    "y_predd=y_predd.round()\n",
    "y_predd"
   ]
  },
  {
   "cell_type": "code",
   "execution_count": 273,
   "id": "db1aaf5b",
   "metadata": {},
   "outputs": [
    {
     "data": {
      "text/plain": [
       "1.2948979591836736"
      ]
     },
     "execution_count": 273,
     "metadata": {},
     "output_type": "execute_result"
    }
   ],
   "source": [
    "metrics.mean_squared_error(y_test,y_predd)"
   ]
  },
  {
   "cell_type": "code",
   "execution_count": 274,
   "id": "13b36508",
   "metadata": {},
   "outputs": [
    {
     "data": {
      "text/plain": [
       "0.14445254292193066"
      ]
     },
     "execution_count": 274,
     "metadata": {},
     "output_type": "execute_result"
    }
   ],
   "source": [
    "metrics.mean_absolute_percentage_error(y_test,y_predd)"
   ]
  },
  {
   "cell_type": "code",
   "execution_count": 275,
   "id": "dc03e2e8",
   "metadata": {},
   "outputs": [
    {
     "data": {
      "text/plain": [
       "-0.6495384125636672"
      ]
     },
     "execution_count": 275,
     "metadata": {},
     "output_type": "execute_result"
    }
   ],
   "source": [
    "metrics.r2_score(y_test,y_predd)"
   ]
  },
  {
   "cell_type": "code",
   "execution_count": 278,
   "id": "589cab99",
   "metadata": {},
   "outputs": [
    {
     "name": "stdout",
     "output_type": "stream",
     "text": [
      "0.376530612244898\n"
     ]
    }
   ],
   "source": [
    "print(metrics.accuracy_score(y_test,y_predd)) #tacnost"
   ]
  },
  {
   "cell_type": "code",
   "execution_count": 277,
   "id": "ec8d3ea6",
   "metadata": {},
   "outputs": [
    {
     "name": "stdout",
     "output_type": "stream",
     "text": [
      "              precision    recall  f1-score   support\n",
      "\n",
      "         2.0       0.00      0.00      0.00         0\n",
      "         3.0       0.09      0.25      0.13         4\n",
      "         4.0       0.14      0.39      0.21        33\n",
      "         5.0       0.46      0.35      0.40       291\n",
      "         6.0       0.52      0.40      0.45       440\n",
      "         7.0       0.29      0.42      0.34       176\n",
      "         8.0       0.07      0.11      0.09        35\n",
      "         9.0       0.00      0.00      0.00         1\n",
      "        10.0       0.00      0.00      0.00         0\n",
      "        11.0       0.00      0.00      0.00         0\n",
      "\n",
      "    accuracy                           0.38       980\n",
      "   macro avg       0.16      0.19      0.16       980\n",
      "weighted avg       0.43      0.38      0.39       980\n",
      "\n"
     ]
    }
   ],
   "source": [
    "print(metrics.classification_report(y_test, y_predd))"
   ]
  },
  {
   "cell_type": "markdown",
   "id": "4435a9ae",
   "metadata": {},
   "source": [
    "## AdaBoost"
   ]
  },
  {
   "cell_type": "markdown",
   "id": "9b26c81d",
   "metadata": {},
   "source": [
    "Ada boost je model koji se zasniva na promenljivim tezinama instanci. Prvo se pravi bazni model."
   ]
  },
  {
   "cell_type": "code",
   "execution_count": 244,
   "id": "3fca19b4",
   "metadata": {},
   "outputs": [],
   "source": [
    "from sklearn.tree import DecisionTreeClassifier #dodato stablo odlucivanja\n",
    "base_estimator = DecisionTreeClassifier(max_depth=10) #izabrana dubina 10"
   ]
  },
  {
   "cell_type": "code",
   "execution_count": 245,
   "id": "084bacd4",
   "metadata": {},
   "outputs": [],
   "source": [
    "#pravljenje ansambla\n",
    "adaboost = ensemble.AdaBoostClassifier(base_estimator=base_estimator, n_estimators=50,random_state=7)"
   ]
  },
  {
   "cell_type": "code",
   "execution_count": 246,
   "id": "9a27b5c8",
   "metadata": {},
   "outputs": [
    {
     "data": {
      "text/plain": [
       "AdaBoostClassifier(base_estimator=DecisionTreeClassifier(max_depth=10),\n",
       "                   random_state=7)"
      ]
     },
     "execution_count": 246,
     "metadata": {},
     "output_type": "execute_result"
    }
   ],
   "source": [
    "# treniranje modela \n",
    "adaboost.fit(x_train, y_train)"
   ]
  },
  {
   "cell_type": "code",
   "execution_count": 247,
   "id": "fdf4768f",
   "metadata": {},
   "outputs": [],
   "source": [
    "# predvidjanje na test skupu \n",
    "y_preddd = adaboost.predict(x_test)"
   ]
  },
  {
   "cell_type": "code",
   "execution_count": 248,
   "id": "46312131",
   "metadata": {},
   "outputs": [
    {
     "name": "stdout",
     "output_type": "stream",
     "text": [
      "              precision    recall  f1-score   support\n",
      "\n",
      "           3       0.00      0.00      0.00         4\n",
      "           4       0.40      0.12      0.19        33\n",
      "           5       0.71      0.59      0.65       291\n",
      "           6       0.61      0.81      0.70       440\n",
      "           7       0.63      0.48      0.55       176\n",
      "           8       0.90      0.26      0.40        35\n",
      "           9       0.00      0.00      0.00         1\n",
      "\n",
      "    accuracy                           0.64       980\n",
      "   macro avg       0.47      0.32      0.35       980\n",
      "weighted avg       0.65      0.64      0.62       980\n",
      "\n"
     ]
    }
   ],
   "source": [
    "print(metrics.classification_report(y_test, y_preddd))"
   ]
  },
  {
   "cell_type": "code",
   "execution_count": 249,
   "id": "180d1946",
   "metadata": {},
   "outputs": [
    {
     "name": "stdout",
     "output_type": "stream",
     "text": [
      "[[  0   0   0   3   1   0   0]\n",
      " [  0   4  17  11   1   0   0]\n",
      " [  0   5 173 110   3   0   0]\n",
      " [  0   1  48 356  35   0   0]\n",
      " [  0   0   4  86  85   1   0]\n",
      " [  0   0   0  18   8   9   0]\n",
      " [  0   0   0   0   1   0   0]]\n"
     ]
    }
   ],
   "source": [
    "print(metrics.confusion_matrix(y_test,y_preddd))"
   ]
  },
  {
   "cell_type": "code",
   "execution_count": 250,
   "id": "fea5353f",
   "metadata": {},
   "outputs": [
    {
     "name": "stdout",
     "output_type": "stream",
     "text": [
      "0.639795918367347\n"
     ]
    }
   ],
   "source": [
    "print(metrics.accuracy_score(y_test,y_preddd)) #tacnost"
   ]
  },
  {
   "cell_type": "code",
   "execution_count": 251,
   "id": "09720684",
   "metadata": {},
   "outputs": [
    {
     "data": {
      "text/plain": [
       "0.5244897959183673"
      ]
     },
     "execution_count": 251,
     "metadata": {},
     "output_type": "execute_result"
    }
   ],
   "source": [
    "metrics.mean_squared_error(y_test,y_preddd)"
   ]
  },
  {
   "cell_type": "code",
   "execution_count": 252,
   "id": "35dc69cb",
   "metadata": {},
   "outputs": [
    {
     "data": {
      "text/plain": [
       "0.33186544991511036"
      ]
     },
     "execution_count": 252,
     "metadata": {},
     "output_type": "execute_result"
    }
   ],
   "source": [
    "metrics.r2_score(y_test,y_preddd)"
   ]
  },
  {
   "cell_type": "code",
   "execution_count": 253,
   "id": "779f6584",
   "metadata": {},
   "outputs": [
    {
     "data": {
      "text/plain": [
       "0.0739731130547457"
      ]
     },
     "execution_count": 253,
     "metadata": {},
     "output_type": "execute_result"
    }
   ],
   "source": [
    "metrics.mean_absolute_percentage_error(y_test,y_preddd)"
   ]
  },
  {
   "cell_type": "markdown",
   "id": "6b7348b7",
   "metadata": {},
   "source": [
    "### Multinomijalna logisticka regresija"
   ]
  },
  {
   "cell_type": "code",
   "execution_count": 63,
   "id": "a5b5dc0b",
   "metadata": {},
   "outputs": [],
   "source": [
    "mlr=linear_model.LogisticRegression(multi_class='multinomial',max_iter=1000,solver='newton-cg')"
   ]
  },
  {
   "cell_type": "code",
   "execution_count": 64,
   "id": "38799d81",
   "metadata": {},
   "outputs": [
    {
     "data": {
      "text/plain": [
       "LogisticRegression(max_iter=1000, multi_class='multinomial', solver='newton-cg')"
      ]
     },
     "execution_count": 64,
     "metadata": {},
     "output_type": "execute_result"
    }
   ],
   "source": [
    "mlr.fit(x_train,y_train)"
   ]
  },
  {
   "cell_type": "code",
   "execution_count": 65,
   "id": "578a623f",
   "metadata": {},
   "outputs": [],
   "source": [
    "y_predddd=mlr.predict(x_test)"
   ]
  },
  {
   "cell_type": "code",
   "execution_count": 66,
   "id": "35aafc6b",
   "metadata": {},
   "outputs": [
    {
     "data": {
      "text/plain": [
       "array([5, 6, 6, 7, 6, 5, 6, 5, 6, 6, 6, 7, 6, 6, 5, 6, 6, 6, 6, 7, 6, 5,\n",
       "       7, 5, 5, 6, 6, 5, 6, 5, 6, 7, 6, 6, 6, 6, 6, 5, 6, 6, 6, 5, 5, 7,\n",
       "       6, 6, 4, 4, 6, 5, 6, 6, 5, 5, 6, 6, 5, 6, 6, 6, 6, 5, 5, 6, 6, 6,\n",
       "       5, 7, 5, 6, 5, 6, 5, 7, 6, 5, 6, 6, 7, 6, 7, 6, 6, 6, 6, 6, 7, 5,\n",
       "       6, 5, 6, 7, 6, 6, 6, 5, 6, 6, 6, 5, 6, 6, 6, 6, 7, 7, 5, 6, 6, 6,\n",
       "       6, 5, 7, 6, 6, 6, 6, 6, 6, 7, 6, 5, 5, 5, 5, 6, 6, 5, 6, 6, 6, 7,\n",
       "       5, 6, 6, 6, 6, 6, 6, 6, 5, 6, 6, 6, 6, 5, 6, 5, 6, 5, 5, 6, 5, 6,\n",
       "       6, 6, 5, 6, 5, 7, 6, 6, 6, 6, 6, 6, 5, 5, 5, 6, 6, 6, 5, 6, 5, 5,\n",
       "       7, 6, 5, 5, 6, 5, 5, 5, 6, 5, 6, 6, 6, 6, 5, 6, 5, 6, 7, 6, 6, 6,\n",
       "       6, 6, 6, 7, 6, 5, 6, 7, 6, 5, 6, 6, 6, 5, 6, 6, 7, 6, 6, 6, 6, 6,\n",
       "       5, 6, 5, 6, 5, 6, 6, 5, 7, 6, 7, 6, 6, 6, 6, 5, 6, 6, 6, 6, 5, 6,\n",
       "       6, 6, 5, 6, 6, 6, 5, 5, 6, 6, 5, 6, 6, 6, 7, 5, 5, 5, 5, 5, 6, 6,\n",
       "       7, 5, 5, 6, 5, 6, 6, 5, 5, 6, 7, 6, 6, 6, 5, 6, 6, 5, 6, 6, 6, 6,\n",
       "       6, 5, 7, 6, 6, 6, 6, 5, 7, 6, 6, 6, 7, 7, 5, 7, 5, 4, 7, 6, 5, 7,\n",
       "       5, 5, 7, 6, 6, 6, 5, 6, 6, 6, 6, 5, 6, 7, 5, 6, 5, 6, 6, 6, 6, 6,\n",
       "       5, 6, 5, 6, 6, 6, 5, 6, 6, 6, 6, 5, 5, 6, 7, 6, 5, 6, 6, 6, 6, 6,\n",
       "       6, 5, 7, 6, 6, 6, 5, 6, 6, 6, 6, 5, 6, 6, 7, 6, 5, 6, 6, 6, 5, 5,\n",
       "       6, 6, 7, 6, 6, 7, 5, 6, 6, 6, 6, 6, 5, 6, 6, 5, 6, 6, 6, 5, 6, 6,\n",
       "       5, 5, 5, 6, 6, 6, 7, 6, 6, 7, 6, 6, 6, 6, 6, 6, 7, 6, 6, 5, 5, 5,\n",
       "       6, 6, 6, 5, 6, 6, 5, 6, 5, 6, 6, 6, 5, 5, 6, 6, 5, 6, 5, 6, 5, 6,\n",
       "       6, 7, 6, 7, 7, 5, 6, 6, 6, 6, 6, 6, 5, 5, 5, 6, 5, 6, 5, 6, 7, 6,\n",
       "       6, 6, 6, 5, 7, 5, 6, 6, 6, 5, 6, 6, 5, 6, 5, 5, 6, 6, 6, 6, 6, 7,\n",
       "       7, 6, 7, 6, 5, 6, 5, 6, 6, 6, 6, 6, 6, 5, 5, 6, 5, 6, 6, 5, 6, 6,\n",
       "       6, 6, 6, 5, 5, 7, 7, 6, 6, 6, 6, 6, 5, 6, 6, 6, 5, 5, 6, 6, 5, 6,\n",
       "       5, 6, 5, 7, 5, 6, 6, 6, 6, 7, 6, 6, 6, 6, 6, 6, 5, 6, 6, 6, 6, 5,\n",
       "       5, 5, 6, 6, 5, 6, 5, 7, 6, 6, 6, 6, 7, 6, 6, 6, 6, 6, 5, 5, 5, 6,\n",
       "       5, 6, 6, 6, 6, 6, 5, 6, 6, 6, 5, 7, 6, 7, 5, 6, 6, 6, 6, 6, 5, 6,\n",
       "       6, 6, 8, 5, 6, 6, 6, 6, 6, 6, 5, 6, 6, 6, 6, 6, 6, 6, 6, 6, 6, 6,\n",
       "       6, 6, 5, 6, 7, 6, 6, 6, 6, 7, 6, 6, 5, 6, 6, 5, 5, 6, 6, 5, 6, 6,\n",
       "       6, 6, 6, 5, 6, 7, 6, 6, 6, 6, 6, 6, 6, 6, 6, 6, 5, 5, 6, 5, 5, 6,\n",
       "       6, 5, 7, 7, 6, 5, 6, 6, 6, 6, 5, 6, 6, 5, 5, 6, 6, 6, 6, 5, 5, 6,\n",
       "       6, 5, 5, 6, 6, 6, 6, 6, 6, 5, 4, 6, 7, 6, 7, 6, 6, 6, 6, 6, 7, 6,\n",
       "       6, 6, 6, 6, 6, 5, 5, 5, 5, 6, 5, 6, 6, 6, 7, 5, 6, 6, 5, 6, 5, 6,\n",
       "       6, 6, 7, 6, 6, 6, 5, 6, 6, 6, 6, 7, 6, 6, 5, 6, 6, 6, 7, 6, 6, 5,\n",
       "       7, 7, 6, 6, 5, 6, 5, 6, 5, 6, 6, 7, 5, 6, 6, 5, 6, 6, 5, 6, 5, 7,\n",
       "       5, 6, 6, 5, 6, 6, 6, 5, 6, 5, 5, 6, 5, 5, 5, 6, 6, 6, 5, 6, 5, 6,\n",
       "       6, 6, 6, 5, 6, 4, 7, 5, 6, 5, 6, 7, 6, 7, 6, 5, 5, 6, 6, 6, 6, 6,\n",
       "       6, 6, 6, 6, 5, 6, 6, 6, 6, 6, 6, 6, 7, 5, 6, 6, 6, 5, 6, 6, 5, 6,\n",
       "       6, 5, 6, 5, 5, 6, 6, 5, 6, 6, 6, 6, 5, 6, 6, 6, 5, 7, 6, 6, 6, 6,\n",
       "       6, 6, 5, 5, 5, 6, 5, 6, 5, 6, 6, 7, 5, 6, 6, 6, 6, 7, 6, 6, 6, 6,\n",
       "       5, 6, 5, 6, 5, 6, 5, 6, 6, 6, 6, 6, 6, 6, 5, 5, 6, 6, 6, 6, 6, 6,\n",
       "       6, 6, 6, 6, 6, 6, 6, 6, 6, 6, 6, 7, 6, 6, 4, 5, 5, 6, 5, 5, 6, 5,\n",
       "       5, 6, 5, 7, 7, 7, 5, 6, 6, 5, 7, 5, 5, 6, 5, 5, 5, 5, 6, 7, 5, 5,\n",
       "       6, 6, 6, 6, 6, 6, 6, 5, 6, 7, 6, 6, 7, 6, 6, 6, 5, 6, 6, 5, 5, 5,\n",
       "       6, 6, 6, 5, 5, 5, 5, 6, 6, 6, 5, 6], dtype=int64)"
      ]
     },
     "execution_count": 66,
     "metadata": {},
     "output_type": "execute_result"
    }
   ],
   "source": [
    "y_predddd"
   ]
  },
  {
   "cell_type": "code",
   "execution_count": 67,
   "id": "ad7e980a",
   "metadata": {},
   "outputs": [
    {
     "name": "stdout",
     "output_type": "stream",
     "text": [
      "[[  0   0   1   3   0   0   0]\n",
      " [  0   3  19  10   1   0   0]\n",
      " [  0   1 162 125   2   1   0]\n",
      " [  0   2  79 324  35   0   0]\n",
      " [  0   0   6 128  42   0   0]\n",
      " [  0   0   1  23  11   0   0]\n",
      " [  0   0   0   0   1   0   0]]\n"
     ]
    }
   ],
   "source": [
    "print(metrics.confusion_matrix(y_test,y_predddd))"
   ]
  },
  {
   "cell_type": "code",
   "execution_count": 68,
   "id": "33746420",
   "metadata": {},
   "outputs": [
    {
     "name": "stdout",
     "output_type": "stream",
     "text": [
      "              precision    recall  f1-score   support\n",
      "\n",
      "           3       0.00      0.00      0.00         4\n",
      "           4       0.50      0.09      0.15        33\n",
      "           5       0.60      0.56      0.58       291\n",
      "           6       0.53      0.74      0.62       440\n",
      "           7       0.46      0.24      0.31       176\n",
      "           8       0.00      0.00      0.00        35\n",
      "           9       0.00      0.00      0.00         1\n",
      "\n",
      "    accuracy                           0.54       980\n",
      "   macro avg       0.30      0.23      0.24       980\n",
      "weighted avg       0.52      0.54      0.51       980\n",
      "\n"
     ]
    }
   ],
   "source": [
    "print(metrics.classification_report(y_test,y_predddd))"
   ]
  },
  {
   "cell_type": "code",
   "execution_count": 69,
   "id": "18e386bd",
   "metadata": {},
   "outputs": [
    {
     "data": {
      "text/plain": [
       "0.6448979591836734"
      ]
     },
     "execution_count": 69,
     "metadata": {},
     "output_type": "execute_result"
    }
   ],
   "source": [
    "metrics.mean_squared_error(y_test,y_predddd)"
   ]
  },
  {
   "cell_type": "code",
   "execution_count": 70,
   "id": "28d2dea9",
   "metadata": {},
   "outputs": [
    {
     "data": {
      "text/plain": [
       "0.1784804753820034"
      ]
     },
     "execution_count": 70,
     "metadata": {},
     "output_type": "execute_result"
    }
   ],
   "source": [
    "metrics.r2_score(y_test,y_predddd)"
   ]
  },
  {
   "cell_type": "code",
   "execution_count": 71,
   "id": "28b3c650",
   "metadata": {},
   "outputs": [
    {
     "data": {
      "text/plain": [
       "0.0899546485260771"
      ]
     },
     "execution_count": 71,
     "metadata": {},
     "output_type": "execute_result"
    }
   ],
   "source": [
    "metrics.mean_absolute_percentage_error(y_test,y_predddd)"
   ]
  },
  {
   "cell_type": "code",
   "execution_count": null,
   "id": "72ede0db",
   "metadata": {},
   "outputs": [],
   "source": []
  }
 ],
 "metadata": {
  "kernelspec": {
   "display_name": "Python 3 (ipykernel)",
   "language": "python",
   "name": "python3"
  },
  "language_info": {
   "codemirror_mode": {
    "name": "ipython",
    "version": 3
   },
   "file_extension": ".py",
   "mimetype": "text/x-python",
   "name": "python",
   "nbconvert_exporter": "python",
   "pygments_lexer": "ipython3",
   "version": "3.9.13"
  }
 },
 "nbformat": 4,
 "nbformat_minor": 5
}
