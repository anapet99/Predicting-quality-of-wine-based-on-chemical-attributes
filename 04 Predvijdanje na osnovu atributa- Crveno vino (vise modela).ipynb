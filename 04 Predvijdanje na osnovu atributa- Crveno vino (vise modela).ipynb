{
 "cells": [
  {
   "cell_type": "markdown",
   "id": "229d8fef",
   "metadata": {},
   "source": [
    "# Skup crvenog vina\n",
    "### Ucitavanje podataka"
   ]
  },
  {
   "cell_type": "code",
   "execution_count": 1,
   "id": "b7388887",
   "metadata": {},
   "outputs": [],
   "source": [
    "import numpy as np\n",
    "import matplotlib.pyplot as plt\n",
    "import pandas as pd\n",
    "import warnings\n",
    "warnings.filterwarnings('ignore')\n",
    "from sklearn import tree\n",
    "from sklearn import ensemble\n",
    "from sklearn import metrics\n",
    "import seaborn as sns\n",
    "from sklearn import model_selection\n",
    "from sklearn import linear_model\n",
    "from sklearn import metrics\n",
    "from sklearn import preprocessing\n",
    "from sklearn import feature_selection\n",
    "from sklearn import neighbors\n",
    "from sklearn.neighbors import KNeighborsClassifier"
   ]
  },
  {
   "cell_type": "code",
   "execution_count": 2,
   "id": "18cccbad",
   "metadata": {},
   "outputs": [],
   "source": [
    "np.random.seed(7)"
   ]
  },
  {
   "cell_type": "code",
   "execution_count": 3,
   "id": "c3279b86",
   "metadata": {},
   "outputs": [],
   "source": [
    "data_red=pd.read_csv('winequality-red.csv',delimiter=';') #ucitavanje parametara belog vina"
   ]
  },
  {
   "cell_type": "code",
   "execution_count": 4,
   "id": "e676abbf",
   "metadata": {},
   "outputs": [
    {
     "data": {
      "text/html": [
       "<div>\n",
       "<style scoped>\n",
       "    .dataframe tbody tr th:only-of-type {\n",
       "        vertical-align: middle;\n",
       "    }\n",
       "\n",
       "    .dataframe tbody tr th {\n",
       "        vertical-align: top;\n",
       "    }\n",
       "\n",
       "    .dataframe thead th {\n",
       "        text-align: right;\n",
       "    }\n",
       "</style>\n",
       "<table border=\"1\" class=\"dataframe\">\n",
       "  <thead>\n",
       "    <tr style=\"text-align: right;\">\n",
       "      <th></th>\n",
       "      <th>fixed acidity</th>\n",
       "      <th>volatile acidity</th>\n",
       "      <th>citric acid</th>\n",
       "      <th>residual sugar</th>\n",
       "      <th>chlorides</th>\n",
       "      <th>free sulfur dioxide</th>\n",
       "      <th>total sulfur dioxide</th>\n",
       "      <th>density</th>\n",
       "      <th>pH</th>\n",
       "      <th>sulphates</th>\n",
       "      <th>alcohol</th>\n",
       "      <th>quality</th>\n",
       "    </tr>\n",
       "  </thead>\n",
       "  <tbody>\n",
       "    <tr>\n",
       "      <th>0</th>\n",
       "      <td>7.4</td>\n",
       "      <td>0.70</td>\n",
       "      <td>0.00</td>\n",
       "      <td>1.9</td>\n",
       "      <td>0.076</td>\n",
       "      <td>11.0</td>\n",
       "      <td>34.0</td>\n",
       "      <td>0.9978</td>\n",
       "      <td>3.51</td>\n",
       "      <td>0.56</td>\n",
       "      <td>9.4</td>\n",
       "      <td>5</td>\n",
       "    </tr>\n",
       "    <tr>\n",
       "      <th>1</th>\n",
       "      <td>7.8</td>\n",
       "      <td>0.88</td>\n",
       "      <td>0.00</td>\n",
       "      <td>2.6</td>\n",
       "      <td>0.098</td>\n",
       "      <td>25.0</td>\n",
       "      <td>67.0</td>\n",
       "      <td>0.9968</td>\n",
       "      <td>3.20</td>\n",
       "      <td>0.68</td>\n",
       "      <td>9.8</td>\n",
       "      <td>5</td>\n",
       "    </tr>\n",
       "    <tr>\n",
       "      <th>2</th>\n",
       "      <td>7.8</td>\n",
       "      <td>0.76</td>\n",
       "      <td>0.04</td>\n",
       "      <td>2.3</td>\n",
       "      <td>0.092</td>\n",
       "      <td>15.0</td>\n",
       "      <td>54.0</td>\n",
       "      <td>0.9970</td>\n",
       "      <td>3.26</td>\n",
       "      <td>0.65</td>\n",
       "      <td>9.8</td>\n",
       "      <td>5</td>\n",
       "    </tr>\n",
       "    <tr>\n",
       "      <th>3</th>\n",
       "      <td>11.2</td>\n",
       "      <td>0.28</td>\n",
       "      <td>0.56</td>\n",
       "      <td>1.9</td>\n",
       "      <td>0.075</td>\n",
       "      <td>17.0</td>\n",
       "      <td>60.0</td>\n",
       "      <td>0.9980</td>\n",
       "      <td>3.16</td>\n",
       "      <td>0.58</td>\n",
       "      <td>9.8</td>\n",
       "      <td>6</td>\n",
       "    </tr>\n",
       "    <tr>\n",
       "      <th>4</th>\n",
       "      <td>7.4</td>\n",
       "      <td>0.70</td>\n",
       "      <td>0.00</td>\n",
       "      <td>1.9</td>\n",
       "      <td>0.076</td>\n",
       "      <td>11.0</td>\n",
       "      <td>34.0</td>\n",
       "      <td>0.9978</td>\n",
       "      <td>3.51</td>\n",
       "      <td>0.56</td>\n",
       "      <td>9.4</td>\n",
       "      <td>5</td>\n",
       "    </tr>\n",
       "  </tbody>\n",
       "</table>\n",
       "</div>"
      ],
      "text/plain": [
       "   fixed acidity  volatile acidity  citric acid  residual sugar  chlorides  \\\n",
       "0            7.4              0.70         0.00             1.9      0.076   \n",
       "1            7.8              0.88         0.00             2.6      0.098   \n",
       "2            7.8              0.76         0.04             2.3      0.092   \n",
       "3           11.2              0.28         0.56             1.9      0.075   \n",
       "4            7.4              0.70         0.00             1.9      0.076   \n",
       "\n",
       "   free sulfur dioxide  total sulfur dioxide  density    pH  sulphates  \\\n",
       "0                 11.0                  34.0   0.9978  3.51       0.56   \n",
       "1                 25.0                  67.0   0.9968  3.20       0.68   \n",
       "2                 15.0                  54.0   0.9970  3.26       0.65   \n",
       "3                 17.0                  60.0   0.9980  3.16       0.58   \n",
       "4                 11.0                  34.0   0.9978  3.51       0.56   \n",
       "\n",
       "   alcohol  quality  \n",
       "0      9.4        5  \n",
       "1      9.8        5  \n",
       "2      9.8        5  \n",
       "3      9.8        6  \n",
       "4      9.4        5  "
      ]
     },
     "execution_count": 4,
     "metadata": {},
     "output_type": "execute_result"
    }
   ],
   "source": [
    "data_red.head() #prvih 5, izgled tabele"
   ]
  },
  {
   "cell_type": "code",
   "execution_count": 5,
   "id": "021fc827",
   "metadata": {},
   "outputs": [],
   "source": [
    "y_red=data_red['quality'] #ciljna promenljiva, uzima vrednosti od 1-10, ocena kvaliteta vina"
   ]
  },
  {
   "cell_type": "code",
   "execution_count": 6,
   "id": "86b1d804",
   "metadata": {},
   "outputs": [
    {
     "data": {
      "text/plain": [
       "0    5\n",
       "1    5\n",
       "2    5\n",
       "3    6\n",
       "4    5\n",
       "Name: quality, dtype: int64"
      ]
     },
     "execution_count": 6,
     "metadata": {},
     "output_type": "execute_result"
    }
   ],
   "source": [
    "y_red.head()"
   ]
  },
  {
   "cell_type": "code",
   "execution_count": 7,
   "id": "53590e53",
   "metadata": {},
   "outputs": [],
   "source": [
    "x_red=data_red.drop(labels='quality',axis=1) #vrednosti atributa"
   ]
  },
  {
   "cell_type": "code",
   "execution_count": 8,
   "id": "f0daa961",
   "metadata": {},
   "outputs": [
    {
     "data": {
      "text/html": [
       "<div>\n",
       "<style scoped>\n",
       "    .dataframe tbody tr th:only-of-type {\n",
       "        vertical-align: middle;\n",
       "    }\n",
       "\n",
       "    .dataframe tbody tr th {\n",
       "        vertical-align: top;\n",
       "    }\n",
       "\n",
       "    .dataframe thead th {\n",
       "        text-align: right;\n",
       "    }\n",
       "</style>\n",
       "<table border=\"1\" class=\"dataframe\">\n",
       "  <thead>\n",
       "    <tr style=\"text-align: right;\">\n",
       "      <th></th>\n",
       "      <th>fixed acidity</th>\n",
       "      <th>volatile acidity</th>\n",
       "      <th>citric acid</th>\n",
       "      <th>residual sugar</th>\n",
       "      <th>chlorides</th>\n",
       "      <th>free sulfur dioxide</th>\n",
       "      <th>total sulfur dioxide</th>\n",
       "      <th>density</th>\n",
       "      <th>pH</th>\n",
       "      <th>sulphates</th>\n",
       "      <th>alcohol</th>\n",
       "    </tr>\n",
       "  </thead>\n",
       "  <tbody>\n",
       "    <tr>\n",
       "      <th>0</th>\n",
       "      <td>7.4</td>\n",
       "      <td>0.70</td>\n",
       "      <td>0.00</td>\n",
       "      <td>1.9</td>\n",
       "      <td>0.076</td>\n",
       "      <td>11.0</td>\n",
       "      <td>34.0</td>\n",
       "      <td>0.9978</td>\n",
       "      <td>3.51</td>\n",
       "      <td>0.56</td>\n",
       "      <td>9.4</td>\n",
       "    </tr>\n",
       "    <tr>\n",
       "      <th>1</th>\n",
       "      <td>7.8</td>\n",
       "      <td>0.88</td>\n",
       "      <td>0.00</td>\n",
       "      <td>2.6</td>\n",
       "      <td>0.098</td>\n",
       "      <td>25.0</td>\n",
       "      <td>67.0</td>\n",
       "      <td>0.9968</td>\n",
       "      <td>3.20</td>\n",
       "      <td>0.68</td>\n",
       "      <td>9.8</td>\n",
       "    </tr>\n",
       "    <tr>\n",
       "      <th>2</th>\n",
       "      <td>7.8</td>\n",
       "      <td>0.76</td>\n",
       "      <td>0.04</td>\n",
       "      <td>2.3</td>\n",
       "      <td>0.092</td>\n",
       "      <td>15.0</td>\n",
       "      <td>54.0</td>\n",
       "      <td>0.9970</td>\n",
       "      <td>3.26</td>\n",
       "      <td>0.65</td>\n",
       "      <td>9.8</td>\n",
       "    </tr>\n",
       "    <tr>\n",
       "      <th>3</th>\n",
       "      <td>11.2</td>\n",
       "      <td>0.28</td>\n",
       "      <td>0.56</td>\n",
       "      <td>1.9</td>\n",
       "      <td>0.075</td>\n",
       "      <td>17.0</td>\n",
       "      <td>60.0</td>\n",
       "      <td>0.9980</td>\n",
       "      <td>3.16</td>\n",
       "      <td>0.58</td>\n",
       "      <td>9.8</td>\n",
       "    </tr>\n",
       "    <tr>\n",
       "      <th>4</th>\n",
       "      <td>7.4</td>\n",
       "      <td>0.70</td>\n",
       "      <td>0.00</td>\n",
       "      <td>1.9</td>\n",
       "      <td>0.076</td>\n",
       "      <td>11.0</td>\n",
       "      <td>34.0</td>\n",
       "      <td>0.9978</td>\n",
       "      <td>3.51</td>\n",
       "      <td>0.56</td>\n",
       "      <td>9.4</td>\n",
       "    </tr>\n",
       "  </tbody>\n",
       "</table>\n",
       "</div>"
      ],
      "text/plain": [
       "   fixed acidity  volatile acidity  citric acid  residual sugar  chlorides  \\\n",
       "0            7.4              0.70         0.00             1.9      0.076   \n",
       "1            7.8              0.88         0.00             2.6      0.098   \n",
       "2            7.8              0.76         0.04             2.3      0.092   \n",
       "3           11.2              0.28         0.56             1.9      0.075   \n",
       "4            7.4              0.70         0.00             1.9      0.076   \n",
       "\n",
       "   free sulfur dioxide  total sulfur dioxide  density    pH  sulphates  \\\n",
       "0                 11.0                  34.0   0.9978  3.51       0.56   \n",
       "1                 25.0                  67.0   0.9968  3.20       0.68   \n",
       "2                 15.0                  54.0   0.9970  3.26       0.65   \n",
       "3                 17.0                  60.0   0.9980  3.16       0.58   \n",
       "4                 11.0                  34.0   0.9978  3.51       0.56   \n",
       "\n",
       "   alcohol  \n",
       "0      9.4  \n",
       "1      9.8  \n",
       "2      9.8  \n",
       "3      9.8  \n",
       "4      9.4  "
      ]
     },
     "execution_count": 8,
     "metadata": {},
     "output_type": "execute_result"
    }
   ],
   "source": [
    "x_red.head()  #prvih 5 instanci"
   ]
  },
  {
   "cell_type": "code",
   "execution_count": 9,
   "id": "4705fa2a",
   "metadata": {},
   "outputs": [
    {
     "data": {
      "text/plain": [
       "fixed acidity           False\n",
       "volatile acidity        False\n",
       "citric acid             False\n",
       "residual sugar          False\n",
       "chlorides               False\n",
       "free sulfur dioxide     False\n",
       "total sulfur dioxide    False\n",
       "density                 False\n",
       "pH                      False\n",
       "sulphates               False\n",
       "alcohol                 False\n",
       "quality                 False\n",
       "dtype: bool"
      ]
     },
     "execution_count": 9,
     "metadata": {},
     "output_type": "execute_result"
    }
   ],
   "source": [
    "data_red.isnull().any() #nema nula elemeneta, nepopunjenih"
   ]
  },
  {
   "cell_type": "code",
   "execution_count": 10,
   "id": "0746190b",
   "metadata": {},
   "outputs": [
    {
     "data": {
      "text/plain": [
       "1599"
      ]
     },
     "execution_count": 10,
     "metadata": {},
     "output_type": "execute_result"
    }
   ],
   "source": [
    "len(data_red) #broj instanci"
   ]
  },
  {
   "cell_type": "code",
   "execution_count": 12,
   "id": "2b3c7451",
   "metadata": {},
   "outputs": [
    {
     "data": {
      "image/png": "[encoded data removed]",
      "text/plain": [
       "<Figure size 900x1000 with 12 Axes>"
      ]
     },
     "metadata": {},
     "output_type": "display_data"
    }
   ],
   "source": [
    "x_red.hist(figsize=(9,10)) # raspodele vrednosti po atributima\n",
    "plt.savefig('raspodele_atributa_red.png')\n",
    "plt.show()"
   ]
  },
  {
   "cell_type": "code",
   "execution_count": 13,
   "id": "1e570cbf",
   "metadata": {},
   "outputs": [
    {
     "data": {
      "text/plain": [
       "11"
      ]
     },
     "execution_count": 13,
     "metadata": {},
     "output_type": "execute_result"
    }
   ],
   "source": [
    "len(x_red.columns) # broj kolona, broj atributa"
   ]
  },
  {
   "cell_type": "code",
   "execution_count": 14,
   "id": "4e4d29c4",
   "metadata": {},
   "outputs": [
    {
     "data": {
      "text/plain": [
       "<bound method Index.to_series of Index(['fixed acidity', 'volatile acidity', 'citric acid', 'residual sugar',\n",
       "       'chlorides', 'free sulfur dioxide', 'total sulfur dioxide', 'density',\n",
       "       'pH', 'sulphates', 'alcohol'],\n",
       "      dtype='object')>"
      ]
     },
     "execution_count": 14,
     "metadata": {},
     "output_type": "execute_result"
    }
   ],
   "source": [
    "imena_kolona=x_red.columns.to_series #imena kolona\n",
    "imena_kolona"
   ]
  },
  {
   "cell_type": "code",
   "execution_count": 15,
   "id": "2a961d3e",
   "metadata": {},
   "outputs": [
    {
     "name": "stdout",
     "output_type": "stream",
     "text": [
      "<class 'pandas.core.frame.DataFrame'>\n",
      "RangeIndex: 1599 entries, 0 to 1598\n",
      "Data columns (total 12 columns):\n",
      " #   Column                Non-Null Count  Dtype  \n",
      "---  ------                --------------  -----  \n",
      " 0   fixed acidity         1599 non-null   float64\n",
      " 1   volatile acidity      1599 non-null   float64\n",
      " 2   citric acid           1599 non-null   float64\n",
      " 3   residual sugar        1599 non-null   float64\n",
      " 4   chlorides             1599 non-null   float64\n",
      " 5   free sulfur dioxide   1599 non-null   float64\n",
      " 6   total sulfur dioxide  1599 non-null   float64\n",
      " 7   density               1599 non-null   float64\n",
      " 8   pH                    1599 non-null   float64\n",
      " 9   sulphates             1599 non-null   float64\n",
      " 10  alcohol               1599 non-null   float64\n",
      " 11  quality               1599 non-null   int64  \n",
      "dtypes: float64(11), int64(1)\n",
      "memory usage: 150.0 KB\n"
     ]
    }
   ],
   "source": [
    "data_red.info() #informacije o promenljivim, kog su tipa"
   ]
  },
  {
   "cell_type": "code",
   "execution_count": 16,
   "id": "9a82cf18",
   "metadata": {},
   "outputs": [
    {
     "data": {
      "text/html": [
       "<div>\n",
       "<style scoped>\n",
       "    .dataframe tbody tr th:only-of-type {\n",
       "        vertical-align: middle;\n",
       "    }\n",
       "\n",
       "    .dataframe tbody tr th {\n",
       "        vertical-align: top;\n",
       "    }\n",
       "\n",
       "    .dataframe thead th {\n",
       "        text-align: right;\n",
       "    }\n",
       "</style>\n",
       "<table border=\"1\" class=\"dataframe\">\n",
       "  <thead>\n",
       "    <tr style=\"text-align: right;\">\n",
       "      <th></th>\n",
       "      <th>fixed acidity</th>\n",
       "      <th>volatile acidity</th>\n",
       "      <th>citric acid</th>\n",
       "      <th>residual sugar</th>\n",
       "      <th>chlorides</th>\n",
       "      <th>free sulfur dioxide</th>\n",
       "      <th>total sulfur dioxide</th>\n",
       "      <th>density</th>\n",
       "      <th>pH</th>\n",
       "      <th>sulphates</th>\n",
       "      <th>alcohol</th>\n",
       "      <th>quality</th>\n",
       "    </tr>\n",
       "  </thead>\n",
       "  <tbody>\n",
       "    <tr>\n",
       "      <th>count</th>\n",
       "      <td>1599.000000</td>\n",
       "      <td>1599.000000</td>\n",
       "      <td>1599.000000</td>\n",
       "      <td>1599.000000</td>\n",
       "      <td>1599.000000</td>\n",
       "      <td>1599.000000</td>\n",
       "      <td>1599.000000</td>\n",
       "      <td>1599.000000</td>\n",
       "      <td>1599.000000</td>\n",
       "      <td>1599.000000</td>\n",
       "      <td>1599.000000</td>\n",
       "      <td>1599.000000</td>\n",
       "    </tr>\n",
       "    <tr>\n",
       "      <th>mean</th>\n",
       "      <td>8.319637</td>\n",
       "      <td>0.527821</td>\n",
       "      <td>0.270976</td>\n",
       "      <td>2.538806</td>\n",
       "      <td>0.087467</td>\n",
       "      <td>15.874922</td>\n",
       "      <td>46.467792</td>\n",
       "      <td>0.996747</td>\n",
       "      <td>3.311113</td>\n",
       "      <td>0.658149</td>\n",
       "      <td>10.422983</td>\n",
       "      <td>5.636023</td>\n",
       "    </tr>\n",
       "    <tr>\n",
       "      <th>std</th>\n",
       "      <td>1.741096</td>\n",
       "      <td>0.179060</td>\n",
       "      <td>0.194801</td>\n",
       "      <td>1.409928</td>\n",
       "      <td>0.047065</td>\n",
       "      <td>10.460157</td>\n",
       "      <td>32.895324</td>\n",
       "      <td>0.001887</td>\n",
       "      <td>0.154386</td>\n",
       "      <td>0.169507</td>\n",
       "      <td>1.065668</td>\n",
       "      <td>0.807569</td>\n",
       "    </tr>\n",
       "    <tr>\n",
       "      <th>min</th>\n",
       "      <td>4.600000</td>\n",
       "      <td>0.120000</td>\n",
       "      <td>0.000000</td>\n",
       "      <td>0.900000</td>\n",
       "      <td>0.012000</td>\n",
       "      <td>1.000000</td>\n",
       "      <td>6.000000</td>\n",
       "      <td>0.990070</td>\n",
       "      <td>2.740000</td>\n",
       "      <td>0.330000</td>\n",
       "      <td>8.400000</td>\n",
       "      <td>3.000000</td>\n",
       "    </tr>\n",
       "    <tr>\n",
       "      <th>25%</th>\n",
       "      <td>7.100000</td>\n",
       "      <td>0.390000</td>\n",
       "      <td>0.090000</td>\n",
       "      <td>1.900000</td>\n",
       "      <td>0.070000</td>\n",
       "      <td>7.000000</td>\n",
       "      <td>22.000000</td>\n",
       "      <td>0.995600</td>\n",
       "      <td>3.210000</td>\n",
       "      <td>0.550000</td>\n",
       "      <td>9.500000</td>\n",
       "      <td>5.000000</td>\n",
       "    </tr>\n",
       "    <tr>\n",
       "      <th>50%</th>\n",
       "      <td>7.900000</td>\n",
       "      <td>0.520000</td>\n",
       "      <td>0.260000</td>\n",
       "      <td>2.200000</td>\n",
       "      <td>0.079000</td>\n",
       "      <td>14.000000</td>\n",
       "      <td>38.000000</td>\n",
       "      <td>0.996750</td>\n",
       "      <td>3.310000</td>\n",
       "      <td>0.620000</td>\n",
       "      <td>10.200000</td>\n",
       "      <td>6.000000</td>\n",
       "    </tr>\n",
       "    <tr>\n",
       "      <th>75%</th>\n",
       "      <td>9.200000</td>\n",
       "      <td>0.640000</td>\n",
       "      <td>0.420000</td>\n",
       "      <td>2.600000</td>\n",
       "      <td>0.090000</td>\n",
       "      <td>21.000000</td>\n",
       "      <td>62.000000</td>\n",
       "      <td>0.997835</td>\n",
       "      <td>3.400000</td>\n",
       "      <td>0.730000</td>\n",
       "      <td>11.100000</td>\n",
       "      <td>6.000000</td>\n",
       "    </tr>\n",
       "    <tr>\n",
       "      <th>max</th>\n",
       "      <td>15.900000</td>\n",
       "      <td>1.580000</td>\n",
       "      <td>1.000000</td>\n",
       "      <td>15.500000</td>\n",
       "      <td>0.611000</td>\n",
       "      <td>72.000000</td>\n",
       "      <td>289.000000</td>\n",
       "      <td>1.003690</td>\n",
       "      <td>4.010000</td>\n",
       "      <td>2.000000</td>\n",
       "      <td>14.900000</td>\n",
       "      <td>8.000000</td>\n",
       "    </tr>\n",
       "  </tbody>\n",
       "</table>\n",
       "</div>"
      ],
      "text/plain": [
       "       fixed acidity  volatile acidity  citric acid  residual sugar  \\\n",
       "count    1599.000000       1599.000000  1599.000000     1599.000000   \n",
       "mean        8.319637          0.527821     0.270976        2.538806   \n",
       "std         1.741096          0.179060     0.194801        1.409928   \n",
       "min         4.600000          0.120000     0.000000        0.900000   \n",
       "25%         7.100000          0.390000     0.090000        1.900000   \n",
       "50%         7.900000          0.520000     0.260000        2.200000   \n",
       "75%         9.200000          0.640000     0.420000        2.600000   \n",
       "max        15.900000          1.580000     1.000000       15.500000   \n",
       "\n",
       "         chlorides  free sulfur dioxide  total sulfur dioxide      density  \\\n",
       "count  1599.000000          1599.000000           1599.000000  1599.000000   \n",
       "mean      0.087467            15.874922             46.467792     0.996747   \n",
       "std       0.047065            10.460157             32.895324     0.001887   \n",
       "min       0.012000             1.000000              6.000000     0.990070   \n",
       "25%       0.070000             7.000000             22.000000     0.995600   \n",
       "50%       0.079000            14.000000             38.000000     0.996750   \n",
       "75%       0.090000            21.000000             62.000000     0.997835   \n",
       "max       0.611000            72.000000            289.000000     1.003690   \n",
       "\n",
       "                pH    sulphates      alcohol      quality  \n",
       "count  1599.000000  1599.000000  1599.000000  1599.000000  \n",
       "mean      3.311113     0.658149    10.422983     5.636023  \n",
       "std       0.154386     0.169507     1.065668     0.807569  \n",
       "min       2.740000     0.330000     8.400000     3.000000  \n",
       "25%       3.210000     0.550000     9.500000     5.000000  \n",
       "50%       3.310000     0.620000    10.200000     6.000000  \n",
       "75%       3.400000     0.730000    11.100000     6.000000  \n",
       "max       4.010000     2.000000    14.900000     8.000000  "
      ]
     },
     "execution_count": 16,
     "metadata": {},
     "output_type": "execute_result"
    }
   ],
   "source": [
    "data_red.describe() #sredina, min, max svih promenljivih u skupu podataka"
   ]
  },
  {
   "cell_type": "code",
   "execution_count": 17,
   "id": "de8030d9",
   "metadata": {},
   "outputs": [
    {
     "data": {
      "image/png": "[encoded data removed]",
      "text/plain": [
       "<Figure size 640x480 with 1 Axes>"
      ]
     },
     "metadata": {},
     "output_type": "display_data"
    }
   ],
   "source": [
    "\n",
    "sns.countplot(x ='quality', data = data_red)\n",
    "plt.xlabel('ocene kvaliteta')\n",
    "plt.ylabel('broj instanci')\n",
    "plt.savefig('raspodela_y_red.png')\n",
    "plt.show() #histogram kako su rasporedjenje ocene kvaliteta belog vina, vidimo da nije balansirana raspodela"
   ]
  },
  {
   "cell_type": "markdown",
   "id": "29bb69da",
   "metadata": {},
   "source": [
    "iz ovoga vidimo da najvise ima srednjih ocena vina,\n",
    "malo je odlicnih vina (ocena 8,9), a malo je i losih vina (ocena 3,4)"
   ]
  },
  {
   "cell_type": "code",
   "execution_count": 18,
   "id": "d08d1664",
   "metadata": {},
   "outputs": [
    {
     "data": {
      "text/plain": [
       "5    681\n",
       "6    638\n",
       "7    199\n",
       "4     53\n",
       "8     18\n",
       "3     10\n",
       "Name: quality, dtype: int64"
      ]
     },
     "execution_count": 18,
     "metadata": {},
     "output_type": "execute_result"
    }
   ],
   "source": [
    "data_red['quality'].value_counts() #raspodela po ocenama kvaliteta"
   ]
  },
  {
   "cell_type": "code",
   "execution_count": 19,
   "id": "4032f9df",
   "metadata": {},
   "outputs": [
    {
     "data": {
      "text/plain": [
       "(1599, 12)"
      ]
     },
     "execution_count": 19,
     "metadata": {},
     "output_type": "execute_result"
    }
   ],
   "source": [
    "data_red.shape #4898 instanci, 12 kolona"
   ]
  },
  {
   "cell_type": "code",
   "execution_count": 20,
   "id": "573d029d",
   "metadata": {},
   "outputs": [
    {
     "data": {
      "text/html": [
       "<div>\n",
       "<style scoped>\n",
       "    .dataframe tbody tr th:only-of-type {\n",
       "        vertical-align: middle;\n",
       "    }\n",
       "\n",
       "    .dataframe tbody tr th {\n",
       "        vertical-align: top;\n",
       "    }\n",
       "\n",
       "    .dataframe thead th {\n",
       "        text-align: right;\n",
       "    }\n",
       "</style>\n",
       "<table border=\"1\" class=\"dataframe\">\n",
       "  <thead>\n",
       "    <tr style=\"text-align: right;\">\n",
       "      <th></th>\n",
       "      <th>fixed acidity</th>\n",
       "      <th>volatile acidity</th>\n",
       "      <th>citric acid</th>\n",
       "      <th>residual sugar</th>\n",
       "      <th>chlorides</th>\n",
       "      <th>free sulfur dioxide</th>\n",
       "      <th>total sulfur dioxide</th>\n",
       "      <th>density</th>\n",
       "      <th>pH</th>\n",
       "      <th>sulphates</th>\n",
       "      <th>alcohol</th>\n",
       "      <th>quality</th>\n",
       "    </tr>\n",
       "  </thead>\n",
       "  <tbody>\n",
       "    <tr>\n",
       "      <th>fixed acidity</th>\n",
       "      <td>1.000000</td>\n",
       "      <td>-0.256131</td>\n",
       "      <td>0.671703</td>\n",
       "      <td>0.114777</td>\n",
       "      <td>0.093705</td>\n",
       "      <td>-0.153794</td>\n",
       "      <td>-0.113181</td>\n",
       "      <td>0.668047</td>\n",
       "      <td>-0.682978</td>\n",
       "      <td>0.183006</td>\n",
       "      <td>-0.061668</td>\n",
       "      <td>0.124052</td>\n",
       "    </tr>\n",
       "    <tr>\n",
       "      <th>volatile acidity</th>\n",
       "      <td>-0.256131</td>\n",
       "      <td>1.000000</td>\n",
       "      <td>-0.552496</td>\n",
       "      <td>0.001918</td>\n",
       "      <td>0.061298</td>\n",
       "      <td>-0.010504</td>\n",
       "      <td>0.076470</td>\n",
       "      <td>0.022026</td>\n",
       "      <td>0.234937</td>\n",
       "      <td>-0.260987</td>\n",
       "      <td>-0.202288</td>\n",
       "      <td>-0.390558</td>\n",
       "    </tr>\n",
       "    <tr>\n",
       "      <th>citric acid</th>\n",
       "      <td>0.671703</td>\n",
       "      <td>-0.552496</td>\n",
       "      <td>1.000000</td>\n",
       "      <td>0.143577</td>\n",
       "      <td>0.203823</td>\n",
       "      <td>-0.060978</td>\n",
       "      <td>0.035533</td>\n",
       "      <td>0.364947</td>\n",
       "      <td>-0.541904</td>\n",
       "      <td>0.312770</td>\n",
       "      <td>0.109903</td>\n",
       "      <td>0.226373</td>\n",
       "    </tr>\n",
       "    <tr>\n",
       "      <th>residual sugar</th>\n",
       "      <td>0.114777</td>\n",
       "      <td>0.001918</td>\n",
       "      <td>0.143577</td>\n",
       "      <td>1.000000</td>\n",
       "      <td>0.055610</td>\n",
       "      <td>0.187049</td>\n",
       "      <td>0.203028</td>\n",
       "      <td>0.355283</td>\n",
       "      <td>-0.085652</td>\n",
       "      <td>0.005527</td>\n",
       "      <td>0.042075</td>\n",
       "      <td>0.013732</td>\n",
       "    </tr>\n",
       "    <tr>\n",
       "      <th>chlorides</th>\n",
       "      <td>0.093705</td>\n",
       "      <td>0.061298</td>\n",
       "      <td>0.203823</td>\n",
       "      <td>0.055610</td>\n",
       "      <td>1.000000</td>\n",
       "      <td>0.005562</td>\n",
       "      <td>0.047400</td>\n",
       "      <td>0.200632</td>\n",
       "      <td>-0.265026</td>\n",
       "      <td>0.371260</td>\n",
       "      <td>-0.221141</td>\n",
       "      <td>-0.128907</td>\n",
       "    </tr>\n",
       "    <tr>\n",
       "      <th>free sulfur dioxide</th>\n",
       "      <td>-0.153794</td>\n",
       "      <td>-0.010504</td>\n",
       "      <td>-0.060978</td>\n",
       "      <td>0.187049</td>\n",
       "      <td>0.005562</td>\n",
       "      <td>1.000000</td>\n",
       "      <td>0.667666</td>\n",
       "      <td>-0.021946</td>\n",
       "      <td>0.070377</td>\n",
       "      <td>0.051658</td>\n",
       "      <td>-0.069408</td>\n",
       "      <td>-0.050656</td>\n",
       "    </tr>\n",
       "    <tr>\n",
       "      <th>total sulfur dioxide</th>\n",
       "      <td>-0.113181</td>\n",
       "      <td>0.076470</td>\n",
       "      <td>0.035533</td>\n",
       "      <td>0.203028</td>\n",
       "      <td>0.047400</td>\n",
       "      <td>0.667666</td>\n",
       "      <td>1.000000</td>\n",
       "      <td>0.071269</td>\n",
       "      <td>-0.066495</td>\n",
       "      <td>0.042947</td>\n",
       "      <td>-0.205654</td>\n",
       "      <td>-0.185100</td>\n",
       "    </tr>\n",
       "    <tr>\n",
       "      <th>density</th>\n",
       "      <td>0.668047</td>\n",
       "      <td>0.022026</td>\n",
       "      <td>0.364947</td>\n",
       "      <td>0.355283</td>\n",
       "      <td>0.200632</td>\n",
       "      <td>-0.021946</td>\n",
       "      <td>0.071269</td>\n",
       "      <td>1.000000</td>\n",
       "      <td>-0.341699</td>\n",
       "      <td>0.148506</td>\n",
       "      <td>-0.496180</td>\n",
       "      <td>-0.174919</td>\n",
       "    </tr>\n",
       "    <tr>\n",
       "      <th>pH</th>\n",
       "      <td>-0.682978</td>\n",
       "      <td>0.234937</td>\n",
       "      <td>-0.541904</td>\n",
       "      <td>-0.085652</td>\n",
       "      <td>-0.265026</td>\n",
       "      <td>0.070377</td>\n",
       "      <td>-0.066495</td>\n",
       "      <td>-0.341699</td>\n",
       "      <td>1.000000</td>\n",
       "      <td>-0.196648</td>\n",
       "      <td>0.205633</td>\n",
       "      <td>-0.057731</td>\n",
       "    </tr>\n",
       "    <tr>\n",
       "      <th>sulphates</th>\n",
       "      <td>0.183006</td>\n",
       "      <td>-0.260987</td>\n",
       "      <td>0.312770</td>\n",
       "      <td>0.005527</td>\n",
       "      <td>0.371260</td>\n",
       "      <td>0.051658</td>\n",
       "      <td>0.042947</td>\n",
       "      <td>0.148506</td>\n",
       "      <td>-0.196648</td>\n",
       "      <td>1.000000</td>\n",
       "      <td>0.093595</td>\n",
       "      <td>0.251397</td>\n",
       "    </tr>\n",
       "    <tr>\n",
       "      <th>alcohol</th>\n",
       "      <td>-0.061668</td>\n",
       "      <td>-0.202288</td>\n",
       "      <td>0.109903</td>\n",
       "      <td>0.042075</td>\n",
       "      <td>-0.221141</td>\n",
       "      <td>-0.069408</td>\n",
       "      <td>-0.205654</td>\n",
       "      <td>-0.496180</td>\n",
       "      <td>0.205633</td>\n",
       "      <td>0.093595</td>\n",
       "      <td>1.000000</td>\n",
       "      <td>0.476166</td>\n",
       "    </tr>\n",
       "    <tr>\n",
       "      <th>quality</th>\n",
       "      <td>0.124052</td>\n",
       "      <td>-0.390558</td>\n",
       "      <td>0.226373</td>\n",
       "      <td>0.013732</td>\n",
       "      <td>-0.128907</td>\n",
       "      <td>-0.050656</td>\n",
       "      <td>-0.185100</td>\n",
       "      <td>-0.174919</td>\n",
       "      <td>-0.057731</td>\n",
       "      <td>0.251397</td>\n",
       "      <td>0.476166</td>\n",
       "      <td>1.000000</td>\n",
       "    </tr>\n",
       "  </tbody>\n",
       "</table>\n",
       "</div>"
      ],
      "text/plain": [
       "                      fixed acidity  volatile acidity  citric acid  \\\n",
       "fixed acidity              1.000000         -0.256131     0.671703   \n",
       "volatile acidity          -0.256131          1.000000    -0.552496   \n",
       "citric acid                0.671703         -0.552496     1.000000   \n",
       "residual sugar             0.114777          0.001918     0.143577   \n",
       "chlorides                  0.093705          0.061298     0.203823   \n",
       "free sulfur dioxide       -0.153794         -0.010504    -0.060978   \n",
       "total sulfur dioxide      -0.113181          0.076470     0.035533   \n",
       "density                    0.668047          0.022026     0.364947   \n",
       "pH                        -0.682978          0.234937    -0.541904   \n",
       "sulphates                  0.183006         -0.260987     0.312770   \n",
       "alcohol                   -0.061668         -0.202288     0.109903   \n",
       "quality                    0.124052         -0.390558     0.226373   \n",
       "\n",
       "                      residual sugar  chlorides  free sulfur dioxide  \\\n",
       "fixed acidity               0.114777   0.093705            -0.153794   \n",
       "volatile acidity            0.001918   0.061298            -0.010504   \n",
       "citric acid                 0.143577   0.203823            -0.060978   \n",
       "residual sugar              1.000000   0.055610             0.187049   \n",
       "chlorides                   0.055610   1.000000             0.005562   \n",
       "free sulfur dioxide         0.187049   0.005562             1.000000   \n",
       "total sulfur dioxide        0.203028   0.047400             0.667666   \n",
       "density                     0.355283   0.200632            -0.021946   \n",
       "pH                         -0.085652  -0.265026             0.070377   \n",
       "sulphates                   0.005527   0.371260             0.051658   \n",
       "alcohol                     0.042075  -0.221141            -0.069408   \n",
       "quality                     0.013732  -0.128907            -0.050656   \n",
       "\n",
       "                      total sulfur dioxide   density        pH  sulphates  \\\n",
       "fixed acidity                    -0.113181  0.668047 -0.682978   0.183006   \n",
       "volatile acidity                  0.076470  0.022026  0.234937  -0.260987   \n",
       "citric acid                       0.035533  0.364947 -0.541904   0.312770   \n",
       "residual sugar                    0.203028  0.355283 -0.085652   0.005527   \n",
       "chlorides                         0.047400  0.200632 -0.265026   0.371260   \n",
       "free sulfur dioxide               0.667666 -0.021946  0.070377   0.051658   \n",
       "total sulfur dioxide              1.000000  0.071269 -0.066495   0.042947   \n",
       "density                           0.071269  1.000000 -0.341699   0.148506   \n",
       "pH                               -0.066495 -0.341699  1.000000  -0.196648   \n",
       "sulphates                         0.042947  0.148506 -0.196648   1.000000   \n",
       "alcohol                          -0.205654 -0.496180  0.205633   0.093595   \n",
       "quality                          -0.185100 -0.174919 -0.057731   0.251397   \n",
       "\n",
       "                       alcohol   quality  \n",
       "fixed acidity        -0.061668  0.124052  \n",
       "volatile acidity     -0.202288 -0.390558  \n",
       "citric acid           0.109903  0.226373  \n",
       "residual sugar        0.042075  0.013732  \n",
       "chlorides            -0.221141 -0.128907  \n",
       "free sulfur dioxide  -0.069408 -0.050656  \n",
       "total sulfur dioxide -0.205654 -0.185100  \n",
       "density              -0.496180 -0.174919  \n",
       "pH                    0.205633 -0.057731  \n",
       "sulphates             0.093595  0.251397  \n",
       "alcohol               1.000000  0.476166  \n",
       "quality               0.476166  1.000000  "
      ]
     },
     "execution_count": 20,
     "metadata": {},
     "output_type": "execute_result"
    }
   ],
   "source": [
    "matrica_korelacije=data_red.corr() \n",
    "matrica_korelacije            #matrica korelacije"
   ]
  },
  {
   "cell_type": "code",
   "execution_count": 21,
   "id": "86460ee8",
   "metadata": {},
   "outputs": [
    {
     "data": {
      "image/png": "[encoded data removed]",
      "text/plain": [
       "<Figure size 1500x1000 with 2 Axes>"
      ]
     },
     "metadata": {},
     "output_type": "display_data"
    }
   ],
   "source": [
    "#plt.imshow(matrica_korelacije)\n",
    "plt.subplots(figsize=(15, 10))\n",
    "sns.heatmap(matrica_korelacije, annot = True, cmap = 'coolwarm')\n",
    "plt.savefig('matrica_konfuzije_red.png')\n",
    "plt.show() #heatmapa korelacija"
   ]
  },
  {
   "cell_type": "markdown",
   "id": "cb85e01b",
   "metadata": {},
   "source": [
    "vidimo ih heatmape visoku povezanost density i residual sugar, kao i density i alcohol ali suprotno korelisano\n",
    "takodje vidimo poveznaost atributa sa ciljnom promenljivom"
   ]
  },
  {
   "cell_type": "code",
   "execution_count": 22,
   "id": "1f6e95dc",
   "metadata": {},
   "outputs": [],
   "source": [
    "def korelacija(value, threshold=0.5):\n",
    "    if np.abs(value) < threshold:\n",
    "        return 0\n",
    "    else:\n",
    "        return value # da prikaze visoko korelisane"
   ]
  },
  {
   "cell_type": "code",
   "execution_count": 23,
   "id": "41cdad98",
   "metadata": {},
   "outputs": [
    {
     "data": {
      "text/html": [
       "<div>\n",
       "<style scoped>\n",
       "    .dataframe tbody tr th:only-of-type {\n",
       "        vertical-align: middle;\n",
       "    }\n",
       "\n",
       "    .dataframe tbody tr th {\n",
       "        vertical-align: top;\n",
       "    }\n",
       "\n",
       "    .dataframe thead th {\n",
       "        text-align: right;\n",
       "    }\n",
       "</style>\n",
       "<table border=\"1\" class=\"dataframe\">\n",
       "  <thead>\n",
       "    <tr style=\"text-align: right;\">\n",
       "      <th></th>\n",
       "      <th>fixed acidity</th>\n",
       "      <th>volatile acidity</th>\n",
       "      <th>citric acid</th>\n",
       "      <th>residual sugar</th>\n",
       "      <th>chlorides</th>\n",
       "      <th>free sulfur dioxide</th>\n",
       "      <th>total sulfur dioxide</th>\n",
       "      <th>density</th>\n",
       "      <th>pH</th>\n",
       "      <th>sulphates</th>\n",
       "      <th>alcohol</th>\n",
       "      <th>quality</th>\n",
       "    </tr>\n",
       "  </thead>\n",
       "  <tbody>\n",
       "    <tr>\n",
       "      <th>fixed acidity</th>\n",
       "      <td>1.000000</td>\n",
       "      <td>0.000000</td>\n",
       "      <td>0.671703</td>\n",
       "      <td>0.0</td>\n",
       "      <td>0.0</td>\n",
       "      <td>0.000000</td>\n",
       "      <td>0.000000</td>\n",
       "      <td>0.668047</td>\n",
       "      <td>-0.682978</td>\n",
       "      <td>0.0</td>\n",
       "      <td>0.0</td>\n",
       "      <td>0.0</td>\n",
       "    </tr>\n",
       "    <tr>\n",
       "      <th>volatile acidity</th>\n",
       "      <td>0.000000</td>\n",
       "      <td>1.000000</td>\n",
       "      <td>-0.552496</td>\n",
       "      <td>0.0</td>\n",
       "      <td>0.0</td>\n",
       "      <td>0.000000</td>\n",
       "      <td>0.000000</td>\n",
       "      <td>0.000000</td>\n",
       "      <td>0.000000</td>\n",
       "      <td>0.0</td>\n",
       "      <td>0.0</td>\n",
       "      <td>0.0</td>\n",
       "    </tr>\n",
       "    <tr>\n",
       "      <th>citric acid</th>\n",
       "      <td>0.671703</td>\n",
       "      <td>-0.552496</td>\n",
       "      <td>1.000000</td>\n",
       "      <td>0.0</td>\n",
       "      <td>0.0</td>\n",
       "      <td>0.000000</td>\n",
       "      <td>0.000000</td>\n",
       "      <td>0.000000</td>\n",
       "      <td>-0.541904</td>\n",
       "      <td>0.0</td>\n",
       "      <td>0.0</td>\n",
       "      <td>0.0</td>\n",
       "    </tr>\n",
       "    <tr>\n",
       "      <th>residual sugar</th>\n",
       "      <td>0.000000</td>\n",
       "      <td>0.000000</td>\n",
       "      <td>0.000000</td>\n",
       "      <td>1.0</td>\n",
       "      <td>0.0</td>\n",
       "      <td>0.000000</td>\n",
       "      <td>0.000000</td>\n",
       "      <td>0.000000</td>\n",
       "      <td>0.000000</td>\n",
       "      <td>0.0</td>\n",
       "      <td>0.0</td>\n",
       "      <td>0.0</td>\n",
       "    </tr>\n",
       "    <tr>\n",
       "      <th>chlorides</th>\n",
       "      <td>0.000000</td>\n",
       "      <td>0.000000</td>\n",
       "      <td>0.000000</td>\n",
       "      <td>0.0</td>\n",
       "      <td>1.0</td>\n",
       "      <td>0.000000</td>\n",
       "      <td>0.000000</td>\n",
       "      <td>0.000000</td>\n",
       "      <td>0.000000</td>\n",
       "      <td>0.0</td>\n",
       "      <td>0.0</td>\n",
       "      <td>0.0</td>\n",
       "    </tr>\n",
       "    <tr>\n",
       "      <th>free sulfur dioxide</th>\n",
       "      <td>0.000000</td>\n",
       "      <td>0.000000</td>\n",
       "      <td>0.000000</td>\n",
       "      <td>0.0</td>\n",
       "      <td>0.0</td>\n",
       "      <td>1.000000</td>\n",
       "      <td>0.667666</td>\n",
       "      <td>0.000000</td>\n",
       "      <td>0.000000</td>\n",
       "      <td>0.0</td>\n",
       "      <td>0.0</td>\n",
       "      <td>0.0</td>\n",
       "    </tr>\n",
       "    <tr>\n",
       "      <th>total sulfur dioxide</th>\n",
       "      <td>0.000000</td>\n",
       "      <td>0.000000</td>\n",
       "      <td>0.000000</td>\n",
       "      <td>0.0</td>\n",
       "      <td>0.0</td>\n",
       "      <td>0.667666</td>\n",
       "      <td>1.000000</td>\n",
       "      <td>0.000000</td>\n",
       "      <td>0.000000</td>\n",
       "      <td>0.0</td>\n",
       "      <td>0.0</td>\n",
       "      <td>0.0</td>\n",
       "    </tr>\n",
       "    <tr>\n",
       "      <th>density</th>\n",
       "      <td>0.668047</td>\n",
       "      <td>0.000000</td>\n",
       "      <td>0.000000</td>\n",
       "      <td>0.0</td>\n",
       "      <td>0.0</td>\n",
       "      <td>0.000000</td>\n",
       "      <td>0.000000</td>\n",
       "      <td>1.000000</td>\n",
       "      <td>0.000000</td>\n",
       "      <td>0.0</td>\n",
       "      <td>0.0</td>\n",
       "      <td>0.0</td>\n",
       "    </tr>\n",
       "    <tr>\n",
       "      <th>pH</th>\n",
       "      <td>-0.682978</td>\n",
       "      <td>0.000000</td>\n",
       "      <td>-0.541904</td>\n",
       "      <td>0.0</td>\n",
       "      <td>0.0</td>\n",
       "      <td>0.000000</td>\n",
       "      <td>0.000000</td>\n",
       "      <td>0.000000</td>\n",
       "      <td>1.000000</td>\n",
       "      <td>0.0</td>\n",
       "      <td>0.0</td>\n",
       "      <td>0.0</td>\n",
       "    </tr>\n",
       "    <tr>\n",
       "      <th>sulphates</th>\n",
       "      <td>0.000000</td>\n",
       "      <td>0.000000</td>\n",
       "      <td>0.000000</td>\n",
       "      <td>0.0</td>\n",
       "      <td>0.0</td>\n",
       "      <td>0.000000</td>\n",
       "      <td>0.000000</td>\n",
       "      <td>0.000000</td>\n",
       "      <td>0.000000</td>\n",
       "      <td>1.0</td>\n",
       "      <td>0.0</td>\n",
       "      <td>0.0</td>\n",
       "    </tr>\n",
       "    <tr>\n",
       "      <th>alcohol</th>\n",
       "      <td>0.000000</td>\n",
       "      <td>0.000000</td>\n",
       "      <td>0.000000</td>\n",
       "      <td>0.0</td>\n",
       "      <td>0.0</td>\n",
       "      <td>0.000000</td>\n",
       "      <td>0.000000</td>\n",
       "      <td>0.000000</td>\n",
       "      <td>0.000000</td>\n",
       "      <td>0.0</td>\n",
       "      <td>1.0</td>\n",
       "      <td>0.0</td>\n",
       "    </tr>\n",
       "    <tr>\n",
       "      <th>quality</th>\n",
       "      <td>0.000000</td>\n",
       "      <td>0.000000</td>\n",
       "      <td>0.000000</td>\n",
       "      <td>0.0</td>\n",
       "      <td>0.0</td>\n",
       "      <td>0.000000</td>\n",
       "      <td>0.000000</td>\n",
       "      <td>0.000000</td>\n",
       "      <td>0.000000</td>\n",
       "      <td>0.0</td>\n",
       "      <td>0.0</td>\n",
       "      <td>1.0</td>\n",
       "    </tr>\n",
       "  </tbody>\n",
       "</table>\n",
       "</div>"
      ],
      "text/plain": [
       "                      fixed acidity  volatile acidity  citric acid  \\\n",
       "fixed acidity              1.000000          0.000000     0.671703   \n",
       "volatile acidity           0.000000          1.000000    -0.552496   \n",
       "citric acid                0.671703         -0.552496     1.000000   \n",
       "residual sugar             0.000000          0.000000     0.000000   \n",
       "chlorides                  0.000000          0.000000     0.000000   \n",
       "free sulfur dioxide        0.000000          0.000000     0.000000   \n",
       "total sulfur dioxide       0.000000          0.000000     0.000000   \n",
       "density                    0.668047          0.000000     0.000000   \n",
       "pH                        -0.682978          0.000000    -0.541904   \n",
       "sulphates                  0.000000          0.000000     0.000000   \n",
       "alcohol                    0.000000          0.000000     0.000000   \n",
       "quality                    0.000000          0.000000     0.000000   \n",
       "\n",
       "                      residual sugar  chlorides  free sulfur dioxide  \\\n",
       "fixed acidity                    0.0        0.0             0.000000   \n",
       "volatile acidity                 0.0        0.0             0.000000   \n",
       "citric acid                      0.0        0.0             0.000000   \n",
       "residual sugar                   1.0        0.0             0.000000   \n",
       "chlorides                        0.0        1.0             0.000000   \n",
       "free sulfur dioxide              0.0        0.0             1.000000   \n",
       "total sulfur dioxide             0.0        0.0             0.667666   \n",
       "density                          0.0        0.0             0.000000   \n",
       "pH                               0.0        0.0             0.000000   \n",
       "sulphates                        0.0        0.0             0.000000   \n",
       "alcohol                          0.0        0.0             0.000000   \n",
       "quality                          0.0        0.0             0.000000   \n",
       "\n",
       "                      total sulfur dioxide   density        pH  sulphates  \\\n",
       "fixed acidity                     0.000000  0.668047 -0.682978        0.0   \n",
       "volatile acidity                  0.000000  0.000000  0.000000        0.0   \n",
       "citric acid                       0.000000  0.000000 -0.541904        0.0   \n",
       "residual sugar                    0.000000  0.000000  0.000000        0.0   \n",
       "chlorides                         0.000000  0.000000  0.000000        0.0   \n",
       "free sulfur dioxide               0.667666  0.000000  0.000000        0.0   \n",
       "total sulfur dioxide              1.000000  0.000000  0.000000        0.0   \n",
       "density                           0.000000  1.000000  0.000000        0.0   \n",
       "pH                                0.000000  0.000000  1.000000        0.0   \n",
       "sulphates                         0.000000  0.000000  0.000000        1.0   \n",
       "alcohol                           0.000000  0.000000  0.000000        0.0   \n",
       "quality                           0.000000  0.000000  0.000000        0.0   \n",
       "\n",
       "                      alcohol  quality  \n",
       "fixed acidity             0.0      0.0  \n",
       "volatile acidity          0.0      0.0  \n",
       "citric acid               0.0      0.0  \n",
       "residual sugar            0.0      0.0  \n",
       "chlorides                 0.0      0.0  \n",
       "free sulfur dioxide       0.0      0.0  \n",
       "total sulfur dioxide      0.0      0.0  \n",
       "density                   0.0      0.0  \n",
       "pH                        0.0      0.0  \n",
       "sulphates                 0.0      0.0  \n",
       "alcohol                   1.0      0.0  \n",
       "quality                   0.0      1.0  "
      ]
     },
     "execution_count": 23,
     "metadata": {},
     "output_type": "execute_result"
    }
   ],
   "source": [
    "matrica_korelacije.applymap(korelacija)"
   ]
  },
  {
   "cell_type": "code",
   "execution_count": 24,
   "id": "b01e3632",
   "metadata": {},
   "outputs": [
    {
     "data": {
      "text/plain": [
       "Index(['fixed acidity', 'volatile acidity', 'citric acid', 'residual sugar',\n",
       "       'chlorides', 'free sulfur dioxide', 'total sulfur dioxide', 'density',\n",
       "       'pH', 'sulphates', 'alcohol'],\n",
       "      dtype='object')"
      ]
     },
     "execution_count": 24,
     "metadata": {},
     "output_type": "execute_result"
    }
   ],
   "source": [
    "x_red.columns #imena kolona"
   ]
  },
  {
   "cell_type": "markdown",
   "id": "15d755a3",
   "metadata": {},
   "source": [
    "#### podela skupa"
   ]
  },
  {
   "cell_type": "code",
   "execution_count": 27,
   "id": "baa2f912",
   "metadata": {},
   "outputs": [],
   "source": [
    "x_train,x_test,y_train,y_test=model_selection.train_test_split(x_red,y_red,test_size=0.2,random_state=7,stratify=y_red)"
   ]
  },
  {
   "cell_type": "code",
   "execution_count": 28,
   "id": "96a9a36c",
   "metadata": {},
   "outputs": [
    {
     "data": {
      "text/plain": [
       "(1279, 11)"
      ]
     },
     "execution_count": 28,
     "metadata": {},
     "output_type": "execute_result"
    }
   ],
   "source": [
    "x_train.shape"
   ]
  },
  {
   "cell_type": "code",
   "execution_count": 29,
   "id": "b33cb13c",
   "metadata": {},
   "outputs": [
    {
     "data": {
      "text/plain": [
       "(320, 11)"
      ]
     },
     "execution_count": 29,
     "metadata": {},
     "output_type": "execute_result"
    }
   ],
   "source": [
    "x_test.shape"
   ]
  },
  {
   "cell_type": "code",
   "execution_count": 30,
   "id": "5b384713",
   "metadata": {},
   "outputs": [
    {
     "data": {
      "text/plain": [
       "(1279,)"
      ]
     },
     "execution_count": 30,
     "metadata": {},
     "output_type": "execute_result"
    }
   ],
   "source": [
    "y_train.shape"
   ]
  },
  {
   "cell_type": "code",
   "execution_count": 31,
   "id": "ce88758a",
   "metadata": {},
   "outputs": [
    {
     "data": {
      "text/plain": [
       "(320,)"
      ]
     },
     "execution_count": 31,
     "metadata": {},
     "output_type": "execute_result"
    }
   ],
   "source": [
    "y_test.shape"
   ]
  },
  {
   "cell_type": "markdown",
   "id": "c9b653c4",
   "metadata": {},
   "source": [
    "#### standardizacija"
   ]
  },
  {
   "cell_type": "code",
   "execution_count": 32,
   "id": "c2496747",
   "metadata": {},
   "outputs": [],
   "source": [
    "scaler=preprocessing.StandardScaler()"
   ]
  },
  {
   "cell_type": "code",
   "execution_count": 33,
   "id": "5e51789c",
   "metadata": {},
   "outputs": [
    {
     "data": {
      "text/plain": [
       "StandardScaler()"
      ]
     },
     "execution_count": 33,
     "metadata": {},
     "output_type": "execute_result"
    }
   ],
   "source": [
    "scaler.fit(x_train)"
   ]
  },
  {
   "cell_type": "code",
   "execution_count": 34,
   "id": "69e4c916",
   "metadata": {},
   "outputs": [],
   "source": [
    "x_train=scaler.transform(x_train)"
   ]
  },
  {
   "cell_type": "code",
   "execution_count": 35,
   "id": "9f9c4393",
   "metadata": {},
   "outputs": [],
   "source": [
    "x_test=scaler.transform(x_test)"
   ]
  },
  {
   "cell_type": "code",
   "execution_count": 36,
   "id": "ab549acb",
   "metadata": {},
   "outputs": [
    {
     "data": {
      "text/plain": [
       "(1599,)"
      ]
     },
     "execution_count": 36,
     "metadata": {},
     "output_type": "execute_result"
    }
   ],
   "source": [
    "y_red.shape"
   ]
  },
  {
   "cell_type": "markdown",
   "id": "f3154691",
   "metadata": {},
   "source": [
    "## KNN (K najblizih suseda)"
   ]
  },
  {
   "cell_type": "code",
   "execution_count": 38,
   "id": "1c9b9f7a",
   "metadata": {},
   "outputs": [],
   "source": [
    "#Uzimamo za k brojeve od 1-25\n",
    "k = range(1, 25)\n",
    "k_scores = []\n",
    "# Racunamo ocenu kros validacije za svako k \n",
    "for k in k:\n",
    "    knn_model = KNeighborsClassifier(n_neighbors=k) #minkovski metrika je podrazumevana\n",
    "    #kros validacija 10 slojeva sa tacnoscu kao metrikom \n",
    "    scores = model_selection.cross_val_score(knn_model, x_red, y_red, cv=10, scoring='accuracy') #na celom skupu\n",
    "    k_scores.append(scores.mean())"
   ]
  },
  {
   "cell_type": "code",
   "execution_count": 39,
   "id": "24ad26c2",
   "metadata": {},
   "outputs": [
    {
     "data": {
      "text/plain": [
       "[0.4495911949685535,\n",
       " 0.44777908805031447,\n",
       " 0.4415251572327044,\n",
       " 0.4552987421383648,\n",
       " 0.4459080188679246,\n",
       " 0.4496776729559747,\n",
       " 0.45466981132075474,\n",
       " 0.4596580188679245,\n",
       " 0.46404874213836483,\n",
       " 0.4646698113207547,\n",
       " 0.4721776729559748,\n",
       " 0.47966981132075476,\n",
       " 0.48092374213836475,\n",
       " 0.4802751572327044,\n",
       " 0.47903301886792454,\n",
       " 0.4827830188679245,\n",
       " 0.47778694968553453,\n",
       " 0.49528301886792453,\n",
       " 0.4928026729559748,\n",
       " 0.4959198113207547,\n",
       " 0.4984237421383648,\n",
       " 0.5096658805031447,\n",
       " 0.5140487421383647,\n",
       " 0.5127869496855346]"
      ]
     },
     "execution_count": 39,
     "metadata": {},
     "output_type": "execute_result"
    }
   ],
   "source": [
    "k_scores"
   ]
  },
  {
   "cell_type": "code",
   "execution_count": 40,
   "id": "9825761e",
   "metadata": {},
   "outputs": [
    {
     "data": {
      "image/png": "[encoded data removed]",
      "text/plain": [
       "<Figure size 640x480 with 1 Axes>"
      ]
     },
     "metadata": {},
     "output_type": "display_data"
    }
   ],
   "source": [
    "plt.plot(range(k),k_scores)\n",
    "plt.xticks(range(k))\n",
    "plt.xlabel('vrednost k')\n",
    "plt.ylabel('kros validacija -tacnost')\n",
    "plt.savefig('knn_red.png')\n",
    "plt.show()"
   ]
  },
  {
   "cell_type": "markdown",
   "id": "6d071c74",
   "metadata": {},
   "source": [
    "Izabracu k=19 za obucavanje modela, kako sam tu dobila tacnost medju visim"
   ]
  },
  {
   "cell_type": "code",
   "execution_count": 57,
   "id": "3b2532dc",
   "metadata": {},
   "outputs": [
    {
     "data": {
      "text/plain": [
       "KNeighborsClassifier(n_neighbors=22)"
      ]
     },
     "execution_count": 57,
     "metadata": {},
     "output_type": "execute_result"
    }
   ],
   "source": [
    "knn_model = KNeighborsClassifier(n_neighbors=22) #treniranje modela za k=22\n",
    "knn_model.fit(x_train, y_train)"
   ]
  },
  {
   "cell_type": "code",
   "execution_count": 58,
   "id": "2d1cefdd",
   "metadata": {},
   "outputs": [],
   "source": [
    "y_pred = knn_model.predict(x_test) #predvijdanje modela na test skupu"
   ]
  },
  {
   "cell_type": "code",
   "execution_count": 59,
   "id": "569a3672",
   "metadata": {},
   "outputs": [
    {
     "data": {
      "text/plain": [
       "array([5, 5, 6, 5, 6, 5, 6, 5, 5, 5, 5, 6, 6, 5, 6, 6, 5, 6, 6, 6, 6, 5,\n",
       "       5, 5, 5, 6, 5, 5, 6, 5, 7, 5, 5, 5, 5, 5, 6, 6, 5, 7, 5, 6, 6, 6,\n",
       "       6, 5, 5, 5, 5, 7, 7, 5, 5, 6, 5, 6, 6, 6, 5, 6, 5, 5, 6, 5, 5, 5,\n",
       "       6, 5, 5, 6, 6, 6, 6, 5, 5, 5, 5, 6, 7, 5, 6, 5, 5, 6, 6, 7, 6, 7,\n",
       "       6, 6, 6, 5, 7, 6, 6, 6, 5, 6, 6, 6, 5, 6, 6, 6, 5, 5, 6, 5, 6, 5,\n",
       "       6, 5, 6, 6, 6, 6, 7, 6, 5, 6, 6, 6, 7, 6, 5, 6, 6, 5, 5, 7, 7, 5,\n",
       "       5, 5, 6, 5, 6, 6, 6, 7, 6, 5, 7, 6, 5, 5, 5, 6, 6, 5, 6, 6, 6, 5,\n",
       "       7, 6, 6, 6, 6, 5, 5, 5, 5, 5, 6, 6, 6, 6, 6, 5, 6, 6, 5, 5, 5, 6,\n",
       "       6, 6, 5, 5, 5, 6, 5, 6, 5, 6, 5, 6, 6, 7, 5, 6, 6, 5, 5, 6, 5, 5,\n",
       "       7, 6, 5, 5, 7, 5, 5, 5, 5, 5, 5, 5, 5, 5, 5, 5, 6, 7, 5, 6, 5, 6,\n",
       "       5, 5, 6, 5, 5, 6, 6, 5, 6, 5, 6, 5, 5, 6, 6, 6, 5, 5, 6, 5, 5, 5,\n",
       "       6, 6, 5, 5, 5, 5, 6, 6, 7, 6, 6, 5, 6, 5, 6, 6, 6, 6, 5, 5, 6, 5,\n",
       "       5, 6, 5, 5, 6, 7, 5, 6, 5, 6, 6, 5, 6, 6, 7, 6, 5, 6, 6, 5, 5, 5,\n",
       "       5, 6, 6, 5, 6, 5, 7, 6, 6, 6, 6, 6, 7, 5, 5, 5, 5, 6, 6, 6, 5, 6,\n",
       "       5, 5, 7, 6, 5, 6, 5, 5, 6, 6, 6, 6], dtype=int64)"
      ]
     },
     "execution_count": 59,
     "metadata": {},
     "output_type": "execute_result"
    }
   ],
   "source": [
    "y_pred"
   ]
  },
  {
   "cell_type": "code",
   "execution_count": 60,
   "id": "3c37afed",
   "metadata": {},
   "outputs": [
    {
     "name": "stdout",
     "output_type": "stream",
     "text": [
      "              precision    recall  f1-score   support\n",
      "\n",
      "           3       0.00      0.00      0.00         2\n",
      "           4       0.00      0.00      0.00        11\n",
      "           5       0.67      0.73      0.70       136\n",
      "           6       0.58      0.66      0.62       128\n",
      "           7       0.52      0.33      0.40        40\n",
      "           8       0.00      0.00      0.00         3\n",
      "\n",
      "    accuracy                           0.62       320\n",
      "   macro avg       0.29      0.29      0.29       320\n",
      "weighted avg       0.58      0.62      0.59       320\n",
      "\n"
     ]
    }
   ],
   "source": [
    "print(metrics.classification_report(y_test, y_pred)) #izvestaj"
   ]
  },
  {
   "cell_type": "code",
   "execution_count": 61,
   "id": "d5c97251",
   "metadata": {},
   "outputs": [
    {
     "data": {
      "text/plain": [
       "0.615625"
      ]
     },
     "execution_count": 61,
     "metadata": {},
     "output_type": "execute_result"
    }
   ],
   "source": [
    "tacnost_knn=metrics.accuracy_score(y_test,y_pred) #tacnost modela\n",
    "tacnost_knn"
   ]
  },
  {
   "cell_type": "markdown",
   "id": "c2e249b0",
   "metadata": {},
   "source": [
    "## Linearna regresija sa tezinama"
   ]
  },
  {
   "cell_type": "code",
   "execution_count": 62,
   "id": "4f0d012f",
   "metadata": {},
   "outputs": [],
   "source": [
    "lm=linear_model.LinearRegression()"
   ]
  },
  {
   "cell_type": "code",
   "execution_count": 63,
   "id": "b2bd4150",
   "metadata": {},
   "outputs": [],
   "source": [
    "w1=1/y_train\n",
    "w2=np.abs((1-np.sum(y_train))/y_train)\n",
    "w3= np.abs(np.random.randn(3918))"
   ]
  },
  {
   "cell_type": "code",
   "execution_count": 64,
   "id": "86789229",
   "metadata": {},
   "outputs": [
    {
     "data": {
      "text/plain": [
       "LinearRegression()"
      ]
     },
     "execution_count": 64,
     "metadata": {},
     "output_type": "execute_result"
    }
   ],
   "source": [
    "lm.fit(x_train,y_train,sample_weight=w1)"
   ]
  },
  {
   "cell_type": "code",
   "execution_count": 65,
   "id": "676524c4",
   "metadata": {},
   "outputs": [],
   "source": [
    "y_predd=lm.predict(x_test)"
   ]
  },
  {
   "cell_type": "code",
   "execution_count": 66,
   "id": "fc98ecce",
   "metadata": {},
   "outputs": [
    {
     "data": {
      "text/plain": [
       "array([4.72288829, 5.38162104, 5.40149459, 5.13462552, 5.97920441,\n",
       "       5.03425655, 5.82095111, 5.00841504, 4.68578932, 4.84426343,\n",
       "       4.97691085, 6.2842134 , 5.95113159, 5.73930966, 5.73519298,\n",
       "       5.93599948, 5.13541215, 5.96042684, 6.11532711, 6.04824286,\n",
       "       6.11293886, 5.42523426, 5.2054915 , 5.44558022, 5.60416654,\n",
       "       6.09025568, 5.28435862, 5.02219664, 5.76651053, 6.50924668,\n",
       "       6.43687114, 5.34949663, 5.11914181, 5.40885342, 5.26313541,\n",
       "       5.77038534, 5.56391019, 5.57087423, 5.3994657 , 6.30350679,\n",
       "       5.34000835, 6.02438427, 6.15199736, 5.9947341 , 6.09904225,\n",
       "       5.18910339, 5.077244  , 5.01743694, 5.237368  , 6.51479101,\n",
       "       6.38926246, 4.89203852, 5.14693146, 6.03604999, 5.34509039,\n",
       "       5.78612554, 6.34762014, 6.32725262, 5.58423135, 5.66095361,\n",
       "       5.67989288, 5.61011637, 5.56209672, 5.11484098, 5.04353851,\n",
       "       5.53939498, 5.79159299, 4.91555318, 4.82792302, 5.69622649,\n",
       "       6.0758726 , 5.61212762, 6.40258992, 5.11843357, 5.12628216,\n",
       "       5.1236032 , 5.12468945, 5.3060212 , 6.40469841, 5.17894207,\n",
       "       5.99225116, 5.24372284, 5.29519387, 5.72982855, 5.56875722,\n",
       "       6.22437979, 5.23014219, 6.4301435 , 5.65043521, 5.82217314,\n",
       "       5.8626625 , 5.26509635, 6.42838901, 6.17754584, 6.10325043,\n",
       "       5.67019949, 5.15681943, 5.9763135 , 6.27624693, 6.08491689,\n",
       "       5.18390327, 5.71867   , 5.80564148, 6.00604855, 5.3308058 ,\n",
       "       5.42179958, 6.07088707, 5.58371909, 5.66828101, 5.07845074,\n",
       "       5.76795659, 4.94048312, 5.95906761, 5.97343125, 5.73259204,\n",
       "       5.60738819, 6.12175152, 5.72402497, 6.05606027, 6.25850739,\n",
       "       5.72361646, 5.65043521, 6.41768112, 5.67858361, 5.27659702,\n",
       "       5.9061256 , 5.75644303, 5.22250016, 4.83107038, 6.81985611,\n",
       "       6.78974455, 5.3159332 , 5.6523505 , 5.1937256 , 5.90385734,\n",
       "       4.74715724, 5.95945834, 5.62292882, 5.81177072, 6.64282207,\n",
       "       5.73049061, 5.60090154, 6.3211058 , 5.88862299, 4.89061967,\n",
       "       5.38430015, 5.40372777, 5.90886445, 5.71633022, 5.23978456,\n",
       "       6.01176721, 5.23856888, 5.7260172 , 5.17586521, 5.88494275,\n",
       "       5.85186535, 6.48784632, 5.92721695, 5.19775259, 4.94211891,\n",
       "       5.5115992 , 5.54725924, 5.09246847, 5.51546559, 5.86091279,\n",
       "       5.68446554, 5.47952613, 6.09018308, 6.00866242, 5.25925584,\n",
       "       5.9061256 , 6.26867475, 5.06010292, 5.03573441, 5.85604048,\n",
       "       5.67019949, 5.33413133, 6.16189803, 5.90763869, 5.29463987,\n",
       "       5.6592522 , 5.83411732, 5.06686183, 5.83295401, 5.52597561,\n",
       "       5.87154798, 5.16324308, 5.84942519, 5.859724  , 6.30395289,\n",
       "       4.90155143, 4.9611417 , 5.05751975, 5.88982826, 4.81297393,\n",
       "       5.90886445, 4.82843709, 4.92465481, 6.55575067, 5.77518382,\n",
       "       5.06482352, 5.04859806, 5.82290194, 5.2914988 , 5.2311255 ,\n",
       "       4.96472453, 5.05617078, 5.71066034, 5.25965621, 4.93093742,\n",
       "       4.93687871, 4.71890555, 5.20115822, 5.6965465 , 4.94272752,\n",
       "       6.78974455, 4.88058584, 5.42375972, 4.15217674, 5.50378604,\n",
       "       5.48656604, 5.28459605, 6.69369801, 5.27936689, 5.40720648,\n",
       "       5.53483873, 5.96167228, 5.81384738, 5.63223506, 5.19991736,\n",
       "       5.34090864, 5.00689615, 5.0036498 , 5.4306074 , 6.40344373,\n",
       "       5.3429478 , 4.95841279, 5.08460156, 5.972146  , 5.29109313,\n",
       "       5.30554082, 5.17398247, 5.91919724, 5.83353738, 4.94543928,\n",
       "       5.28767187, 5.3159332 , 5.04896894, 6.25615397, 6.33679616,\n",
       "       6.15832093, 5.5271737 , 6.04961621, 5.22351725, 6.0355238 ,\n",
       "       5.29519387, 5.30112934, 5.82893183, 6.15374314, 5.54841769,\n",
       "       4.93391275, 5.46330757, 6.01872855, 5.48107876, 4.83372748,\n",
       "       5.85186535, 4.96272872, 5.11572894, 5.69960193, 6.65590039,\n",
       "       4.82653839, 5.65454255, 5.13430076, 5.53752998, 5.72142901,\n",
       "       5.16582239, 5.30700955, 5.38939153, 6.054615  , 6.30314163,\n",
       "       4.95790609, 5.80045875, 5.47699757, 5.65094441, 5.05107492,\n",
       "       5.21859009, 5.23764635, 5.60065099, 6.08996991, 5.04994996,\n",
       "       5.9163337 , 5.02454114, 6.51479101, 6.10990342, 5.5831431 ,\n",
       "       5.71474437, 5.99102039, 5.82217314, 6.51906149, 5.09608264,\n",
       "       4.16472222, 5.15587595, 4.87733022, 6.21704282, 5.81395497,\n",
       "       4.70944228, 5.36989486, 5.29774116, 5.36448241, 5.08292181,\n",
       "       6.09496663, 5.0370111 , 5.45137708, 5.29317703, 5.23058191,\n",
       "       4.93540525, 5.6021809 , 6.08338366, 5.73754569, 5.65870558])"
      ]
     },
     "execution_count": 66,
     "metadata": {},
     "output_type": "execute_result"
    }
   ],
   "source": [
    "y_predd"
   ]
  },
  {
   "cell_type": "code",
   "execution_count": 67,
   "id": "4b0d3f67",
   "metadata": {},
   "outputs": [
    {
     "data": {
      "text/plain": [
       "array([5., 5., 5., 5., 6., 5., 6., 5., 5., 5., 5., 6., 6., 6., 6., 6., 5.,\n",
       "       6., 6., 6., 6., 5., 5., 5., 6., 6., 5., 5., 6., 7., 6., 5., 5., 5.,\n",
       "       5., 6., 6., 6., 5., 6., 5., 6., 6., 6., 6., 5., 5., 5., 5., 7., 6.,\n",
       "       5., 5., 6., 5., 6., 6., 6., 6., 6., 6., 6., 6., 5., 5., 6., 6., 5.,\n",
       "       5., 6., 6., 6., 6., 5., 5., 5., 5., 5., 6., 5., 6., 5., 5., 6., 6.,\n",
       "       6., 5., 6., 6., 6., 6., 5., 6., 6., 6., 6., 5., 6., 6., 6., 5., 6.,\n",
       "       6., 6., 5., 5., 6., 6., 6., 5., 6., 5., 6., 6., 6., 6., 6., 6., 6.,\n",
       "       6., 6., 6., 6., 6., 5., 6., 6., 5., 5., 7., 7., 5., 6., 5., 6., 5.,\n",
       "       6., 6., 6., 7., 6., 6., 6., 6., 5., 5., 5., 6., 6., 5., 6., 5., 6.,\n",
       "       5., 6., 6., 6., 6., 5., 5., 6., 6., 5., 6., 6., 6., 5., 6., 6., 5.,\n",
       "       6., 6., 5., 5., 6., 6., 5., 6., 6., 5., 6., 6., 5., 6., 6., 6., 5.,\n",
       "       6., 6., 6., 5., 5., 5., 6., 5., 6., 5., 5., 7., 6., 5., 5., 6., 5.,\n",
       "       5., 5., 5., 6., 5., 5., 5., 5., 5., 6., 5., 7., 5., 5., 4., 6., 5.,\n",
       "       5., 7., 5., 5., 6., 6., 6., 6., 5., 5., 5., 5., 5., 6., 5., 5., 5.,\n",
       "       6., 5., 5., 5., 6., 6., 5., 5., 5., 5., 6., 6., 6., 6., 6., 5., 6.,\n",
       "       5., 5., 6., 6., 6., 5., 5., 6., 5., 5., 6., 5., 5., 6., 7., 5., 6.,\n",
       "       5., 6., 6., 5., 5., 5., 6., 6., 5., 6., 5., 6., 5., 5., 5., 6., 6.,\n",
       "       5., 6., 5., 7., 6., 6., 6., 6., 6., 7., 5., 4., 5., 5., 6., 6., 5.,\n",
       "       5., 5., 5., 5., 6., 5., 5., 5., 5., 5., 6., 6., 6., 6.])"
      ]
     },
     "execution_count": 67,
     "metadata": {},
     "output_type": "execute_result"
    }
   ],
   "source": [
    "y_predd=y_predd.round()\n",
    "y_predd"
   ]
  },
  {
   "cell_type": "code",
   "execution_count": 68,
   "id": "db1aaf5b",
   "metadata": {},
   "outputs": [
    {
     "data": {
      "text/plain": [
       "0.528125"
      ]
     },
     "execution_count": 68,
     "metadata": {},
     "output_type": "execute_result"
    }
   ],
   "source": [
    "metrics.mean_squared_error(y_test,y_predd)"
   ]
  },
  {
   "cell_type": "code",
   "execution_count": 69,
   "id": "13b36508",
   "metadata": {},
   "outputs": [
    {
     "data": {
      "text/plain": [
       "0.08265625"
      ]
     },
     "execution_count": 69,
     "metadata": {},
     "output_type": "execute_result"
    }
   ],
   "source": [
    "metrics.mean_absolute_percentage_error(y_test,y_predd)"
   ]
  },
  {
   "cell_type": "code",
   "execution_count": 70,
   "id": "dc03e2e8",
   "metadata": {},
   "outputs": [
    {
     "data": {
      "text/plain": [
       "0.1815485198861917"
      ]
     },
     "execution_count": 70,
     "metadata": {},
     "output_type": "execute_result"
    }
   ],
   "source": [
    "metrics.r2_score(y_test,y_predd)"
   ]
  },
  {
   "cell_type": "code",
   "execution_count": 71,
   "id": "589cab99",
   "metadata": {},
   "outputs": [
    {
     "name": "stdout",
     "output_type": "stream",
     "text": [
      "0.584375\n"
     ]
    }
   ],
   "source": [
    "print(metrics.accuracy_score(y_test,y_predd))"
   ]
  },
  {
   "cell_type": "code",
   "execution_count": 91,
   "id": "655c5d01",
   "metadata": {},
   "outputs": [
    {
     "name": "stdout",
     "output_type": "stream",
     "text": [
      "              precision    recall  f1-score   support\n",
      "\n",
      "           3       0.00      0.00      0.00         2\n",
      "           4       0.00      0.00      0.00        11\n",
      "           5       0.66      0.70      0.68       136\n",
      "           6       0.52      0.66      0.58       128\n",
      "           7       0.64      0.17      0.27        40\n",
      "           8       0.00      0.00      0.00         3\n",
      "\n",
      "    accuracy                           0.58       320\n",
      "   macro avg       0.30      0.26      0.26       320\n",
      "weighted avg       0.57      0.58      0.56       320\n",
      "\n"
     ]
    }
   ],
   "source": [
    "print(metrics.classification_report(y_test, y_predd))"
   ]
  },
  {
   "cell_type": "markdown",
   "id": "4435a9ae",
   "metadata": {},
   "source": [
    "## AdaBoost"
   ]
  },
  {
   "cell_type": "markdown",
   "id": "9b26c81d",
   "metadata": {},
   "source": [
    "Ada boost je model koji se zasniva na promenljivim tezinama instanci. Prvo se pravi bazni model."
   ]
  },
  {
   "cell_type": "code",
   "execution_count": 72,
   "id": "3fca19b4",
   "metadata": {},
   "outputs": [],
   "source": [
    "base_estimator = ensemble.RandomForestClassifier(n_estimators=100, random_state=7) #bazni model"
   ]
  },
  {
   "cell_type": "code",
   "execution_count": 73,
   "id": "084bacd4",
   "metadata": {},
   "outputs": [],
   "source": [
    "#pravljenje ansambla\n",
    "adaboost = ensemble.AdaBoostClassifier(base_estimator=base_estimator, n_estimators=50,random_state=7)"
   ]
  },
  {
   "cell_type": "code",
   "execution_count": 74,
   "id": "9a27b5c8",
   "metadata": {},
   "outputs": [
    {
     "data": {
      "text/plain": [
       "AdaBoostClassifier(base_estimator=RandomForestClassifier(random_state=7),\n",
       "                   random_state=7)"
      ]
     },
     "execution_count": 74,
     "metadata": {},
     "output_type": "execute_result"
    }
   ],
   "source": [
    "# treniranje modela \n",
    "adaboost.fit(x_train, y_train)"
   ]
  },
  {
   "cell_type": "code",
   "execution_count": 75,
   "id": "fdf4768f",
   "metadata": {},
   "outputs": [],
   "source": [
    "# predvidjanje na test skupu \n",
    "y_preddd = adaboost.predict(x_test)"
   ]
  },
  {
   "cell_type": "code",
   "execution_count": 76,
   "id": "46312131",
   "metadata": {},
   "outputs": [
    {
     "name": "stdout",
     "output_type": "stream",
     "text": [
      "              precision    recall  f1-score   support\n",
      "\n",
      "           3       0.00      0.00      0.00         2\n",
      "           4       0.00      0.00      0.00        11\n",
      "           5       0.74      0.82      0.77       136\n",
      "           6       0.68      0.70      0.69       128\n",
      "           7       0.69      0.62      0.66        40\n",
      "           8       1.00      0.33      0.50         3\n",
      "\n",
      "    accuracy                           0.71       320\n",
      "   macro avg       0.52      0.41      0.44       320\n",
      "weighted avg       0.68      0.71      0.69       320\n",
      "\n"
     ]
    }
   ],
   "source": [
    "print(metrics.classification_report(y_test, y_preddd))"
   ]
  },
  {
   "cell_type": "code",
   "execution_count": 77,
   "id": "180d1946",
   "metadata": {},
   "outputs": [
    {
     "name": "stdout",
     "output_type": "stream",
     "text": [
      "[[  0   0   2   0   0   0]\n",
      " [  0   0   7   4   0   0]\n",
      " [  0   0 111  24   1   0]\n",
      " [  0   0  30  90   8   0]\n",
      " [  0   0   1  14  25   0]\n",
      " [  0   0   0   0   2   1]]\n"
     ]
    }
   ],
   "source": [
    "print(metrics.confusion_matrix(y_test,y_preddd))"
   ]
  },
  {
   "cell_type": "code",
   "execution_count": 78,
   "id": "fea5353f",
   "metadata": {},
   "outputs": [
    {
     "name": "stdout",
     "output_type": "stream",
     "text": [
      "0.709375\n"
     ]
    }
   ],
   "source": [
    "print(metrics.accuracy_score(y_test,y_preddd))"
   ]
  },
  {
   "cell_type": "code",
   "execution_count": 79,
   "id": "09720684",
   "metadata": {},
   "outputs": [
    {
     "data": {
      "text/plain": [
       "0.365625"
      ]
     },
     "execution_count": 79,
     "metadata": {},
     "output_type": "execute_result"
    }
   ],
   "source": [
    "metrics.mean_squared_error(y_test,y_preddd)"
   ]
  },
  {
   "cell_type": "code",
   "execution_count": 80,
   "id": "35dc69cb",
   "metadata": {},
   "outputs": [
    {
     "data": {
      "text/plain": [
       "0.4333797445365942"
      ]
     },
     "execution_count": 80,
     "metadata": {},
     "output_type": "execute_result"
    }
   ],
   "source": [
    "metrics.r2_score(y_test,y_preddd)"
   ]
  },
  {
   "cell_type": "code",
   "execution_count": 81,
   "id": "779f6584",
   "metadata": {},
   "outputs": [
    {
     "data": {
      "text/plain": [
       "0.059851190476190474"
      ]
     },
     "execution_count": 81,
     "metadata": {},
     "output_type": "execute_result"
    }
   ],
   "source": [
    "metrics.mean_absolute_percentage_error(y_test,y_preddd)"
   ]
  },
  {
   "cell_type": "markdown",
   "id": "6b7348b7",
   "metadata": {},
   "source": [
    "### Multinomijalna logisticka regresija"
   ]
  },
  {
   "cell_type": "code",
   "execution_count": 82,
   "id": "a5b5dc0b",
   "metadata": {},
   "outputs": [],
   "source": [
    "mlr=linear_model.LogisticRegression(multi_class='multinomial',max_iter=1000,solver='newton-cg')"
   ]
  },
  {
   "cell_type": "code",
   "execution_count": 83,
   "id": "38799d81",
   "metadata": {},
   "outputs": [
    {
     "data": {
      "text/plain": [
       "LogisticRegression(max_iter=1000, multi_class='multinomial', solver='newton-cg')"
      ]
     },
     "execution_count": 83,
     "metadata": {},
     "output_type": "execute_result"
    }
   ],
   "source": [
    "mlr.fit(x_train,y_train)"
   ]
  },
  {
   "cell_type": "code",
   "execution_count": 84,
   "id": "578a623f",
   "metadata": {},
   "outputs": [],
   "source": [
    "y_predddd=mlr.predict(x_test)"
   ]
  },
  {
   "cell_type": "code",
   "execution_count": 85,
   "id": "35aafc6b",
   "metadata": {},
   "outputs": [
    {
     "data": {
      "text/plain": [
       "array([5, 5, 5, 5, 6, 5, 6, 5, 5, 5, 5, 6, 6, 6, 6, 6, 5, 6, 6, 6, 6, 6,\n",
       "       5, 5, 6, 6, 5, 5, 6, 6, 7, 6, 5, 5, 5, 5, 6, 6, 5, 6, 5, 6, 6, 6,\n",
       "       6, 5, 5, 5, 5, 7, 7, 5, 5, 6, 5, 6, 6, 6, 6, 6, 5, 6, 6, 5, 5, 6,\n",
       "       6, 5, 5, 6, 6, 6, 7, 5, 5, 5, 5, 5, 6, 5, 6, 5, 5, 6, 6, 6, 5, 7,\n",
       "       6, 6, 6, 5, 7, 6, 6, 6, 5, 6, 6, 6, 5, 6, 6, 6, 5, 5, 6, 5, 6, 5,\n",
       "       6, 5, 6, 6, 6, 6, 6, 6, 7, 6, 6, 6, 7, 6, 5, 6, 6, 5, 5, 7, 7, 5,\n",
       "       6, 5, 6, 5, 6, 6, 6, 7, 6, 6, 7, 6, 5, 5, 5, 6, 6, 5, 6, 5, 6, 5,\n",
       "       6, 6, 7, 6, 5, 5, 5, 5, 5, 5, 6, 6, 4, 6, 6, 5, 6, 6, 5, 5, 5, 6,\n",
       "       5, 6, 6, 5, 6, 6, 5, 6, 6, 6, 5, 6, 6, 7, 5, 5, 5, 6, 5, 6, 5, 5,\n",
       "       7, 6, 5, 5, 6, 6, 5, 5, 5, 6, 5, 5, 5, 5, 5, 6, 5, 7, 5, 5, 5, 6,\n",
       "       4, 5, 6, 5, 5, 6, 6, 6, 6, 5, 5, 5, 5, 5, 7, 5, 5, 5, 6, 5, 5, 5,\n",
       "       6, 6, 5, 5, 5, 5, 6, 7, 6, 5, 6, 5, 6, 5, 6, 6, 6, 6, 5, 5, 6, 6,\n",
       "       5, 6, 5, 5, 6, 7, 5, 6, 5, 6, 6, 5, 5, 6, 6, 6, 5, 6, 6, 6, 5, 5,\n",
       "       5, 6, 6, 5, 6, 5, 7, 6, 6, 6, 6, 6, 7, 5, 5, 5, 5, 6, 6, 5, 5, 5,\n",
       "       5, 5, 6, 5, 5, 5, 5, 5, 6, 6, 6, 6], dtype=int64)"
      ]
     },
     "execution_count": 85,
     "metadata": {},
     "output_type": "execute_result"
    }
   ],
   "source": [
    "y_predddd"
   ]
  },
  {
   "cell_type": "code",
   "execution_count": 86,
   "id": "ad7e980a",
   "metadata": {},
   "outputs": [
    {
     "name": "stdout",
     "output_type": "stream",
     "text": [
      "[[ 0  0  2  0  0  0]\n",
      " [ 0  0  7  4  0  0]\n",
      " [ 0  0 99 37  0  0]\n",
      " [ 0  2 36 83  7  0]\n",
      " [ 0  0  1 25 14  0]\n",
      " [ 0  0  0  3  0  0]]\n"
     ]
    }
   ],
   "source": [
    "print(metrics.confusion_matrix(y_test,y_predddd))"
   ]
  },
  {
   "cell_type": "code",
   "execution_count": 87,
   "id": "33746420",
   "metadata": {},
   "outputs": [
    {
     "name": "stdout",
     "output_type": "stream",
     "text": [
      "              precision    recall  f1-score   support\n",
      "\n",
      "           3       0.00      0.00      0.00         2\n",
      "           4       0.00      0.00      0.00        11\n",
      "           5       0.68      0.73      0.70       136\n",
      "           6       0.55      0.65      0.59       128\n",
      "           7       0.67      0.35      0.46        40\n",
      "           8       0.00      0.00      0.00         3\n",
      "\n",
      "    accuracy                           0.61       320\n",
      "   macro avg       0.32      0.29      0.29       320\n",
      "weighted avg       0.59      0.61      0.59       320\n",
      "\n"
     ]
    }
   ],
   "source": [
    "print(metrics.classification_report(y_test,y_predddd))"
   ]
  },
  {
   "cell_type": "code",
   "execution_count": 88,
   "id": "18e386bd",
   "metadata": {},
   "outputs": [
    {
     "data": {
      "text/plain": [
       "0.5"
      ]
     },
     "execution_count": 88,
     "metadata": {},
     "output_type": "execute_result"
    }
   ],
   "source": [
    "metrics.mean_squared_error(y_test,y_predddd)"
   ]
  },
  {
   "cell_type": "code",
   "execution_count": 89,
   "id": "28d2dea9",
   "metadata": {},
   "outputs": [
    {
     "data": {
      "text/plain": [
       "0.22513469338337677"
      ]
     },
     "execution_count": 89,
     "metadata": {},
     "output_type": "execute_result"
    }
   ],
   "source": [
    "metrics.r2_score(y_test,y_predddd)"
   ]
  },
  {
   "cell_type": "code",
   "execution_count": 90,
   "id": "28b3c650",
   "metadata": {},
   "outputs": [
    {
     "data": {
      "text/plain": [
       "0.07788690476190477"
      ]
     },
     "execution_count": 90,
     "metadata": {},
     "output_type": "execute_result"
    }
   ],
   "source": [
    "metrics.mean_absolute_percentage_error(y_test,y_predddd)"
   ]
  },
  {
   "cell_type": "code",
   "execution_count": null,
   "id": "72ede0db",
   "metadata": {},
   "outputs": [],
   "source": []
  }
 ],
 "metadata": {
  "kernelspec": {
   "display_name": "Python 3 (ipykernel)",
   "language": "python",
   "name": "python3"
  },
  "language_info": {
   "codemirror_mode": {
    "name": "ipython",
    "version": 3
   },
   "file_extension": ".py",
   "mimetype": "text/x-python",
   "name": "python",
   "nbconvert_exporter": "python",
   "pygments_lexer": "ipython3",
   "version": "3.9.13"
  }
 },
 "nbformat": 4,
 "nbformat_minor": 5
}
