{
 "cells": [
  {
   "cell_type": "markdown",
   "id": "024b5ec5",
   "metadata": {},
   "source": [
    "## Skup belog vina\n",
    "### Prosto povezana neuronska mreza"
   ]
  },
  {
   "cell_type": "code",
   "execution_count": 28,
   "id": "f32705ea",
   "metadata": {},
   "outputs": [],
   "source": [
    "import warnings\n",
    "warnings.filterwarnings('ignore')\n",
    "import pandas as pd\n",
    "import numpy as np\n",
    "import matplotlib.pyplot as plt\n",
    "from sklearn import model_selection\n",
    "import warnings\n",
    "warnings.filterwarnings('ignore')\n",
    "from sklearn.preprocessing import StandardScaler\n",
    "from tensorflow.keras.models import Sequential\n",
    "from tensorflow.keras.layers import Input, Dense, Dropout\n",
    "from tensorflow.keras import regularizers\n",
    "import keras\n",
    "from tensorflow.keras.optimizers import Adam\n",
    "from tensorflow.keras.losses import BinaryCrossentropy\n",
    "from tensorflow.keras.preprocessing import sequence"
   ]
  },
  {
   "cell_type": "code",
   "execution_count": 2,
   "id": "74652fc9",
   "metadata": {},
   "outputs": [
    {
     "name": "stdout",
     "output_type": "stream",
     "text": [
      "WARNING:tensorflow:From C:\\Users\\Aleksandra\\AppData\\Local\\Temp\\ipykernel_9128\\1980412754.py:16: The name tf.ConfigProto is deprecated. Please use tf.compat.v1.ConfigProto instead.\n",
      "\n"
     ]
    }
   ],
   "source": [
    "seed_value = 7\n",
    "\n",
    "import os\n",
    "os.environ['PYTHONHASHSEED']=str(seed_value)\n",
    "os.environ[\"CUDA_VISIBLE_DEVICES\"] = \"\"\n",
    "\n",
    "import random\n",
    "random.seed(seed_value)\n",
    "\n",
    "np.random.seed(seed_value)\n",
    "\n",
    "import tensorflow as tf\n",
    "tf.random.set_seed(seed_value)\n",
    "\n",
    "import keras.backend as K\n",
    "session_conf = tf.compat.v1.ConfigProto(intra_op_parallelism_threads=1, inter_op_parallelism_threads=1)\n",
    "sess = tf.compat.v1.Session(graph=tf.compat.v1.get_default_graph(), config=session_conf)\n",
    "tf.compat.v1.keras.backend.set_session(sess)"
   ]
  },
  {
   "cell_type": "code",
   "execution_count": 3,
   "id": "b4775fc5",
   "metadata": {},
   "outputs": [],
   "source": [
    "data=pd.read_csv('winequality-white.csv',delimiter=';')"
   ]
  },
  {
   "cell_type": "code",
   "execution_count": 4,
   "id": "d3199c5a",
   "metadata": {},
   "outputs": [
    {
     "data": {
      "text/html": [
       "<div>\n",
       "<style scoped>\n",
       "    .dataframe tbody tr th:only-of-type {\n",
       "        vertical-align: middle;\n",
       "    }\n",
       "\n",
       "    .dataframe tbody tr th {\n",
       "        vertical-align: top;\n",
       "    }\n",
       "\n",
       "    .dataframe thead th {\n",
       "        text-align: right;\n",
       "    }\n",
       "</style>\n",
       "<table border=\"1\" class=\"dataframe\">\n",
       "  <thead>\n",
       "    <tr style=\"text-align: right;\">\n",
       "      <th></th>\n",
       "      <th>fixed acidity</th>\n",
       "      <th>volatile acidity</th>\n",
       "      <th>citric acid</th>\n",
       "      <th>residual sugar</th>\n",
       "      <th>chlorides</th>\n",
       "      <th>free sulfur dioxide</th>\n",
       "      <th>total sulfur dioxide</th>\n",
       "      <th>density</th>\n",
       "      <th>pH</th>\n",
       "      <th>sulphates</th>\n",
       "      <th>alcohol</th>\n",
       "      <th>quality</th>\n",
       "    </tr>\n",
       "  </thead>\n",
       "  <tbody>\n",
       "    <tr>\n",
       "      <th>0</th>\n",
       "      <td>7.0</td>\n",
       "      <td>0.27</td>\n",
       "      <td>0.36</td>\n",
       "      <td>20.7</td>\n",
       "      <td>0.045</td>\n",
       "      <td>45.0</td>\n",
       "      <td>170.0</td>\n",
       "      <td>1.0010</td>\n",
       "      <td>3.00</td>\n",
       "      <td>0.45</td>\n",
       "      <td>8.8</td>\n",
       "      <td>6</td>\n",
       "    </tr>\n",
       "    <tr>\n",
       "      <th>1</th>\n",
       "      <td>6.3</td>\n",
       "      <td>0.30</td>\n",
       "      <td>0.34</td>\n",
       "      <td>1.6</td>\n",
       "      <td>0.049</td>\n",
       "      <td>14.0</td>\n",
       "      <td>132.0</td>\n",
       "      <td>0.9940</td>\n",
       "      <td>3.30</td>\n",
       "      <td>0.49</td>\n",
       "      <td>9.5</td>\n",
       "      <td>6</td>\n",
       "    </tr>\n",
       "    <tr>\n",
       "      <th>2</th>\n",
       "      <td>8.1</td>\n",
       "      <td>0.28</td>\n",
       "      <td>0.40</td>\n",
       "      <td>6.9</td>\n",
       "      <td>0.050</td>\n",
       "      <td>30.0</td>\n",
       "      <td>97.0</td>\n",
       "      <td>0.9951</td>\n",
       "      <td>3.26</td>\n",
       "      <td>0.44</td>\n",
       "      <td>10.1</td>\n",
       "      <td>6</td>\n",
       "    </tr>\n",
       "    <tr>\n",
       "      <th>3</th>\n",
       "      <td>7.2</td>\n",
       "      <td>0.23</td>\n",
       "      <td>0.32</td>\n",
       "      <td>8.5</td>\n",
       "      <td>0.058</td>\n",
       "      <td>47.0</td>\n",
       "      <td>186.0</td>\n",
       "      <td>0.9956</td>\n",
       "      <td>3.19</td>\n",
       "      <td>0.40</td>\n",
       "      <td>9.9</td>\n",
       "      <td>6</td>\n",
       "    </tr>\n",
       "    <tr>\n",
       "      <th>4</th>\n",
       "      <td>7.2</td>\n",
       "      <td>0.23</td>\n",
       "      <td>0.32</td>\n",
       "      <td>8.5</td>\n",
       "      <td>0.058</td>\n",
       "      <td>47.0</td>\n",
       "      <td>186.0</td>\n",
       "      <td>0.9956</td>\n",
       "      <td>3.19</td>\n",
       "      <td>0.40</td>\n",
       "      <td>9.9</td>\n",
       "      <td>6</td>\n",
       "    </tr>\n",
       "  </tbody>\n",
       "</table>\n",
       "</div>"
      ],
      "text/plain": [
       "   fixed acidity  volatile acidity  citric acid  residual sugar  chlorides  \\\n",
       "0            7.0              0.27         0.36            20.7      0.045   \n",
       "1            6.3              0.30         0.34             1.6      0.049   \n",
       "2            8.1              0.28         0.40             6.9      0.050   \n",
       "3            7.2              0.23         0.32             8.5      0.058   \n",
       "4            7.2              0.23         0.32             8.5      0.058   \n",
       "\n",
       "   free sulfur dioxide  total sulfur dioxide  density    pH  sulphates  \\\n",
       "0                 45.0                 170.0   1.0010  3.00       0.45   \n",
       "1                 14.0                 132.0   0.9940  3.30       0.49   \n",
       "2                 30.0                  97.0   0.9951  3.26       0.44   \n",
       "3                 47.0                 186.0   0.9956  3.19       0.40   \n",
       "4                 47.0                 186.0   0.9956  3.19       0.40   \n",
       "\n",
       "   alcohol  quality  \n",
       "0      8.8        6  \n",
       "1      9.5        6  \n",
       "2     10.1        6  \n",
       "3      9.9        6  \n",
       "4      9.9        6  "
      ]
     },
     "execution_count": 4,
     "metadata": {},
     "output_type": "execute_result"
    }
   ],
   "source": [
    "data.head()"
   ]
  },
  {
   "cell_type": "code",
   "execution_count": 5,
   "id": "cc6b8592",
   "metadata": {},
   "outputs": [
    {
     "data": {
      "text/html": [
       "<div>\n",
       "<style scoped>\n",
       "    .dataframe tbody tr th:only-of-type {\n",
       "        vertical-align: middle;\n",
       "    }\n",
       "\n",
       "    .dataframe tbody tr th {\n",
       "        vertical-align: top;\n",
       "    }\n",
       "\n",
       "    .dataframe thead th {\n",
       "        text-align: right;\n",
       "    }\n",
       "</style>\n",
       "<table border=\"1\" class=\"dataframe\">\n",
       "  <thead>\n",
       "    <tr style=\"text-align: right;\">\n",
       "      <th></th>\n",
       "      <th>fixed acidity</th>\n",
       "      <th>volatile acidity</th>\n",
       "      <th>citric acid</th>\n",
       "      <th>residual sugar</th>\n",
       "      <th>chlorides</th>\n",
       "      <th>free sulfur dioxide</th>\n",
       "      <th>total sulfur dioxide</th>\n",
       "      <th>density</th>\n",
       "      <th>pH</th>\n",
       "      <th>sulphates</th>\n",
       "      <th>alcohol</th>\n",
       "    </tr>\n",
       "  </thead>\n",
       "  <tbody>\n",
       "    <tr>\n",
       "      <th>0</th>\n",
       "      <td>7.0</td>\n",
       "      <td>0.27</td>\n",
       "      <td>0.36</td>\n",
       "      <td>20.7</td>\n",
       "      <td>0.045</td>\n",
       "      <td>45.0</td>\n",
       "      <td>170.0</td>\n",
       "      <td>1.0010</td>\n",
       "      <td>3.00</td>\n",
       "      <td>0.45</td>\n",
       "      <td>8.8</td>\n",
       "    </tr>\n",
       "    <tr>\n",
       "      <th>1</th>\n",
       "      <td>6.3</td>\n",
       "      <td>0.30</td>\n",
       "      <td>0.34</td>\n",
       "      <td>1.6</td>\n",
       "      <td>0.049</td>\n",
       "      <td>14.0</td>\n",
       "      <td>132.0</td>\n",
       "      <td>0.9940</td>\n",
       "      <td>3.30</td>\n",
       "      <td>0.49</td>\n",
       "      <td>9.5</td>\n",
       "    </tr>\n",
       "    <tr>\n",
       "      <th>2</th>\n",
       "      <td>8.1</td>\n",
       "      <td>0.28</td>\n",
       "      <td>0.40</td>\n",
       "      <td>6.9</td>\n",
       "      <td>0.050</td>\n",
       "      <td>30.0</td>\n",
       "      <td>97.0</td>\n",
       "      <td>0.9951</td>\n",
       "      <td>3.26</td>\n",
       "      <td>0.44</td>\n",
       "      <td>10.1</td>\n",
       "    </tr>\n",
       "    <tr>\n",
       "      <th>3</th>\n",
       "      <td>7.2</td>\n",
       "      <td>0.23</td>\n",
       "      <td>0.32</td>\n",
       "      <td>8.5</td>\n",
       "      <td>0.058</td>\n",
       "      <td>47.0</td>\n",
       "      <td>186.0</td>\n",
       "      <td>0.9956</td>\n",
       "      <td>3.19</td>\n",
       "      <td>0.40</td>\n",
       "      <td>9.9</td>\n",
       "    </tr>\n",
       "    <tr>\n",
       "      <th>4</th>\n",
       "      <td>7.2</td>\n",
       "      <td>0.23</td>\n",
       "      <td>0.32</td>\n",
       "      <td>8.5</td>\n",
       "      <td>0.058</td>\n",
       "      <td>47.0</td>\n",
       "      <td>186.0</td>\n",
       "      <td>0.9956</td>\n",
       "      <td>3.19</td>\n",
       "      <td>0.40</td>\n",
       "      <td>9.9</td>\n",
       "    </tr>\n",
       "  </tbody>\n",
       "</table>\n",
       "</div>"
      ],
      "text/plain": [
       "   fixed acidity  volatile acidity  citric acid  residual sugar  chlorides  \\\n",
       "0            7.0              0.27         0.36            20.7      0.045   \n",
       "1            6.3              0.30         0.34             1.6      0.049   \n",
       "2            8.1              0.28         0.40             6.9      0.050   \n",
       "3            7.2              0.23         0.32             8.5      0.058   \n",
       "4            7.2              0.23         0.32             8.5      0.058   \n",
       "\n",
       "   free sulfur dioxide  total sulfur dioxide  density    pH  sulphates  \\\n",
       "0                 45.0                 170.0   1.0010  3.00       0.45   \n",
       "1                 14.0                 132.0   0.9940  3.30       0.49   \n",
       "2                 30.0                  97.0   0.9951  3.26       0.44   \n",
       "3                 47.0                 186.0   0.9956  3.19       0.40   \n",
       "4                 47.0                 186.0   0.9956  3.19       0.40   \n",
       "\n",
       "   alcohol  \n",
       "0      8.8  \n",
       "1      9.5  \n",
       "2     10.1  \n",
       "3      9.9  \n",
       "4      9.9  "
      ]
     },
     "execution_count": 5,
     "metadata": {},
     "output_type": "execute_result"
    }
   ],
   "source": [
    "x=data.drop(labels='quality',axis=1)\n",
    "x.head()"
   ]
  },
  {
   "cell_type": "code",
   "execution_count": 6,
   "id": "5dc6cf79",
   "metadata": {},
   "outputs": [
    {
     "data": {
      "text/plain": [
       "0    6\n",
       "1    6\n",
       "2    6\n",
       "3    6\n",
       "4    6\n",
       "Name: quality, dtype: int64"
      ]
     },
     "execution_count": 6,
     "metadata": {},
     "output_type": "execute_result"
    }
   ],
   "source": [
    "y=data['quality']\n",
    "y.head()"
   ]
  },
  {
   "cell_type": "markdown",
   "id": "db017daa",
   "metadata": {},
   "source": [
    "Podela podataka"
   ]
  },
  {
   "cell_type": "code",
   "execution_count": 7,
   "id": "e6d9ee70",
   "metadata": {},
   "outputs": [],
   "source": [
    "x_train, x_test, y_train, y_test = model_selection.train_test_split(x, y, train_size=0.8, stratify =y , random_state =7 )"
   ]
  },
  {
   "cell_type": "code",
   "execution_count": 8,
   "id": "72226e55",
   "metadata": {},
   "outputs": [
    {
     "data": {
      "text/plain": [
       "(3918, 11)"
      ]
     },
     "execution_count": 8,
     "metadata": {},
     "output_type": "execute_result"
    }
   ],
   "source": [
    "x_train.shape"
   ]
  },
  {
   "cell_type": "code",
   "execution_count": 9,
   "id": "3a17a72b",
   "metadata": {},
   "outputs": [
    {
     "data": {
      "text/plain": [
       "(980, 11)"
      ]
     },
     "execution_count": 9,
     "metadata": {},
     "output_type": "execute_result"
    }
   ],
   "source": [
    "x_test.shape"
   ]
  },
  {
   "cell_type": "code",
   "execution_count": 10,
   "id": "53ee77f7",
   "metadata": {},
   "outputs": [
    {
     "data": {
      "text/plain": [
       "(3918,)"
      ]
     },
     "execution_count": 10,
     "metadata": {},
     "output_type": "execute_result"
    }
   ],
   "source": [
    "y_train.shape"
   ]
  },
  {
   "cell_type": "code",
   "execution_count": 11,
   "id": "8ccb3b28",
   "metadata": {},
   "outputs": [
    {
     "data": {
      "text/plain": [
       "(980,)"
      ]
     },
     "execution_count": 11,
     "metadata": {},
     "output_type": "execute_result"
    }
   ],
   "source": [
    "y_test.shape"
   ]
  },
  {
   "cell_type": "markdown",
   "id": "18b019f3",
   "metadata": {},
   "source": [
    "Standardizacija"
   ]
  },
  {
   "cell_type": "code",
   "execution_count": 12,
   "id": "c01229cd",
   "metadata": {},
   "outputs": [],
   "source": [
    "scaler=StandardScaler()"
   ]
  },
  {
   "cell_type": "code",
   "execution_count": 13,
   "id": "dbbf3741",
   "metadata": {},
   "outputs": [
    {
     "data": {
      "text/plain": [
       "StandardScaler()"
      ]
     },
     "execution_count": 13,
     "metadata": {},
     "output_type": "execute_result"
    }
   ],
   "source": [
    "scaler.fit(x_train)"
   ]
  },
  {
   "cell_type": "code",
   "execution_count": 14,
   "id": "84dd3a2c",
   "metadata": {},
   "outputs": [],
   "source": [
    "x_train=scaler.transform(x_train)\n",
    "x_test=scaler.transform(x_test)"
   ]
  },
  {
   "cell_type": "markdown",
   "id": "66bd31bb",
   "metadata": {},
   "source": [
    "Ulaz i izlaz neuronske mreze"
   ]
  },
  {
   "cell_type": "code",
   "execution_count": 15,
   "id": "7788d833",
   "metadata": {},
   "outputs": [],
   "source": [
    "number_of_features = x.shape[1]\n",
    "output_size = 10"
   ]
  },
  {
   "cell_type": "markdown",
   "id": "1552689d",
   "metadata": {},
   "source": [
    "Model"
   ]
  },
  {
   "cell_type": "code",
   "execution_count": 16,
   "id": "68cad83b",
   "metadata": {},
   "outputs": [
    {
     "name": "stdout",
     "output_type": "stream",
     "text": [
      "WARNING:tensorflow:From C:\\Users\\Aleksandra\\anaconda3\\lib\\site-packages\\keras\\src\\backend.py:1398: The name tf.executing_eagerly_outside_functions is deprecated. Please use tf.compat.v1.executing_eagerly_outside_functions instead.\n",
      "\n"
     ]
    }
   ],
   "source": [
    "model = Sequential([Input(shape=(number_of_features, )),\n",
    "                    Dense(units=64, activation='relu'),\n",
    "                    Dense(units=32, activation='relu'),\n",
    "                    Dense(units=output_size,activation='linear')\n",
    "                   ])"
   ]
  },
  {
   "cell_type": "code",
   "execution_count": 17,
   "id": "ee18834d",
   "metadata": {},
   "outputs": [
    {
     "name": "stdout",
     "output_type": "stream",
     "text": [
      "Model: \"sequential\"\n",
      "_________________________________________________________________\n",
      " Layer (type)                Output Shape              Param #   \n",
      "=================================================================\n",
      " dense (Dense)               (None, 64)                768       \n",
      "                                                                 \n",
      " dense_1 (Dense)             (None, 32)                2080      \n",
      "                                                                 \n",
      " dense_2 (Dense)             (None, 10)                330       \n",
      "                                                                 \n",
      "=================================================================\n",
      "Total params: 3178 (12.41 KB)\n",
      "Trainable params: 3178 (12.41 KB)\n",
      "Non-trainable params: 0 (0.00 Byte)\n",
      "_________________________________________________________________\n"
     ]
    }
   ],
   "source": [
    "model.summary()"
   ]
  },
  {
   "cell_type": "markdown",
   "id": "2946f7dc",
   "metadata": {},
   "source": [
    "Model treniranje"
   ]
  },
  {
   "cell_type": "code",
   "execution_count": 18,
   "id": "c8783849",
   "metadata": {},
   "outputs": [
    {
     "name": "stdout",
     "output_type": "stream",
     "text": [
      "WARNING:tensorflow:From C:\\Users\\Aleksandra\\anaconda3\\lib\\site-packages\\keras\\src\\optimizers\\__init__.py:309: The name tf.train.Optimizer is deprecated. Please use tf.compat.v1.train.Optimizer instead.\n",
      "\n"
     ]
    }
   ],
   "source": [
    "model.compile(optimizer='adam', loss='mean_squared_error', metrics=['accuracy'])\n"
   ]
  },
  {
   "cell_type": "code",
   "execution_count": 19,
   "id": "6adf6755",
   "metadata": {},
   "outputs": [
    {
     "name": "stdout",
     "output_type": "stream",
     "text": [
      "Epoch 1/50\n",
      "WARNING:tensorflow:From C:\\Users\\Aleksandra\\anaconda3\\lib\\site-packages\\keras\\src\\utils\\tf_utils.py:492: The name tf.ragged.RaggedTensorValue is deprecated. Please use tf.compat.v1.ragged.RaggedTensorValue instead.\n",
      "\n",
      "196/196 [==============================] - 2s 4ms/step - loss: 11.4647 - accuracy: 0.1139 - val_loss: 2.7033 - val_accuracy: 0.1071\n",
      "Epoch 2/50\n",
      "196/196 [==============================] - 1s 4ms/step - loss: 1.9182 - accuracy: 0.1043 - val_loss: 1.7427 - val_accuracy: 0.0969\n",
      "Epoch 3/50\n",
      "196/196 [==============================] - 1s 3ms/step - loss: 1.3207 - accuracy: 0.0996 - val_loss: 1.4005 - val_accuracy: 0.0893\n",
      "Epoch 4/50\n",
      "196/196 [==============================] - 1s 4ms/step - loss: 0.9970 - accuracy: 0.0954 - val_loss: 1.0595 - val_accuracy: 0.0893\n",
      "Epoch 5/50\n",
      "196/196 [==============================] - 1s 4ms/step - loss: 0.7895 - accuracy: 0.0766 - val_loss: 0.8579 - val_accuracy: 0.0663\n",
      "Epoch 6/50\n",
      "196/196 [==============================] - 1s 4ms/step - loss: 0.6650 - accuracy: 0.0625 - val_loss: 0.7482 - val_accuracy: 0.0676\n",
      "Epoch 7/50\n",
      "196/196 [==============================] - 1s 3ms/step - loss: 0.5976 - accuracy: 0.0590 - val_loss: 0.6911 - val_accuracy: 0.0651\n",
      "Epoch 8/50\n",
      "196/196 [==============================] - 1s 4ms/step - loss: 0.5606 - accuracy: 0.0638 - val_loss: 0.6629 - val_accuracy: 0.0791\n",
      "Epoch 9/50\n",
      "196/196 [==============================] - 1s 4ms/step - loss: 0.5300 - accuracy: 0.0664 - val_loss: 0.6271 - val_accuracy: 0.0906\n",
      "Epoch 10/50\n",
      "196/196 [==============================] - 1s 4ms/step - loss: 0.5175 - accuracy: 0.0769 - val_loss: 0.6022 - val_accuracy: 0.0842\n",
      "Epoch 11/50\n",
      "196/196 [==============================] - 1s 4ms/step - loss: 0.5021 - accuracy: 0.0734 - val_loss: 0.5882 - val_accuracy: 0.0880\n",
      "Epoch 12/50\n",
      "196/196 [==============================] - 1s 4ms/step - loss: 0.4954 - accuracy: 0.0753 - val_loss: 0.5938 - val_accuracy: 0.0880\n",
      "Epoch 13/50\n",
      "196/196 [==============================] - 1s 4ms/step - loss: 0.4869 - accuracy: 0.0718 - val_loss: 0.5823 - val_accuracy: 0.0867\n",
      "Epoch 14/50\n",
      "196/196 [==============================] - 1s 4ms/step - loss: 0.4842 - accuracy: 0.0788 - val_loss: 0.6066 - val_accuracy: 0.0842\n",
      "Epoch 15/50\n",
      "196/196 [==============================] - 1s 3ms/step - loss: 0.4813 - accuracy: 0.0807 - val_loss: 0.5777 - val_accuracy: 0.0829\n",
      "Epoch 16/50\n",
      "196/196 [==============================] - 1s 4ms/step - loss: 0.4680 - accuracy: 0.0756 - val_loss: 0.5644 - val_accuracy: 0.0753\n",
      "Epoch 17/50\n",
      "196/196 [==============================] - 1s 4ms/step - loss: 0.4684 - accuracy: 0.0775 - val_loss: 0.5775 - val_accuracy: 0.0829\n",
      "Epoch 18/50\n",
      "196/196 [==============================] - 1s 4ms/step - loss: 0.4630 - accuracy: 0.0740 - val_loss: 0.5978 - val_accuracy: 0.0829\n",
      "Epoch 19/50\n",
      "196/196 [==============================] - 1s 4ms/step - loss: 0.4707 - accuracy: 0.0833 - val_loss: 0.5727 - val_accuracy: 0.1020\n",
      "Epoch 20/50\n",
      "196/196 [==============================] - 1s 4ms/step - loss: 0.4602 - accuracy: 0.0833 - val_loss: 0.5731 - val_accuracy: 0.1008\n",
      "Epoch 21/50\n",
      "196/196 [==============================] - 1s 4ms/step - loss: 0.4610 - accuracy: 0.0763 - val_loss: 0.5704 - val_accuracy: 0.0714\n",
      "Epoch 22/50\n",
      "196/196 [==============================] - 1s 4ms/step - loss: 0.4525 - accuracy: 0.0826 - val_loss: 0.6006 - val_accuracy: 0.0918\n",
      "Epoch 23/50\n",
      "196/196 [==============================] - 1s 4ms/step - loss: 0.4547 - accuracy: 0.0795 - val_loss: 0.5800 - val_accuracy: 0.0829\n",
      "Epoch 24/50\n",
      "196/196 [==============================] - 1s 4ms/step - loss: 0.4469 - accuracy: 0.0836 - val_loss: 0.6210 - val_accuracy: 0.0829\n",
      "Epoch 25/50\n",
      "196/196 [==============================] - 1s 4ms/step - loss: 0.4453 - accuracy: 0.0836 - val_loss: 0.5594 - val_accuracy: 0.0855\n",
      "Epoch 26/50\n",
      "196/196 [==============================] - 1s 4ms/step - loss: 0.4413 - accuracy: 0.0846 - val_loss: 0.5766 - val_accuracy: 0.1059\n",
      "Epoch 27/50\n",
      "196/196 [==============================] - 1s 4ms/step - loss: 0.4347 - accuracy: 0.0823 - val_loss: 0.5844 - val_accuracy: 0.0969\n",
      "Epoch 28/50\n",
      "196/196 [==============================] - 1s 4ms/step - loss: 0.4375 - accuracy: 0.0839 - val_loss: 0.5734 - val_accuracy: 0.0918\n",
      "Epoch 29/50\n",
      "196/196 [==============================] - 1s 4ms/step - loss: 0.4431 - accuracy: 0.0858 - val_loss: 0.5936 - val_accuracy: 0.0855\n",
      "Epoch 30/50\n",
      "196/196 [==============================] - 1s 4ms/step - loss: 0.4386 - accuracy: 0.0887 - val_loss: 0.5788 - val_accuracy: 0.0714\n",
      "Epoch 31/50\n",
      "196/196 [==============================] - 1s 5ms/step - loss: 0.4297 - accuracy: 0.0839 - val_loss: 0.5631 - val_accuracy: 0.0906\n",
      "Epoch 32/50\n",
      "196/196 [==============================] - 1s 4ms/step - loss: 0.4276 - accuracy: 0.0852 - val_loss: 0.5634 - val_accuracy: 0.0778\n",
      "Epoch 33/50\n",
      "196/196 [==============================] - 1s 4ms/step - loss: 0.4269 - accuracy: 0.0858 - val_loss: 0.5805 - val_accuracy: 0.0995\n",
      "Epoch 34/50\n",
      "196/196 [==============================] - 1s 4ms/step - loss: 0.4351 - accuracy: 0.0871 - val_loss: 0.5956 - val_accuracy: 0.1046\n",
      "Epoch 35/50\n",
      "196/196 [==============================] - 1s 4ms/step - loss: 0.4266 - accuracy: 0.0938 - val_loss: 0.6138 - val_accuracy: 0.0944\n",
      "Epoch 36/50\n",
      "196/196 [==============================] - 1s 4ms/step - loss: 0.4241 - accuracy: 0.0890 - val_loss: 0.5689 - val_accuracy: 0.0893\n",
      "Epoch 37/50\n",
      "196/196 [==============================] - 1s 4ms/step - loss: 0.4188 - accuracy: 0.0900 - val_loss: 0.5788 - val_accuracy: 0.0765\n",
      "Epoch 38/50\n",
      "196/196 [==============================] - 1s 4ms/step - loss: 0.4186 - accuracy: 0.0925 - val_loss: 0.6141 - val_accuracy: 0.0714\n",
      "Epoch 39/50\n",
      "196/196 [==============================] - 1s 4ms/step - loss: 0.4241 - accuracy: 0.0906 - val_loss: 0.5839 - val_accuracy: 0.1046\n",
      "Epoch 40/50\n",
      "196/196 [==============================] - 1s 4ms/step - loss: 0.4188 - accuracy: 0.0836 - val_loss: 0.5662 - val_accuracy: 0.0842\n",
      "Epoch 41/50\n",
      "196/196 [==============================] - 1s 4ms/step - loss: 0.4109 - accuracy: 0.0919 - val_loss: 0.5702 - val_accuracy: 0.0995\n",
      "Epoch 42/50\n",
      "196/196 [==============================] - 1s 4ms/step - loss: 0.4138 - accuracy: 0.0868 - val_loss: 0.5644 - val_accuracy: 0.1110\n",
      "Epoch 43/50\n",
      "196/196 [==============================] - 1s 4ms/step - loss: 0.4059 - accuracy: 0.0913 - val_loss: 0.5620 - val_accuracy: 0.1059\n",
      "Epoch 44/50\n",
      "196/196 [==============================] - 1s 4ms/step - loss: 0.4031 - accuracy: 0.0862 - val_loss: 0.6097 - val_accuracy: 0.0829\n",
      "Epoch 45/50\n",
      "196/196 [==============================] - 1s 4ms/step - loss: 0.4060 - accuracy: 0.0948 - val_loss: 0.6021 - val_accuracy: 0.0778\n",
      "Epoch 46/50\n",
      "196/196 [==============================] - 1s 3ms/step - loss: 0.4069 - accuracy: 0.0871 - val_loss: 0.6077 - val_accuracy: 0.1135\n",
      "Epoch 47/50\n",
      "196/196 [==============================] - 1s 4ms/step - loss: 0.4039 - accuracy: 0.0973 - val_loss: 0.5802 - val_accuracy: 0.1199\n",
      "Epoch 48/50\n",
      "196/196 [==============================] - 1s 4ms/step - loss: 0.4033 - accuracy: 0.0944 - val_loss: 0.6243 - val_accuracy: 0.1020\n",
      "Epoch 49/50\n",
      "196/196 [==============================] - 1s 4ms/step - loss: 0.3958 - accuracy: 0.0957 - val_loss: 0.5713 - val_accuracy: 0.0753\n",
      "Epoch 50/50\n",
      "196/196 [==============================] - 1s 4ms/step - loss: 0.4007 - accuracy: 0.0862 - val_loss: 0.5765 - val_accuracy: 0.0867\n"
     ]
    }
   ],
   "source": [
    "#50 epoha\n",
    "history = model.fit(x_train, y_train, epochs=50, batch_size=16, validation_split=0.2, verbose=1)"
   ]
  },
  {
   "cell_type": "code",
   "execution_count": 20,
   "id": "775e46c0",
   "metadata": {},
   "outputs": [],
   "source": [
    "epochs = history.epoch\n",
    "loss = history.history['loss']\n",
    "validation_loss = history.history['val_loss']"
   ]
  },
  {
   "cell_type": "code",
   "execution_count": 29,
   "id": "9047b85c",
   "metadata": {},
   "outputs": [
    {
     "data": {
      "image/png": "[encoded data removed]",
      "text/plain": [
       "<Figure size 640x480 with 1 Axes>"
      ]
     },
     "metadata": {},
     "output_type": "display_data"
    }
   ],
   "source": [
    "# Promena greske\n",
    "plt.plot(epochs, loss, label='training')\n",
    "plt.plot(epochs, validation_loss, label='validation')\n",
    "plt.xlabel('Epohe')\n",
    "plt.ylabel('Greska')\n",
    "plt.legend(loc='best')\n",
    "plt.savefig('promena_greske.png')\n",
    "plt.show()"
   ]
  },
  {
   "cell_type": "code",
   "execution_count": 22,
   "id": "ce9b37c2",
   "metadata": {},
   "outputs": [],
   "source": [
    "acc = history.history['accuracy']\n",
    "validation_acc = history.history['val_accuracy']"
   ]
  },
  {
   "cell_type": "code",
   "execution_count": 30,
   "id": "46940734",
   "metadata": {},
   "outputs": [
    {
     "data": {
      "image/png": "[encoded data removed]",
      "text/plain": [
       "<Figure size 640x480 with 1 Axes>"
      ]
     },
     "metadata": {},
     "output_type": "display_data"
    }
   ],
   "source": [
    "# Promena tacnosti\n",
    "plt.plot(epochs, acc, label='training')\n",
    "plt.plot(epochs, validation_acc, label='validation')\n",
    "plt.xlabel('Epohe')\n",
    "plt.ylabel('Tacnost')\n",
    "plt.legend(loc='best')\n",
    "plt.savefig('promena_tacnosti.png')\n",
    "plt.show()"
   ]
  },
  {
   "cell_type": "code",
   "execution_count": 24,
   "id": "c98abaf4",
   "metadata": {},
   "outputs": [
    {
     "name": "stdout",
     "output_type": "stream",
     "text": [
      "245/245 [==============================] - 1s 3ms/step - loss: 0.4172 - accuracy: 0.0817\n"
     ]
    }
   ],
   "source": [
    "train_scores = model.evaluate(x_train, y_train, batch_size=16)"
   ]
  },
  {
   "cell_type": "code",
   "execution_count": 25,
   "id": "fbb8c6c6",
   "metadata": {},
   "outputs": [
    {
     "name": "stdout",
     "output_type": "stream",
     "text": [
      "62/62 [==============================] - 0s 3ms/step - loss: 0.4946 - accuracy: 0.0837\n"
     ]
    }
   ],
   "source": [
    "test_scores = model.evaluate(x_test, y_test, batch_size=16)"
   ]
  },
  {
   "cell_type": "code",
   "execution_count": 26,
   "id": "3afb9368",
   "metadata": {},
   "outputs": [],
   "source": [
    "model.save('wine_quality_model.hdf5') #cuvanje modela"
   ]
  },
  {
   "cell_type": "code",
   "execution_count": 27,
   "id": "75f24349",
   "metadata": {},
   "outputs": [],
   "source": [
    "#ponovni poziv modela\n",
    "#loaded_model = load_model('wine_quality_model.hdf5')"
   ]
  },
  {
   "cell_type": "code",
   "execution_count": null,
   "id": "ab3c6f06",
   "metadata": {},
   "outputs": [],
   "source": []
  },
  {
   "cell_type": "code",
   "execution_count": null,
   "id": "fbf84447",
   "metadata": {},
   "outputs": [],
   "source": []
  },
  {
   "cell_type": "code",
   "execution_count": null,
   "id": "98e4c7da",
   "metadata": {},
   "outputs": [],
   "source": []
  }
 ],
 "metadata": {
  "kernelspec": {
   "display_name": "Python 3 (ipykernel)",
   "language": "python",
   "name": "python3"
  },
  "language_info": {
   "codemirror_mode": {
    "name": "ipython",
    "version": 3
   },
   "file_extension": ".py",
   "mimetype": "text/x-python",
   "name": "python",
   "nbconvert_exporter": "python",
   "pygments_lexer": "ipython3",
   "version": "3.9.13"
  }
 },
 "nbformat": 4,
 "nbformat_minor": 5
}
