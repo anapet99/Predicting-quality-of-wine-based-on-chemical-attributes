{
 "cells": [
  {
   "cell_type": "markdown",
   "id": "229d8fef",
   "metadata": {},
   "source": [
    "# Skup belog vina\n",
    "### Ucitavanje podataka"
   ]
  },
  {
   "cell_type": "code",
   "execution_count": 1,
   "id": "b7388887",
   "metadata": {},
   "outputs": [],
   "source": [
    "import numpy as np\n",
    "import matplotlib.pyplot as plt\n",
    "import pandas as pd\n",
    "import warnings\n",
    "warnings.filterwarnings('ignore')\n",
    "from sklearn import tree\n",
    "from sklearn import ensemble\n",
    "from sklearn import metrics\n",
    "import seaborn as sns\n",
    "from sklearn import model_selection\n",
    "from sklearn import linear_model\n",
    "from sklearn import metrics\n",
    "from sklearn import preprocessing\n",
    "from sklearn import feature_selection\n",
    "from sklearn import neighbors\n",
    "from sklearn.neighbors import KNeighborsClassifier"
   ]
  },
  {
   "cell_type": "code",
   "execution_count": 2,
   "id": "18cccbad",
   "metadata": {},
   "outputs": [],
   "source": [
    "np.random.seed(7)"
   ]
  },
  {
   "cell_type": "code",
   "execution_count": 3,
   "id": "c3279b86",
   "metadata": {},
   "outputs": [],
   "source": [
    "data_white=pd.read_csv('winequality-white.csv',delimiter=';') #ucitavanje parametara belog vina"
   ]
  },
  {
   "cell_type": "code",
   "execution_count": 4,
   "id": "e676abbf",
   "metadata": {},
   "outputs": [
    {
     "data": {
      "text/html": [
       "<div>\n",
       "<style scoped>\n",
       "    .dataframe tbody tr th:only-of-type {\n",
       "        vertical-align: middle;\n",
       "    }\n",
       "\n",
       "    .dataframe tbody tr th {\n",
       "        vertical-align: top;\n",
       "    }\n",
       "\n",
       "    .dataframe thead th {\n",
       "        text-align: right;\n",
       "    }\n",
       "</style>\n",
       "<table border=\"1\" class=\"dataframe\">\n",
       "  <thead>\n",
       "    <tr style=\"text-align: right;\">\n",
       "      <th></th>\n",
       "      <th>fixed acidity</th>\n",
       "      <th>volatile acidity</th>\n",
       "      <th>citric acid</th>\n",
       "      <th>residual sugar</th>\n",
       "      <th>chlorides</th>\n",
       "      <th>free sulfur dioxide</th>\n",
       "      <th>total sulfur dioxide</th>\n",
       "      <th>density</th>\n",
       "      <th>pH</th>\n",
       "      <th>sulphates</th>\n",
       "      <th>alcohol</th>\n",
       "      <th>quality</th>\n",
       "    </tr>\n",
       "  </thead>\n",
       "  <tbody>\n",
       "    <tr>\n",
       "      <th>0</th>\n",
       "      <td>7.0</td>\n",
       "      <td>0.27</td>\n",
       "      <td>0.36</td>\n",
       "      <td>20.7</td>\n",
       "      <td>0.045</td>\n",
       "      <td>45.0</td>\n",
       "      <td>170.0</td>\n",
       "      <td>1.0010</td>\n",
       "      <td>3.00</td>\n",
       "      <td>0.45</td>\n",
       "      <td>8.8</td>\n",
       "      <td>6</td>\n",
       "    </tr>\n",
       "    <tr>\n",
       "      <th>1</th>\n",
       "      <td>6.3</td>\n",
       "      <td>0.30</td>\n",
       "      <td>0.34</td>\n",
       "      <td>1.6</td>\n",
       "      <td>0.049</td>\n",
       "      <td>14.0</td>\n",
       "      <td>132.0</td>\n",
       "      <td>0.9940</td>\n",
       "      <td>3.30</td>\n",
       "      <td>0.49</td>\n",
       "      <td>9.5</td>\n",
       "      <td>6</td>\n",
       "    </tr>\n",
       "    <tr>\n",
       "      <th>2</th>\n",
       "      <td>8.1</td>\n",
       "      <td>0.28</td>\n",
       "      <td>0.40</td>\n",
       "      <td>6.9</td>\n",
       "      <td>0.050</td>\n",
       "      <td>30.0</td>\n",
       "      <td>97.0</td>\n",
       "      <td>0.9951</td>\n",
       "      <td>3.26</td>\n",
       "      <td>0.44</td>\n",
       "      <td>10.1</td>\n",
       "      <td>6</td>\n",
       "    </tr>\n",
       "    <tr>\n",
       "      <th>3</th>\n",
       "      <td>7.2</td>\n",
       "      <td>0.23</td>\n",
       "      <td>0.32</td>\n",
       "      <td>8.5</td>\n",
       "      <td>0.058</td>\n",
       "      <td>47.0</td>\n",
       "      <td>186.0</td>\n",
       "      <td>0.9956</td>\n",
       "      <td>3.19</td>\n",
       "      <td>0.40</td>\n",
       "      <td>9.9</td>\n",
       "      <td>6</td>\n",
       "    </tr>\n",
       "    <tr>\n",
       "      <th>4</th>\n",
       "      <td>7.2</td>\n",
       "      <td>0.23</td>\n",
       "      <td>0.32</td>\n",
       "      <td>8.5</td>\n",
       "      <td>0.058</td>\n",
       "      <td>47.0</td>\n",
       "      <td>186.0</td>\n",
       "      <td>0.9956</td>\n",
       "      <td>3.19</td>\n",
       "      <td>0.40</td>\n",
       "      <td>9.9</td>\n",
       "      <td>6</td>\n",
       "    </tr>\n",
       "  </tbody>\n",
       "</table>\n",
       "</div>"
      ],
      "text/plain": [
       "   fixed acidity  volatile acidity  citric acid  residual sugar  chlorides  \\\n",
       "0            7.0              0.27         0.36            20.7      0.045   \n",
       "1            6.3              0.30         0.34             1.6      0.049   \n",
       "2            8.1              0.28         0.40             6.9      0.050   \n",
       "3            7.2              0.23         0.32             8.5      0.058   \n",
       "4            7.2              0.23         0.32             8.5      0.058   \n",
       "\n",
       "   free sulfur dioxide  total sulfur dioxide  density    pH  sulphates  \\\n",
       "0                 45.0                 170.0   1.0010  3.00       0.45   \n",
       "1                 14.0                 132.0   0.9940  3.30       0.49   \n",
       "2                 30.0                  97.0   0.9951  3.26       0.44   \n",
       "3                 47.0                 186.0   0.9956  3.19       0.40   \n",
       "4                 47.0                 186.0   0.9956  3.19       0.40   \n",
       "\n",
       "   alcohol  quality  \n",
       "0      8.8        6  \n",
       "1      9.5        6  \n",
       "2     10.1        6  \n",
       "3      9.9        6  \n",
       "4      9.9        6  "
      ]
     },
     "execution_count": 4,
     "metadata": {},
     "output_type": "execute_result"
    }
   ],
   "source": [
    "data_white.head() #prvih 5, izgled tabele"
   ]
  },
  {
   "cell_type": "code",
   "execution_count": 5,
   "id": "021fc827",
   "metadata": {},
   "outputs": [],
   "source": [
    "y_white=data_white['quality'] #ciljna promenljiva, uzima vrednosti od 1-10, ocena kvaliteta vina"
   ]
  },
  {
   "cell_type": "code",
   "execution_count": 6,
   "id": "86b1d804",
   "metadata": {},
   "outputs": [
    {
     "data": {
      "text/plain": [
       "0    6\n",
       "1    6\n",
       "2    6\n",
       "3    6\n",
       "4    6\n",
       "Name: quality, dtype: int64"
      ]
     },
     "execution_count": 6,
     "metadata": {},
     "output_type": "execute_result"
    }
   ],
   "source": [
    "y_white.head()"
   ]
  },
  {
   "cell_type": "code",
   "execution_count": 7,
   "id": "53590e53",
   "metadata": {},
   "outputs": [],
   "source": [
    "x_white=data_white.drop(labels='quality',axis=1) #vrednosti atributa"
   ]
  },
  {
   "cell_type": "code",
   "execution_count": 8,
   "id": "f0daa961",
   "metadata": {},
   "outputs": [
    {
     "data": {
      "text/html": [
       "<div>\n",
       "<style scoped>\n",
       "    .dataframe tbody tr th:only-of-type {\n",
       "        vertical-align: middle;\n",
       "    }\n",
       "\n",
       "    .dataframe tbody tr th {\n",
       "        vertical-align: top;\n",
       "    }\n",
       "\n",
       "    .dataframe thead th {\n",
       "        text-align: right;\n",
       "    }\n",
       "</style>\n",
       "<table border=\"1\" class=\"dataframe\">\n",
       "  <thead>\n",
       "    <tr style=\"text-align: right;\">\n",
       "      <th></th>\n",
       "      <th>fixed acidity</th>\n",
       "      <th>volatile acidity</th>\n",
       "      <th>citric acid</th>\n",
       "      <th>residual sugar</th>\n",
       "      <th>chlorides</th>\n",
       "      <th>free sulfur dioxide</th>\n",
       "      <th>total sulfur dioxide</th>\n",
       "      <th>density</th>\n",
       "      <th>pH</th>\n",
       "      <th>sulphates</th>\n",
       "      <th>alcohol</th>\n",
       "    </tr>\n",
       "  </thead>\n",
       "  <tbody>\n",
       "    <tr>\n",
       "      <th>0</th>\n",
       "      <td>7.0</td>\n",
       "      <td>0.27</td>\n",
       "      <td>0.36</td>\n",
       "      <td>20.7</td>\n",
       "      <td>0.045</td>\n",
       "      <td>45.0</td>\n",
       "      <td>170.0</td>\n",
       "      <td>1.0010</td>\n",
       "      <td>3.00</td>\n",
       "      <td>0.45</td>\n",
       "      <td>8.8</td>\n",
       "    </tr>\n",
       "    <tr>\n",
       "      <th>1</th>\n",
       "      <td>6.3</td>\n",
       "      <td>0.30</td>\n",
       "      <td>0.34</td>\n",
       "      <td>1.6</td>\n",
       "      <td>0.049</td>\n",
       "      <td>14.0</td>\n",
       "      <td>132.0</td>\n",
       "      <td>0.9940</td>\n",
       "      <td>3.30</td>\n",
       "      <td>0.49</td>\n",
       "      <td>9.5</td>\n",
       "    </tr>\n",
       "    <tr>\n",
       "      <th>2</th>\n",
       "      <td>8.1</td>\n",
       "      <td>0.28</td>\n",
       "      <td>0.40</td>\n",
       "      <td>6.9</td>\n",
       "      <td>0.050</td>\n",
       "      <td>30.0</td>\n",
       "      <td>97.0</td>\n",
       "      <td>0.9951</td>\n",
       "      <td>3.26</td>\n",
       "      <td>0.44</td>\n",
       "      <td>10.1</td>\n",
       "    </tr>\n",
       "    <tr>\n",
       "      <th>3</th>\n",
       "      <td>7.2</td>\n",
       "      <td>0.23</td>\n",
       "      <td>0.32</td>\n",
       "      <td>8.5</td>\n",
       "      <td>0.058</td>\n",
       "      <td>47.0</td>\n",
       "      <td>186.0</td>\n",
       "      <td>0.9956</td>\n",
       "      <td>3.19</td>\n",
       "      <td>0.40</td>\n",
       "      <td>9.9</td>\n",
       "    </tr>\n",
       "    <tr>\n",
       "      <th>4</th>\n",
       "      <td>7.2</td>\n",
       "      <td>0.23</td>\n",
       "      <td>0.32</td>\n",
       "      <td>8.5</td>\n",
       "      <td>0.058</td>\n",
       "      <td>47.0</td>\n",
       "      <td>186.0</td>\n",
       "      <td>0.9956</td>\n",
       "      <td>3.19</td>\n",
       "      <td>0.40</td>\n",
       "      <td>9.9</td>\n",
       "    </tr>\n",
       "  </tbody>\n",
       "</table>\n",
       "</div>"
      ],
      "text/plain": [
       "   fixed acidity  volatile acidity  citric acid  residual sugar  chlorides  \\\n",
       "0            7.0              0.27         0.36            20.7      0.045   \n",
       "1            6.3              0.30         0.34             1.6      0.049   \n",
       "2            8.1              0.28         0.40             6.9      0.050   \n",
       "3            7.2              0.23         0.32             8.5      0.058   \n",
       "4            7.2              0.23         0.32             8.5      0.058   \n",
       "\n",
       "   free sulfur dioxide  total sulfur dioxide  density    pH  sulphates  \\\n",
       "0                 45.0                 170.0   1.0010  3.00       0.45   \n",
       "1                 14.0                 132.0   0.9940  3.30       0.49   \n",
       "2                 30.0                  97.0   0.9951  3.26       0.44   \n",
       "3                 47.0                 186.0   0.9956  3.19       0.40   \n",
       "4                 47.0                 186.0   0.9956  3.19       0.40   \n",
       "\n",
       "   alcohol  \n",
       "0      8.8  \n",
       "1      9.5  \n",
       "2     10.1  \n",
       "3      9.9  \n",
       "4      9.9  "
      ]
     },
     "execution_count": 8,
     "metadata": {},
     "output_type": "execute_result"
    }
   ],
   "source": [
    "x_white.head()  #prvih 5 instanci"
   ]
  },
  {
   "cell_type": "code",
   "execution_count": 9,
   "id": "4705fa2a",
   "metadata": {},
   "outputs": [
    {
     "data": {
      "text/plain": [
       "fixed acidity           False\n",
       "volatile acidity        False\n",
       "citric acid             False\n",
       "residual sugar          False\n",
       "chlorides               False\n",
       "free sulfur dioxide     False\n",
       "total sulfur dioxide    False\n",
       "density                 False\n",
       "pH                      False\n",
       "sulphates               False\n",
       "alcohol                 False\n",
       "quality                 False\n",
       "dtype: bool"
      ]
     },
     "execution_count": 9,
     "metadata": {},
     "output_type": "execute_result"
    }
   ],
   "source": [
    "data_white.isnull().any() #nema nula elemeneta, nepopunjenih"
   ]
  },
  {
   "cell_type": "code",
   "execution_count": 10,
   "id": "0746190b",
   "metadata": {},
   "outputs": [
    {
     "data": {
      "text/plain": [
       "4898"
      ]
     },
     "execution_count": 10,
     "metadata": {},
     "output_type": "execute_result"
    }
   ],
   "source": [
    "len(data_white) #broj instanci"
   ]
  },
  {
   "cell_type": "code",
   "execution_count": 185,
   "id": "2b3c7451",
   "metadata": {},
   "outputs": [
    {
     "data": {
      "image/png": "[encoded data removed]",
      "text/plain": [
       "<Figure size 900x1000 with 12 Axes>"
      ]
     },
     "metadata": {},
     "output_type": "display_data"
    }
   ],
   "source": [
    "x_white.hist(figsize=(9,10)) # raspodele vrednosti po atributima\n",
    "plt.savefig('raspodele_atributa.png')\n",
    "plt.show()"
   ]
  },
  {
   "cell_type": "code",
   "execution_count": 12,
   "id": "1e570cbf",
   "metadata": {},
   "outputs": [
    {
     "data": {
      "text/plain": [
       "11"
      ]
     },
     "execution_count": 12,
     "metadata": {},
     "output_type": "execute_result"
    }
   ],
   "source": [
    "len(x_white.columns) # broj kolona, broj atributa"
   ]
  },
  {
   "cell_type": "code",
   "execution_count": 13,
   "id": "4e4d29c4",
   "metadata": {},
   "outputs": [
    {
     "data": {
      "text/plain": [
       "<bound method Index.to_series of Index(['fixed acidity', 'volatile acidity', 'citric acid', 'residual sugar',\n",
       "       'chlorides', 'free sulfur dioxide', 'total sulfur dioxide', 'density',\n",
       "       'pH', 'sulphates', 'alcohol'],\n",
       "      dtype='object')>"
      ]
     },
     "execution_count": 13,
     "metadata": {},
     "output_type": "execute_result"
    }
   ],
   "source": [
    "imena_kolona=x_white.columns.to_series #imena kolona\n",
    "imena_kolona"
   ]
  },
  {
   "cell_type": "code",
   "execution_count": 186,
   "id": "2a961d3e",
   "metadata": {},
   "outputs": [
    {
     "name": "stdout",
     "output_type": "stream",
     "text": [
      "<class 'pandas.core.frame.DataFrame'>\n",
      "RangeIndex: 4898 entries, 0 to 4897\n",
      "Data columns (total 12 columns):\n",
      " #   Column                Non-Null Count  Dtype  \n",
      "---  ------                --------------  -----  \n",
      " 0   fixed acidity         4898 non-null   float64\n",
      " 1   volatile acidity      4898 non-null   float64\n",
      " 2   citric acid           4898 non-null   float64\n",
      " 3   residual sugar        4898 non-null   float64\n",
      " 4   chlorides             4898 non-null   float64\n",
      " 5   free sulfur dioxide   4898 non-null   float64\n",
      " 6   total sulfur dioxide  4898 non-null   float64\n",
      " 7   density               4898 non-null   float64\n",
      " 8   pH                    4898 non-null   float64\n",
      " 9   sulphates             4898 non-null   float64\n",
      " 10  alcohol               4898 non-null   float64\n",
      " 11  quality               4898 non-null   int64  \n",
      "dtypes: float64(11), int64(1)\n",
      "memory usage: 459.3 KB\n"
     ]
    },
    {
     "data": {
      "text/plain": [
       "<Figure size 640x480 with 0 Axes>"
      ]
     },
     "metadata": {},
     "output_type": "display_data"
    }
   ],
   "source": [
    "data_white.info() #informacije o promenljivim, kog su tipa"
   ]
  },
  {
   "cell_type": "code",
   "execution_count": 15,
   "id": "9a82cf18",
   "metadata": {},
   "outputs": [
    {
     "data": {
      "text/html": [
       "<div>\n",
       "<style scoped>\n",
       "    .dataframe tbody tr th:only-of-type {\n",
       "        vertical-align: middle;\n",
       "    }\n",
       "\n",
       "    .dataframe tbody tr th {\n",
       "        vertical-align: top;\n",
       "    }\n",
       "\n",
       "    .dataframe thead th {\n",
       "        text-align: right;\n",
       "    }\n",
       "</style>\n",
       "<table border=\"1\" class=\"dataframe\">\n",
       "  <thead>\n",
       "    <tr style=\"text-align: right;\">\n",
       "      <th></th>\n",
       "      <th>fixed acidity</th>\n",
       "      <th>volatile acidity</th>\n",
       "      <th>citric acid</th>\n",
       "      <th>residual sugar</th>\n",
       "      <th>chlorides</th>\n",
       "      <th>free sulfur dioxide</th>\n",
       "      <th>total sulfur dioxide</th>\n",
       "      <th>density</th>\n",
       "      <th>pH</th>\n",
       "      <th>sulphates</th>\n",
       "      <th>alcohol</th>\n",
       "      <th>quality</th>\n",
       "    </tr>\n",
       "  </thead>\n",
       "  <tbody>\n",
       "    <tr>\n",
       "      <th>count</th>\n",
       "      <td>4898.000000</td>\n",
       "      <td>4898.000000</td>\n",
       "      <td>4898.000000</td>\n",
       "      <td>4898.000000</td>\n",
       "      <td>4898.000000</td>\n",
       "      <td>4898.000000</td>\n",
       "      <td>4898.000000</td>\n",
       "      <td>4898.000000</td>\n",
       "      <td>4898.000000</td>\n",
       "      <td>4898.000000</td>\n",
       "      <td>4898.000000</td>\n",
       "      <td>4898.000000</td>\n",
       "    </tr>\n",
       "    <tr>\n",
       "      <th>mean</th>\n",
       "      <td>6.854788</td>\n",
       "      <td>0.278241</td>\n",
       "      <td>0.334192</td>\n",
       "      <td>6.391415</td>\n",
       "      <td>0.045772</td>\n",
       "      <td>35.308085</td>\n",
       "      <td>138.360657</td>\n",
       "      <td>0.994027</td>\n",
       "      <td>3.188267</td>\n",
       "      <td>0.489847</td>\n",
       "      <td>10.514267</td>\n",
       "      <td>5.877909</td>\n",
       "    </tr>\n",
       "    <tr>\n",
       "      <th>std</th>\n",
       "      <td>0.843868</td>\n",
       "      <td>0.100795</td>\n",
       "      <td>0.121020</td>\n",
       "      <td>5.072058</td>\n",
       "      <td>0.021848</td>\n",
       "      <td>17.007137</td>\n",
       "      <td>42.498065</td>\n",
       "      <td>0.002991</td>\n",
       "      <td>0.151001</td>\n",
       "      <td>0.114126</td>\n",
       "      <td>1.230621</td>\n",
       "      <td>0.885639</td>\n",
       "    </tr>\n",
       "    <tr>\n",
       "      <th>min</th>\n",
       "      <td>3.800000</td>\n",
       "      <td>0.080000</td>\n",
       "      <td>0.000000</td>\n",
       "      <td>0.600000</td>\n",
       "      <td>0.009000</td>\n",
       "      <td>2.000000</td>\n",
       "      <td>9.000000</td>\n",
       "      <td>0.987110</td>\n",
       "      <td>2.720000</td>\n",
       "      <td>0.220000</td>\n",
       "      <td>8.000000</td>\n",
       "      <td>3.000000</td>\n",
       "    </tr>\n",
       "    <tr>\n",
       "      <th>25%</th>\n",
       "      <td>6.300000</td>\n",
       "      <td>0.210000</td>\n",
       "      <td>0.270000</td>\n",
       "      <td>1.700000</td>\n",
       "      <td>0.036000</td>\n",
       "      <td>23.000000</td>\n",
       "      <td>108.000000</td>\n",
       "      <td>0.991723</td>\n",
       "      <td>3.090000</td>\n",
       "      <td>0.410000</td>\n",
       "      <td>9.500000</td>\n",
       "      <td>5.000000</td>\n",
       "    </tr>\n",
       "    <tr>\n",
       "      <th>50%</th>\n",
       "      <td>6.800000</td>\n",
       "      <td>0.260000</td>\n",
       "      <td>0.320000</td>\n",
       "      <td>5.200000</td>\n",
       "      <td>0.043000</td>\n",
       "      <td>34.000000</td>\n",
       "      <td>134.000000</td>\n",
       "      <td>0.993740</td>\n",
       "      <td>3.180000</td>\n",
       "      <td>0.470000</td>\n",
       "      <td>10.400000</td>\n",
       "      <td>6.000000</td>\n",
       "    </tr>\n",
       "    <tr>\n",
       "      <th>75%</th>\n",
       "      <td>7.300000</td>\n",
       "      <td>0.320000</td>\n",
       "      <td>0.390000</td>\n",
       "      <td>9.900000</td>\n",
       "      <td>0.050000</td>\n",
       "      <td>46.000000</td>\n",
       "      <td>167.000000</td>\n",
       "      <td>0.996100</td>\n",
       "      <td>3.280000</td>\n",
       "      <td>0.550000</td>\n",
       "      <td>11.400000</td>\n",
       "      <td>6.000000</td>\n",
       "    </tr>\n",
       "    <tr>\n",
       "      <th>max</th>\n",
       "      <td>14.200000</td>\n",
       "      <td>1.100000</td>\n",
       "      <td>1.660000</td>\n",
       "      <td>65.800000</td>\n",
       "      <td>0.346000</td>\n",
       "      <td>289.000000</td>\n",
       "      <td>440.000000</td>\n",
       "      <td>1.038980</td>\n",
       "      <td>3.820000</td>\n",
       "      <td>1.080000</td>\n",
       "      <td>14.200000</td>\n",
       "      <td>9.000000</td>\n",
       "    </tr>\n",
       "  </tbody>\n",
       "</table>\n",
       "</div>"
      ],
      "text/plain": [
       "       fixed acidity  volatile acidity  citric acid  residual sugar  \\\n",
       "count    4898.000000       4898.000000  4898.000000     4898.000000   \n",
       "mean        6.854788          0.278241     0.334192        6.391415   \n",
       "std         0.843868          0.100795     0.121020        5.072058   \n",
       "min         3.800000          0.080000     0.000000        0.600000   \n",
       "25%         6.300000          0.210000     0.270000        1.700000   \n",
       "50%         6.800000          0.260000     0.320000        5.200000   \n",
       "75%         7.300000          0.320000     0.390000        9.900000   \n",
       "max        14.200000          1.100000     1.660000       65.800000   \n",
       "\n",
       "         chlorides  free sulfur dioxide  total sulfur dioxide      density  \\\n",
       "count  4898.000000          4898.000000           4898.000000  4898.000000   \n",
       "mean      0.045772            35.308085            138.360657     0.994027   \n",
       "std       0.021848            17.007137             42.498065     0.002991   \n",
       "min       0.009000             2.000000              9.000000     0.987110   \n",
       "25%       0.036000            23.000000            108.000000     0.991723   \n",
       "50%       0.043000            34.000000            134.000000     0.993740   \n",
       "75%       0.050000            46.000000            167.000000     0.996100   \n",
       "max       0.346000           289.000000            440.000000     1.038980   \n",
       "\n",
       "                pH    sulphates      alcohol      quality  \n",
       "count  4898.000000  4898.000000  4898.000000  4898.000000  \n",
       "mean      3.188267     0.489847    10.514267     5.877909  \n",
       "std       0.151001     0.114126     1.230621     0.885639  \n",
       "min       2.720000     0.220000     8.000000     3.000000  \n",
       "25%       3.090000     0.410000     9.500000     5.000000  \n",
       "50%       3.180000     0.470000    10.400000     6.000000  \n",
       "75%       3.280000     0.550000    11.400000     6.000000  \n",
       "max       3.820000     1.080000    14.200000     9.000000  "
      ]
     },
     "execution_count": 15,
     "metadata": {},
     "output_type": "execute_result"
    }
   ],
   "source": [
    "data_white.describe() #sredina, min, max svih promenljivih u skupu podataka"
   ]
  },
  {
   "cell_type": "code",
   "execution_count": 187,
   "id": "de8030d9",
   "metadata": {},
   "outputs": [
    {
     "data": {
      "image/png": "[encoded data removed]",
      "text/plain": [
       "<Figure size 640x480 with 1 Axes>"
      ]
     },
     "metadata": {},
     "output_type": "display_data"
    }
   ],
   "source": [
    "\n",
    "sns.countplot(x ='quality', data = data_white)\n",
    "plt.xlabel('ocene kvaliteta')\n",
    "plt.ylabel('broj instanci')\n",
    "plt.savefig('raspodela_y.png')\n",
    "plt.show() #histogram kako su rasporedjenje ocene kvaliteta belog vina, vidimo da nije balansirana raspodela"
   ]
  },
  {
   "cell_type": "markdown",
   "id": "29bb69da",
   "metadata": {},
   "source": [
    "iz ovoga vidimo da najvise ima srednjih ocena vina,\n",
    "malo je odlicnih vina (ocena 8,9), a malo je i losih vina (ocena 3,4)"
   ]
  },
  {
   "cell_type": "code",
   "execution_count": 17,
   "id": "d08d1664",
   "metadata": {},
   "outputs": [
    {
     "data": {
      "text/plain": [
       "6    2198\n",
       "5    1457\n",
       "7     880\n",
       "8     175\n",
       "4     163\n",
       "3      20\n",
       "9       5\n",
       "Name: quality, dtype: int64"
      ]
     },
     "execution_count": 17,
     "metadata": {},
     "output_type": "execute_result"
    }
   ],
   "source": [
    "data_white['quality'].value_counts() #raspodela po ocenama kvaliteta"
   ]
  },
  {
   "cell_type": "code",
   "execution_count": 18,
   "id": "4032f9df",
   "metadata": {},
   "outputs": [
    {
     "data": {
      "text/plain": [
       "(4898, 12)"
      ]
     },
     "execution_count": 18,
     "metadata": {},
     "output_type": "execute_result"
    }
   ],
   "source": [
    "data_white.shape #4898 instanci, 12 kolona"
   ]
  },
  {
   "cell_type": "code",
   "execution_count": 19,
   "id": "573d029d",
   "metadata": {},
   "outputs": [
    {
     "data": {
      "text/html": [
       "<div>\n",
       "<style scoped>\n",
       "    .dataframe tbody tr th:only-of-type {\n",
       "        vertical-align: middle;\n",
       "    }\n",
       "\n",
       "    .dataframe tbody tr th {\n",
       "        vertical-align: top;\n",
       "    }\n",
       "\n",
       "    .dataframe thead th {\n",
       "        text-align: right;\n",
       "    }\n",
       "</style>\n",
       "<table border=\"1\" class=\"dataframe\">\n",
       "  <thead>\n",
       "    <tr style=\"text-align: right;\">\n",
       "      <th></th>\n",
       "      <th>fixed acidity</th>\n",
       "      <th>volatile acidity</th>\n",
       "      <th>citric acid</th>\n",
       "      <th>residual sugar</th>\n",
       "      <th>chlorides</th>\n",
       "      <th>free sulfur dioxide</th>\n",
       "      <th>total sulfur dioxide</th>\n",
       "      <th>density</th>\n",
       "      <th>pH</th>\n",
       "      <th>sulphates</th>\n",
       "      <th>alcohol</th>\n",
       "      <th>quality</th>\n",
       "    </tr>\n",
       "  </thead>\n",
       "  <tbody>\n",
       "    <tr>\n",
       "      <th>fixed acidity</th>\n",
       "      <td>1.000000</td>\n",
       "      <td>-0.022697</td>\n",
       "      <td>0.289181</td>\n",
       "      <td>0.089021</td>\n",
       "      <td>0.023086</td>\n",
       "      <td>-0.049396</td>\n",
       "      <td>0.091070</td>\n",
       "      <td>0.265331</td>\n",
       "      <td>-0.425858</td>\n",
       "      <td>-0.017143</td>\n",
       "      <td>-0.120881</td>\n",
       "      <td>-0.113663</td>\n",
       "    </tr>\n",
       "    <tr>\n",
       "      <th>volatile acidity</th>\n",
       "      <td>-0.022697</td>\n",
       "      <td>1.000000</td>\n",
       "      <td>-0.149472</td>\n",
       "      <td>0.064286</td>\n",
       "      <td>0.070512</td>\n",
       "      <td>-0.097012</td>\n",
       "      <td>0.089261</td>\n",
       "      <td>0.027114</td>\n",
       "      <td>-0.031915</td>\n",
       "      <td>-0.035728</td>\n",
       "      <td>0.067718</td>\n",
       "      <td>-0.194723</td>\n",
       "    </tr>\n",
       "    <tr>\n",
       "      <th>citric acid</th>\n",
       "      <td>0.289181</td>\n",
       "      <td>-0.149472</td>\n",
       "      <td>1.000000</td>\n",
       "      <td>0.094212</td>\n",
       "      <td>0.114364</td>\n",
       "      <td>0.094077</td>\n",
       "      <td>0.121131</td>\n",
       "      <td>0.149503</td>\n",
       "      <td>-0.163748</td>\n",
       "      <td>0.062331</td>\n",
       "      <td>-0.075729</td>\n",
       "      <td>-0.009209</td>\n",
       "    </tr>\n",
       "    <tr>\n",
       "      <th>residual sugar</th>\n",
       "      <td>0.089021</td>\n",
       "      <td>0.064286</td>\n",
       "      <td>0.094212</td>\n",
       "      <td>1.000000</td>\n",
       "      <td>0.088685</td>\n",
       "      <td>0.299098</td>\n",
       "      <td>0.401439</td>\n",
       "      <td>0.838966</td>\n",
       "      <td>-0.194133</td>\n",
       "      <td>-0.026664</td>\n",
       "      <td>-0.450631</td>\n",
       "      <td>-0.097577</td>\n",
       "    </tr>\n",
       "    <tr>\n",
       "      <th>chlorides</th>\n",
       "      <td>0.023086</td>\n",
       "      <td>0.070512</td>\n",
       "      <td>0.114364</td>\n",
       "      <td>0.088685</td>\n",
       "      <td>1.000000</td>\n",
       "      <td>0.101392</td>\n",
       "      <td>0.198910</td>\n",
       "      <td>0.257211</td>\n",
       "      <td>-0.090439</td>\n",
       "      <td>0.016763</td>\n",
       "      <td>-0.360189</td>\n",
       "      <td>-0.209934</td>\n",
       "    </tr>\n",
       "    <tr>\n",
       "      <th>free sulfur dioxide</th>\n",
       "      <td>-0.049396</td>\n",
       "      <td>-0.097012</td>\n",
       "      <td>0.094077</td>\n",
       "      <td>0.299098</td>\n",
       "      <td>0.101392</td>\n",
       "      <td>1.000000</td>\n",
       "      <td>0.615501</td>\n",
       "      <td>0.294210</td>\n",
       "      <td>-0.000618</td>\n",
       "      <td>0.059217</td>\n",
       "      <td>-0.250104</td>\n",
       "      <td>0.008158</td>\n",
       "    </tr>\n",
       "    <tr>\n",
       "      <th>total sulfur dioxide</th>\n",
       "      <td>0.091070</td>\n",
       "      <td>0.089261</td>\n",
       "      <td>0.121131</td>\n",
       "      <td>0.401439</td>\n",
       "      <td>0.198910</td>\n",
       "      <td>0.615501</td>\n",
       "      <td>1.000000</td>\n",
       "      <td>0.529881</td>\n",
       "      <td>0.002321</td>\n",
       "      <td>0.134562</td>\n",
       "      <td>-0.448892</td>\n",
       "      <td>-0.174737</td>\n",
       "    </tr>\n",
       "    <tr>\n",
       "      <th>density</th>\n",
       "      <td>0.265331</td>\n",
       "      <td>0.027114</td>\n",
       "      <td>0.149503</td>\n",
       "      <td>0.838966</td>\n",
       "      <td>0.257211</td>\n",
       "      <td>0.294210</td>\n",
       "      <td>0.529881</td>\n",
       "      <td>1.000000</td>\n",
       "      <td>-0.093591</td>\n",
       "      <td>0.074493</td>\n",
       "      <td>-0.780138</td>\n",
       "      <td>-0.307123</td>\n",
       "    </tr>\n",
       "    <tr>\n",
       "      <th>pH</th>\n",
       "      <td>-0.425858</td>\n",
       "      <td>-0.031915</td>\n",
       "      <td>-0.163748</td>\n",
       "      <td>-0.194133</td>\n",
       "      <td>-0.090439</td>\n",
       "      <td>-0.000618</td>\n",
       "      <td>0.002321</td>\n",
       "      <td>-0.093591</td>\n",
       "      <td>1.000000</td>\n",
       "      <td>0.155951</td>\n",
       "      <td>0.121432</td>\n",
       "      <td>0.099427</td>\n",
       "    </tr>\n",
       "    <tr>\n",
       "      <th>sulphates</th>\n",
       "      <td>-0.017143</td>\n",
       "      <td>-0.035728</td>\n",
       "      <td>0.062331</td>\n",
       "      <td>-0.026664</td>\n",
       "      <td>0.016763</td>\n",
       "      <td>0.059217</td>\n",
       "      <td>0.134562</td>\n",
       "      <td>0.074493</td>\n",
       "      <td>0.155951</td>\n",
       "      <td>1.000000</td>\n",
       "      <td>-0.017433</td>\n",
       "      <td>0.053678</td>\n",
       "    </tr>\n",
       "    <tr>\n",
       "      <th>alcohol</th>\n",
       "      <td>-0.120881</td>\n",
       "      <td>0.067718</td>\n",
       "      <td>-0.075729</td>\n",
       "      <td>-0.450631</td>\n",
       "      <td>-0.360189</td>\n",
       "      <td>-0.250104</td>\n",
       "      <td>-0.448892</td>\n",
       "      <td>-0.780138</td>\n",
       "      <td>0.121432</td>\n",
       "      <td>-0.017433</td>\n",
       "      <td>1.000000</td>\n",
       "      <td>0.435575</td>\n",
       "    </tr>\n",
       "    <tr>\n",
       "      <th>quality</th>\n",
       "      <td>-0.113663</td>\n",
       "      <td>-0.194723</td>\n",
       "      <td>-0.009209</td>\n",
       "      <td>-0.097577</td>\n",
       "      <td>-0.209934</td>\n",
       "      <td>0.008158</td>\n",
       "      <td>-0.174737</td>\n",
       "      <td>-0.307123</td>\n",
       "      <td>0.099427</td>\n",
       "      <td>0.053678</td>\n",
       "      <td>0.435575</td>\n",
       "      <td>1.000000</td>\n",
       "    </tr>\n",
       "  </tbody>\n",
       "</table>\n",
       "</div>"
      ],
      "text/plain": [
       "                      fixed acidity  volatile acidity  citric acid  \\\n",
       "fixed acidity              1.000000         -0.022697     0.289181   \n",
       "volatile acidity          -0.022697          1.000000    -0.149472   \n",
       "citric acid                0.289181         -0.149472     1.000000   \n",
       "residual sugar             0.089021          0.064286     0.094212   \n",
       "chlorides                  0.023086          0.070512     0.114364   \n",
       "free sulfur dioxide       -0.049396         -0.097012     0.094077   \n",
       "total sulfur dioxide       0.091070          0.089261     0.121131   \n",
       "density                    0.265331          0.027114     0.149503   \n",
       "pH                        -0.425858         -0.031915    -0.163748   \n",
       "sulphates                 -0.017143         -0.035728     0.062331   \n",
       "alcohol                   -0.120881          0.067718    -0.075729   \n",
       "quality                   -0.113663         -0.194723    -0.009209   \n",
       "\n",
       "                      residual sugar  chlorides  free sulfur dioxide  \\\n",
       "fixed acidity               0.089021   0.023086            -0.049396   \n",
       "volatile acidity            0.064286   0.070512            -0.097012   \n",
       "citric acid                 0.094212   0.114364             0.094077   \n",
       "residual sugar              1.000000   0.088685             0.299098   \n",
       "chlorides                   0.088685   1.000000             0.101392   \n",
       "free sulfur dioxide         0.299098   0.101392             1.000000   \n",
       "total sulfur dioxide        0.401439   0.198910             0.615501   \n",
       "density                     0.838966   0.257211             0.294210   \n",
       "pH                         -0.194133  -0.090439            -0.000618   \n",
       "sulphates                  -0.026664   0.016763             0.059217   \n",
       "alcohol                    -0.450631  -0.360189            -0.250104   \n",
       "quality                    -0.097577  -0.209934             0.008158   \n",
       "\n",
       "                      total sulfur dioxide   density        pH  sulphates  \\\n",
       "fixed acidity                     0.091070  0.265331 -0.425858  -0.017143   \n",
       "volatile acidity                  0.089261  0.027114 -0.031915  -0.035728   \n",
       "citric acid                       0.121131  0.149503 -0.163748   0.062331   \n",
       "residual sugar                    0.401439  0.838966 -0.194133  -0.026664   \n",
       "chlorides                         0.198910  0.257211 -0.090439   0.016763   \n",
       "free sulfur dioxide               0.615501  0.294210 -0.000618   0.059217   \n",
       "total sulfur dioxide              1.000000  0.529881  0.002321   0.134562   \n",
       "density                           0.529881  1.000000 -0.093591   0.074493   \n",
       "pH                                0.002321 -0.093591  1.000000   0.155951   \n",
       "sulphates                         0.134562  0.074493  0.155951   1.000000   \n",
       "alcohol                          -0.448892 -0.780138  0.121432  -0.017433   \n",
       "quality                          -0.174737 -0.307123  0.099427   0.053678   \n",
       "\n",
       "                       alcohol   quality  \n",
       "fixed acidity        -0.120881 -0.113663  \n",
       "volatile acidity      0.067718 -0.194723  \n",
       "citric acid          -0.075729 -0.009209  \n",
       "residual sugar       -0.450631 -0.097577  \n",
       "chlorides            -0.360189 -0.209934  \n",
       "free sulfur dioxide  -0.250104  0.008158  \n",
       "total sulfur dioxide -0.448892 -0.174737  \n",
       "density              -0.780138 -0.307123  \n",
       "pH                    0.121432  0.099427  \n",
       "sulphates            -0.017433  0.053678  \n",
       "alcohol               1.000000  0.435575  \n",
       "quality               0.435575  1.000000  "
      ]
     },
     "execution_count": 19,
     "metadata": {},
     "output_type": "execute_result"
    }
   ],
   "source": [
    "matrica_korelacije=data_white.corr() \n",
    "matrica_korelacije            #matrica korelacije"
   ]
  },
  {
   "cell_type": "code",
   "execution_count": 188,
   "id": "86460ee8",
   "metadata": {},
   "outputs": [
    {
     "data": {
      "image/png": "[encoded data removed]",
      "text/plain": [
       "<Figure size 1500x1000 with 2 Axes>"
      ]
     },
     "metadata": {},
     "output_type": "display_data"
    }
   ],
   "source": [
    "#plt.imshow(matrica_korelacije)\n",
    "plt.subplots(figsize=(15, 10))\n",
    "sns.heatmap(matrica_korelacije, annot = True, cmap = 'coolwarm')\n",
    "plt.savefig('matrica_konfuzije.png')\n",
    "plt.show() #heatmapa korelacija"
   ]
  },
  {
   "cell_type": "markdown",
   "id": "cb85e01b",
   "metadata": {},
   "source": [
    "vidimo ih heatmape visoku povezanost density i residual sugar, kao i density i alcohol ali suprotno korelisano\n",
    "takodje vidimo poveznaost atributa sa ciljnom promenljivom"
   ]
  },
  {
   "cell_type": "code",
   "execution_count": 21,
   "id": "1f6e95dc",
   "metadata": {},
   "outputs": [],
   "source": [
    "def korelacija(value, threshold=0.5):\n",
    "    if np.abs(value) < threshold:\n",
    "        return 0\n",
    "    else:\n",
    "        return value # da prikaze visoko korelisane"
   ]
  },
  {
   "cell_type": "code",
   "execution_count": 22,
   "id": "41cdad98",
   "metadata": {},
   "outputs": [
    {
     "data": {
      "text/html": [
       "<div>\n",
       "<style scoped>\n",
       "    .dataframe tbody tr th:only-of-type {\n",
       "        vertical-align: middle;\n",
       "    }\n",
       "\n",
       "    .dataframe tbody tr th {\n",
       "        vertical-align: top;\n",
       "    }\n",
       "\n",
       "    .dataframe thead th {\n",
       "        text-align: right;\n",
       "    }\n",
       "</style>\n",
       "<table border=\"1\" class=\"dataframe\">\n",
       "  <thead>\n",
       "    <tr style=\"text-align: right;\">\n",
       "      <th></th>\n",
       "      <th>fixed acidity</th>\n",
       "      <th>volatile acidity</th>\n",
       "      <th>citric acid</th>\n",
       "      <th>residual sugar</th>\n",
       "      <th>chlorides</th>\n",
       "      <th>free sulfur dioxide</th>\n",
       "      <th>total sulfur dioxide</th>\n",
       "      <th>density</th>\n",
       "      <th>pH</th>\n",
       "      <th>sulphates</th>\n",
       "      <th>alcohol</th>\n",
       "      <th>quality</th>\n",
       "    </tr>\n",
       "  </thead>\n",
       "  <tbody>\n",
       "    <tr>\n",
       "      <th>fixed acidity</th>\n",
       "      <td>1.0</td>\n",
       "      <td>0.0</td>\n",
       "      <td>0.0</td>\n",
       "      <td>0.000000</td>\n",
       "      <td>0.0</td>\n",
       "      <td>0.000000</td>\n",
       "      <td>0.000000</td>\n",
       "      <td>0.000000</td>\n",
       "      <td>0.0</td>\n",
       "      <td>0.0</td>\n",
       "      <td>0.000000</td>\n",
       "      <td>0.0</td>\n",
       "    </tr>\n",
       "    <tr>\n",
       "      <th>volatile acidity</th>\n",
       "      <td>0.0</td>\n",
       "      <td>1.0</td>\n",
       "      <td>0.0</td>\n",
       "      <td>0.000000</td>\n",
       "      <td>0.0</td>\n",
       "      <td>0.000000</td>\n",
       "      <td>0.000000</td>\n",
       "      <td>0.000000</td>\n",
       "      <td>0.0</td>\n",
       "      <td>0.0</td>\n",
       "      <td>0.000000</td>\n",
       "      <td>0.0</td>\n",
       "    </tr>\n",
       "    <tr>\n",
       "      <th>citric acid</th>\n",
       "      <td>0.0</td>\n",
       "      <td>0.0</td>\n",
       "      <td>1.0</td>\n",
       "      <td>0.000000</td>\n",
       "      <td>0.0</td>\n",
       "      <td>0.000000</td>\n",
       "      <td>0.000000</td>\n",
       "      <td>0.000000</td>\n",
       "      <td>0.0</td>\n",
       "      <td>0.0</td>\n",
       "      <td>0.000000</td>\n",
       "      <td>0.0</td>\n",
       "    </tr>\n",
       "    <tr>\n",
       "      <th>residual sugar</th>\n",
       "      <td>0.0</td>\n",
       "      <td>0.0</td>\n",
       "      <td>0.0</td>\n",
       "      <td>1.000000</td>\n",
       "      <td>0.0</td>\n",
       "      <td>0.000000</td>\n",
       "      <td>0.000000</td>\n",
       "      <td>0.838966</td>\n",
       "      <td>0.0</td>\n",
       "      <td>0.0</td>\n",
       "      <td>0.000000</td>\n",
       "      <td>0.0</td>\n",
       "    </tr>\n",
       "    <tr>\n",
       "      <th>chlorides</th>\n",
       "      <td>0.0</td>\n",
       "      <td>0.0</td>\n",
       "      <td>0.0</td>\n",
       "      <td>0.000000</td>\n",
       "      <td>1.0</td>\n",
       "      <td>0.000000</td>\n",
       "      <td>0.000000</td>\n",
       "      <td>0.000000</td>\n",
       "      <td>0.0</td>\n",
       "      <td>0.0</td>\n",
       "      <td>0.000000</td>\n",
       "      <td>0.0</td>\n",
       "    </tr>\n",
       "    <tr>\n",
       "      <th>free sulfur dioxide</th>\n",
       "      <td>0.0</td>\n",
       "      <td>0.0</td>\n",
       "      <td>0.0</td>\n",
       "      <td>0.000000</td>\n",
       "      <td>0.0</td>\n",
       "      <td>1.000000</td>\n",
       "      <td>0.615501</td>\n",
       "      <td>0.000000</td>\n",
       "      <td>0.0</td>\n",
       "      <td>0.0</td>\n",
       "      <td>0.000000</td>\n",
       "      <td>0.0</td>\n",
       "    </tr>\n",
       "    <tr>\n",
       "      <th>total sulfur dioxide</th>\n",
       "      <td>0.0</td>\n",
       "      <td>0.0</td>\n",
       "      <td>0.0</td>\n",
       "      <td>0.000000</td>\n",
       "      <td>0.0</td>\n",
       "      <td>0.615501</td>\n",
       "      <td>1.000000</td>\n",
       "      <td>0.529881</td>\n",
       "      <td>0.0</td>\n",
       "      <td>0.0</td>\n",
       "      <td>0.000000</td>\n",
       "      <td>0.0</td>\n",
       "    </tr>\n",
       "    <tr>\n",
       "      <th>density</th>\n",
       "      <td>0.0</td>\n",
       "      <td>0.0</td>\n",
       "      <td>0.0</td>\n",
       "      <td>0.838966</td>\n",
       "      <td>0.0</td>\n",
       "      <td>0.000000</td>\n",
       "      <td>0.529881</td>\n",
       "      <td>1.000000</td>\n",
       "      <td>0.0</td>\n",
       "      <td>0.0</td>\n",
       "      <td>-0.780138</td>\n",
       "      <td>0.0</td>\n",
       "    </tr>\n",
       "    <tr>\n",
       "      <th>pH</th>\n",
       "      <td>0.0</td>\n",
       "      <td>0.0</td>\n",
       "      <td>0.0</td>\n",
       "      <td>0.000000</td>\n",
       "      <td>0.0</td>\n",
       "      <td>0.000000</td>\n",
       "      <td>0.000000</td>\n",
       "      <td>0.000000</td>\n",
       "      <td>1.0</td>\n",
       "      <td>0.0</td>\n",
       "      <td>0.000000</td>\n",
       "      <td>0.0</td>\n",
       "    </tr>\n",
       "    <tr>\n",
       "      <th>sulphates</th>\n",
       "      <td>0.0</td>\n",
       "      <td>0.0</td>\n",
       "      <td>0.0</td>\n",
       "      <td>0.000000</td>\n",
       "      <td>0.0</td>\n",
       "      <td>0.000000</td>\n",
       "      <td>0.000000</td>\n",
       "      <td>0.000000</td>\n",
       "      <td>0.0</td>\n",
       "      <td>1.0</td>\n",
       "      <td>0.000000</td>\n",
       "      <td>0.0</td>\n",
       "    </tr>\n",
       "    <tr>\n",
       "      <th>alcohol</th>\n",
       "      <td>0.0</td>\n",
       "      <td>0.0</td>\n",
       "      <td>0.0</td>\n",
       "      <td>0.000000</td>\n",
       "      <td>0.0</td>\n",
       "      <td>0.000000</td>\n",
       "      <td>0.000000</td>\n",
       "      <td>-0.780138</td>\n",
       "      <td>0.0</td>\n",
       "      <td>0.0</td>\n",
       "      <td>1.000000</td>\n",
       "      <td>0.0</td>\n",
       "    </tr>\n",
       "    <tr>\n",
       "      <th>quality</th>\n",
       "      <td>0.0</td>\n",
       "      <td>0.0</td>\n",
       "      <td>0.0</td>\n",
       "      <td>0.000000</td>\n",
       "      <td>0.0</td>\n",
       "      <td>0.000000</td>\n",
       "      <td>0.000000</td>\n",
       "      <td>0.000000</td>\n",
       "      <td>0.0</td>\n",
       "      <td>0.0</td>\n",
       "      <td>0.000000</td>\n",
       "      <td>1.0</td>\n",
       "    </tr>\n",
       "  </tbody>\n",
       "</table>\n",
       "</div>"
      ],
      "text/plain": [
       "                      fixed acidity  volatile acidity  citric acid  \\\n",
       "fixed acidity                   1.0               0.0          0.0   \n",
       "volatile acidity                0.0               1.0          0.0   \n",
       "citric acid                     0.0               0.0          1.0   \n",
       "residual sugar                  0.0               0.0          0.0   \n",
       "chlorides                       0.0               0.0          0.0   \n",
       "free sulfur dioxide             0.0               0.0          0.0   \n",
       "total sulfur dioxide            0.0               0.0          0.0   \n",
       "density                         0.0               0.0          0.0   \n",
       "pH                              0.0               0.0          0.0   \n",
       "sulphates                       0.0               0.0          0.0   \n",
       "alcohol                         0.0               0.0          0.0   \n",
       "quality                         0.0               0.0          0.0   \n",
       "\n",
       "                      residual sugar  chlorides  free sulfur dioxide  \\\n",
       "fixed acidity               0.000000        0.0             0.000000   \n",
       "volatile acidity            0.000000        0.0             0.000000   \n",
       "citric acid                 0.000000        0.0             0.000000   \n",
       "residual sugar              1.000000        0.0             0.000000   \n",
       "chlorides                   0.000000        1.0             0.000000   \n",
       "free sulfur dioxide         0.000000        0.0             1.000000   \n",
       "total sulfur dioxide        0.000000        0.0             0.615501   \n",
       "density                     0.838966        0.0             0.000000   \n",
       "pH                          0.000000        0.0             0.000000   \n",
       "sulphates                   0.000000        0.0             0.000000   \n",
       "alcohol                     0.000000        0.0             0.000000   \n",
       "quality                     0.000000        0.0             0.000000   \n",
       "\n",
       "                      total sulfur dioxide   density   pH  sulphates  \\\n",
       "fixed acidity                     0.000000  0.000000  0.0        0.0   \n",
       "volatile acidity                  0.000000  0.000000  0.0        0.0   \n",
       "citric acid                       0.000000  0.000000  0.0        0.0   \n",
       "residual sugar                    0.000000  0.838966  0.0        0.0   \n",
       "chlorides                         0.000000  0.000000  0.0        0.0   \n",
       "free sulfur dioxide               0.615501  0.000000  0.0        0.0   \n",
       "total sulfur dioxide              1.000000  0.529881  0.0        0.0   \n",
       "density                           0.529881  1.000000  0.0        0.0   \n",
       "pH                                0.000000  0.000000  1.0        0.0   \n",
       "sulphates                         0.000000  0.000000  0.0        1.0   \n",
       "alcohol                           0.000000 -0.780138  0.0        0.0   \n",
       "quality                           0.000000  0.000000  0.0        0.0   \n",
       "\n",
       "                       alcohol  quality  \n",
       "fixed acidity         0.000000      0.0  \n",
       "volatile acidity      0.000000      0.0  \n",
       "citric acid           0.000000      0.0  \n",
       "residual sugar        0.000000      0.0  \n",
       "chlorides             0.000000      0.0  \n",
       "free sulfur dioxide   0.000000      0.0  \n",
       "total sulfur dioxide  0.000000      0.0  \n",
       "density              -0.780138      0.0  \n",
       "pH                    0.000000      0.0  \n",
       "sulphates             0.000000      0.0  \n",
       "alcohol               1.000000      0.0  \n",
       "quality               0.000000      1.0  "
      ]
     },
     "execution_count": 22,
     "metadata": {},
     "output_type": "execute_result"
    }
   ],
   "source": [
    "matrica_korelacije.applymap(korelacija)"
   ]
  },
  {
   "cell_type": "code",
   "execution_count": 23,
   "id": "b01e3632",
   "metadata": {},
   "outputs": [
    {
     "data": {
      "text/plain": [
       "Index(['fixed acidity', 'volatile acidity', 'citric acid', 'residual sugar',\n",
       "       'chlorides', 'free sulfur dioxide', 'total sulfur dioxide', 'density',\n",
       "       'pH', 'sulphates', 'alcohol'],\n",
       "      dtype='object')"
      ]
     },
     "execution_count": 23,
     "metadata": {},
     "output_type": "execute_result"
    }
   ],
   "source": [
    "x_white.columns #imena kolona"
   ]
  },
  {
   "cell_type": "code",
   "execution_count": null,
   "id": "a4dfd03b",
   "metadata": {},
   "outputs": [],
   "source": []
  },
  {
   "cell_type": "markdown",
   "id": "15d755a3",
   "metadata": {},
   "source": [
    "#### podela skupa"
   ]
  },
  {
   "cell_type": "code",
   "execution_count": 24,
   "id": "baa2f912",
   "metadata": {},
   "outputs": [],
   "source": [
    "x_train,x_test,y_train,y_test=model_selection.train_test_split(x_white,y_white,test_size=0.2,random_state=7,stratify=y_white)"
   ]
  },
  {
   "cell_type": "code",
   "execution_count": 25,
   "id": "96a9a36c",
   "metadata": {},
   "outputs": [
    {
     "data": {
      "text/plain": [
       "(3918, 11)"
      ]
     },
     "execution_count": 25,
     "metadata": {},
     "output_type": "execute_result"
    }
   ],
   "source": [
    "x_train.shape"
   ]
  },
  {
   "cell_type": "code",
   "execution_count": 26,
   "id": "b33cb13c",
   "metadata": {},
   "outputs": [
    {
     "data": {
      "text/plain": [
       "(980, 11)"
      ]
     },
     "execution_count": 26,
     "metadata": {},
     "output_type": "execute_result"
    }
   ],
   "source": [
    "x_test.shape"
   ]
  },
  {
   "cell_type": "code",
   "execution_count": 27,
   "id": "5b384713",
   "metadata": {},
   "outputs": [
    {
     "data": {
      "text/plain": [
       "(3918,)"
      ]
     },
     "execution_count": 27,
     "metadata": {},
     "output_type": "execute_result"
    }
   ],
   "source": [
    "y_train.shape"
   ]
  },
  {
   "cell_type": "code",
   "execution_count": 28,
   "id": "ce88758a",
   "metadata": {},
   "outputs": [
    {
     "data": {
      "text/plain": [
       "(980,)"
      ]
     },
     "execution_count": 28,
     "metadata": {},
     "output_type": "execute_result"
    }
   ],
   "source": [
    "y_test.shape"
   ]
  },
  {
   "cell_type": "markdown",
   "id": "c9b653c4",
   "metadata": {},
   "source": [
    "#### standardizacija"
   ]
  },
  {
   "cell_type": "code",
   "execution_count": 29,
   "id": "c2496747",
   "metadata": {},
   "outputs": [],
   "source": [
    "scaler=preprocessing.StandardScaler()"
   ]
  },
  {
   "cell_type": "code",
   "execution_count": 30,
   "id": "5e51789c",
   "metadata": {},
   "outputs": [
    {
     "data": {
      "text/plain": [
       "StandardScaler()"
      ]
     },
     "execution_count": 30,
     "metadata": {},
     "output_type": "execute_result"
    }
   ],
   "source": [
    "scaler.fit(x_train)"
   ]
  },
  {
   "cell_type": "code",
   "execution_count": 31,
   "id": "69e4c916",
   "metadata": {},
   "outputs": [],
   "source": [
    "x_train=scaler.transform(x_train)"
   ]
  },
  {
   "cell_type": "code",
   "execution_count": 32,
   "id": "9f9c4393",
   "metadata": {},
   "outputs": [],
   "source": [
    "x_test=scaler.transform(x_test)"
   ]
  },
  {
   "cell_type": "code",
   "execution_count": 33,
   "id": "ab549acb",
   "metadata": {},
   "outputs": [
    {
     "data": {
      "text/plain": [
       "(4898,)"
      ]
     },
     "execution_count": 33,
     "metadata": {},
     "output_type": "execute_result"
    }
   ],
   "source": [
    "y_white.shape"
   ]
  },
  {
   "cell_type": "markdown",
   "id": "f3154691",
   "metadata": {},
   "source": [
    "## KNN (K najblizih suseda)"
   ]
  },
  {
   "cell_type": "code",
   "execution_count": 34,
   "id": "1c9b9f7a",
   "metadata": {},
   "outputs": [],
   "source": [
    "#Uzimamo za k brojeve od 1-25\n",
    "k = range(1, 25)\n",
    "k_scores = []\n",
    "# Racunamo ocenu kros validacije za svako k \n",
    "for k in k:\n",
    "    knn_model = KNeighborsClassifier(n_neighbors=k) #minkovski metrika je podrazumevana\n",
    "    #kros validacija 10 slojeva sa tacnoscu kao metrikom \n",
    "    scores = model_selection.cross_val_score(knn_model, x_white, y_white, cv=10, scoring='accuracy') #na celom skupu\n",
    "    k_scores.append(scores.mean())"
   ]
  },
  {
   "cell_type": "code",
   "execution_count": 35,
   "id": "24ad26c2",
   "metadata": {},
   "outputs": [
    {
     "data": {
      "text/plain": [
       "[0.3991398522599224,\n",
       " 0.39199949918617755,\n",
       " 0.3838287216727182,\n",
       " 0.4005709277576061,\n",
       " 0.4091552940194482,\n",
       " 0.412833354200576,\n",
       " 0.4142598389048871,\n",
       " 0.417727974625433,\n",
       " 0.41813613789073906,\n",
       " 0.4265051542089228,\n",
       " 0.42385084094987696,\n",
       " 0.42466257668711654,\n",
       " 0.41874796544384624,\n",
       " 0.4214031133925963,\n",
       " 0.4242644296982597,\n",
       " 0.426506406243479,\n",
       " 0.42466800217019324,\n",
       " 0.42568757564375437,\n",
       " 0.42180918993364214,\n",
       " 0.4316080297149535,\n",
       " 0.4309953674721422,\n",
       " 0.4336492633863361,\n",
       " 0.43528650724093315,\n",
       " 0.43631150619757103]"
      ]
     },
     "execution_count": 35,
     "metadata": {},
     "output_type": "execute_result"
    }
   ],
   "source": [
    "k_scores"
   ]
  },
  {
   "cell_type": "code",
   "execution_count": 189,
   "id": "9825761e",
   "metadata": {},
   "outputs": [
    {
     "data": {
      "image/png": "[encoded data removed]",
      "text/plain": [
       "<Figure size 640x480 with 1 Axes>"
      ]
     },
     "metadata": {},
     "output_type": "display_data"
    }
   ],
   "source": [
    "plt.plot(range(k),k_scores)\n",
    "plt.xticks(range(k))\n",
    "plt.xlabel('vrednost k')\n",
    "plt.ylabel('kros validacija -tacnost')\n",
    "plt.savefig('knn.png')\n",
    "plt.show()"
   ]
  },
  {
   "cell_type": "markdown",
   "id": "6d071c74",
   "metadata": {},
   "source": [
    "Izabracu k=19 za obucavanje modela, kako sam tu dobila tacnost medju visim"
   ]
  },
  {
   "cell_type": "code",
   "execution_count": 37,
   "id": "3b2532dc",
   "metadata": {},
   "outputs": [
    {
     "data": {
      "text/plain": [
       "KNeighborsClassifier(n_neighbors=19)"
      ]
     },
     "execution_count": 37,
     "metadata": {},
     "output_type": "execute_result"
    }
   ],
   "source": [
    "knn_model = KNeighborsClassifier(n_neighbors=19) #treniranje modela za k=19\n",
    "knn_model.fit(x_train, y_train)"
   ]
  },
  {
   "cell_type": "code",
   "execution_count": 38,
   "id": "2d1cefdd",
   "metadata": {},
   "outputs": [],
   "source": [
    "y_pred = knn_model.predict(x_test) #predvijdanje modela na test skupu"
   ]
  },
  {
   "cell_type": "code",
   "execution_count": 39,
   "id": "569a3672",
   "metadata": {},
   "outputs": [
    {
     "data": {
      "text/plain": [
       "array([5, 5, 6, 7, 7, 6, 6, 5, 6, 6, 7, 6, 6, 6, 5, 6, 6, 6, 6, 6, 7, 5,\n",
       "       7, 6, 6, 6, 6, 6, 5, 5, 6, 7, 6, 5, 6, 7, 6, 5, 6, 7, 7, 6, 5, 6,\n",
       "       6, 6, 6, 5, 6, 5, 6, 6, 5, 5, 7, 6, 5, 7, 5, 6, 5, 5, 5, 6, 6, 6,\n",
       "       5, 6, 6, 6, 6, 6, 5, 6, 6, 5, 5, 6, 7, 5, 6, 6, 6, 5, 6, 6, 6, 5,\n",
       "       6, 5, 5, 7, 5, 6, 6, 5, 5, 6, 6, 5, 6, 5, 6, 5, 7, 6, 5, 7, 6, 6,\n",
       "       6, 5, 6, 6, 6, 7, 6, 6, 5, 6, 6, 5, 6, 5, 5, 6, 6, 5, 6, 6, 6, 6,\n",
       "       7, 5, 5, 6, 6, 5, 5, 6, 5, 6, 7, 6, 6, 5, 5, 5, 6, 5, 6, 6, 5, 6,\n",
       "       7, 6, 5, 6, 6, 7, 6, 6, 6, 5, 5, 6, 5, 5, 6, 6, 6, 7, 6, 6, 5, 5,\n",
       "       7, 6, 5, 5, 6, 6, 6, 5, 5, 5, 7, 7, 6, 6, 5, 5, 5, 6, 7, 6, 6, 6,\n",
       "       5, 6, 7, 7, 6, 7, 6, 7, 6, 5, 7, 5, 5, 5, 6, 5, 7, 6, 6, 6, 7, 7,\n",
       "       5, 5, 5, 6, 6, 6, 6, 5, 6, 5, 6, 6, 6, 6, 6, 6, 6, 5, 5, 6, 5, 6,\n",
       "       6, 6, 5, 6, 6, 6, 6, 5, 6, 5, 5, 5, 6, 6, 6, 5, 5, 5, 5, 5, 6, 6,\n",
       "       6, 6, 5, 5, 5, 6, 6, 5, 5, 6, 7, 6, 6, 6, 5, 6, 7, 5, 6, 5, 5, 6,\n",
       "       6, 5, 6, 6, 6, 5, 5, 6, 6, 6, 6, 6, 7, 7, 6, 6, 5, 5, 7, 5, 6, 7,\n",
       "       6, 5, 7, 7, 6, 7, 5, 6, 6, 6, 6, 5, 7, 7, 5, 6, 6, 6, 6, 6, 6, 6,\n",
       "       6, 6, 5, 6, 6, 6, 5, 6, 6, 7, 6, 5, 5, 6, 6, 6, 6, 6, 6, 6, 7, 6,\n",
       "       6, 5, 6, 6, 7, 6, 5, 7, 6, 7, 6, 5, 6, 7, 6, 6, 6, 7, 5, 6, 5, 5,\n",
       "       7, 6, 7, 6, 6, 7, 5, 6, 5, 6, 6, 7, 6, 6, 6, 7, 5, 6, 7, 6, 7, 6,\n",
       "       5, 6, 5, 6, 6, 7, 7, 6, 6, 7, 6, 7, 6, 6, 6, 6, 7, 6, 6, 6, 6, 5,\n",
       "       7, 6, 6, 6, 6, 6, 5, 7, 5, 7, 6, 6, 6, 5, 6, 5, 5, 7, 5, 5, 5, 5,\n",
       "       6, 7, 6, 7, 7, 5, 6, 5, 6, 7, 7, 6, 5, 5, 5, 6, 5, 6, 5, 6, 7, 6,\n",
       "       6, 6, 5, 5, 7, 5, 6, 6, 6, 6, 6, 6, 6, 7, 5, 6, 6, 6, 6, 6, 6, 6,\n",
       "       7, 6, 7, 6, 5, 6, 5, 5, 6, 6, 6, 6, 6, 5, 4, 6, 7, 6, 6, 5, 6, 6,\n",
       "       6, 6, 7, 5, 5, 7, 7, 7, 7, 6, 6, 5, 6, 5, 6, 6, 6, 5, 6, 5, 6, 6,\n",
       "       6, 6, 5, 6, 5, 6, 6, 6, 7, 7, 7, 6, 7, 6, 6, 6, 5, 7, 6, 5, 6, 5,\n",
       "       5, 5, 6, 6, 5, 6, 6, 7, 6, 6, 6, 6, 7, 7, 6, 6, 7, 7, 5, 5, 5, 6,\n",
       "       5, 7, 6, 6, 6, 5, 5, 7, 5, 7, 6, 7, 5, 7, 6, 6, 6, 6, 6, 6, 6, 7,\n",
       "       6, 6, 6, 6, 6, 6, 6, 6, 8, 5, 5, 6, 6, 6, 6, 6, 6, 5, 6, 5, 5, 6,\n",
       "       6, 6, 5, 6, 6, 5, 6, 6, 7, 7, 6, 6, 5, 6, 6, 5, 5, 7, 6, 5, 6, 6,\n",
       "       6, 6, 6, 5, 5, 6, 6, 5, 6, 7, 7, 6, 6, 6, 6, 6, 5, 5, 6, 6, 5, 5,\n",
       "       6, 5, 6, 7, 6, 5, 6, 6, 6, 6, 5, 7, 8, 5, 6, 5, 6, 7, 6, 5, 5, 6,\n",
       "       6, 5, 5, 5, 6, 6, 6, 6, 5, 6, 5, 6, 7, 6, 6, 6, 7, 6, 5, 6, 7, 6,\n",
       "       6, 6, 6, 5, 6, 5, 6, 5, 6, 6, 5, 6, 6, 6, 6, 5, 6, 6, 5, 6, 5, 6,\n",
       "       6, 6, 7, 6, 6, 6, 6, 6, 6, 7, 6, 7, 6, 6, 6, 5, 6, 6, 6, 6, 6, 5,\n",
       "       6, 7, 6, 6, 5, 5, 5, 5, 6, 5, 7, 7, 6, 6, 6, 6, 6, 6, 5, 6, 5, 7,\n",
       "       5, 6, 6, 5, 6, 6, 7, 5, 6, 5, 5, 6, 5, 6, 6, 6, 5, 7, 5, 6, 6, 5,\n",
       "       6, 6, 6, 5, 6, 5, 6, 5, 7, 5, 6, 7, 7, 7, 5, 6, 5, 5, 6, 6, 6, 5,\n",
       "       6, 6, 7, 7, 5, 6, 6, 6, 6, 6, 7, 6, 6, 5, 6, 6, 6, 5, 6, 6, 6, 5,\n",
       "       6, 6, 6, 5, 5, 7, 6, 5, 6, 6, 6, 6, 5, 6, 6, 6, 5, 7, 7, 7, 6, 6,\n",
       "       7, 6, 5, 5, 5, 5, 5, 6, 6, 5, 6, 6, 5, 7, 5, 5, 6, 7, 6, 6, 5, 6,\n",
       "       6, 6, 6, 5, 5, 6, 6, 6, 6, 6, 6, 5, 6, 6, 5, 5, 6, 7, 6, 6, 6, 6,\n",
       "       6, 6, 7, 6, 6, 6, 5, 6, 7, 6, 6, 7, 6, 6, 5, 5, 6, 6, 5, 5, 6, 5,\n",
       "       5, 5, 5, 7, 7, 6, 5, 6, 5, 5, 6, 5, 6, 6, 5, 6, 6, 5, 6, 6, 5, 5,\n",
       "       5, 6, 6, 6, 5, 6, 6, 5, 6, 6, 6, 6, 7, 6, 6, 7, 6, 6, 5, 6, 5, 5,\n",
       "       6, 6, 5, 5, 5, 5, 6, 5, 7, 6, 5, 6], dtype=int64)"
      ]
     },
     "execution_count": 39,
     "metadata": {},
     "output_type": "execute_result"
    }
   ],
   "source": [
    "y_pred"
   ]
  },
  {
   "cell_type": "code",
   "execution_count": 40,
   "id": "3c37afed",
   "metadata": {},
   "outputs": [
    {
     "name": "stdout",
     "output_type": "stream",
     "text": [
      "              precision    recall  f1-score   support\n",
      "\n",
      "           3       0.00      0.00      0.00         4\n",
      "           4       0.00      0.00      0.00        33\n",
      "           5       0.62      0.62      0.62       291\n",
      "           6       0.58      0.71      0.64       440\n",
      "           7       0.43      0.35      0.38       176\n",
      "           8       0.00      0.00      0.00        35\n",
      "           9       0.00      0.00      0.00         1\n",
      "\n",
      "    accuracy                           0.57       980\n",
      "   macro avg       0.23      0.24      0.23       980\n",
      "weighted avg       0.52      0.57      0.54       980\n",
      "\n"
     ]
    }
   ],
   "source": [
    "print(metrics.classification_report(y_test, y_pred)) #izvestaj"
   ]
  },
  {
   "cell_type": "code",
   "execution_count": 41,
   "id": "d5c97251",
   "metadata": {},
   "outputs": [
    {
     "data": {
      "text/plain": [
       "0.5663265306122449"
      ]
     },
     "execution_count": 41,
     "metadata": {},
     "output_type": "execute_result"
    }
   ],
   "source": [
    "tacnost_knn=metrics.accuracy_score(y_test,y_pred) #tacnost modela\n",
    "tacnost_knn"
   ]
  },
  {
   "cell_type": "markdown",
   "id": "c2e249b0",
   "metadata": {},
   "source": [
    "## Linearna regresija sa tezinama"
   ]
  },
  {
   "cell_type": "code",
   "execution_count": 113,
   "id": "4f0d012f",
   "metadata": {},
   "outputs": [],
   "source": [
    "lm=linear_model.LinearRegression()"
   ]
  },
  {
   "cell_type": "code",
   "execution_count": 159,
   "id": "b2bd4150",
   "metadata": {},
   "outputs": [],
   "source": [
    "w1=1/y_train\n",
    "w2=np.abs((1-np.sum(y_train))/y_train)\n",
    "w3= np.abs(np.random.randn(3918))"
   ]
  },
  {
   "cell_type": "code",
   "execution_count": 160,
   "id": "86789229",
   "metadata": {},
   "outputs": [
    {
     "data": {
      "text/plain": [
       "LinearRegression()"
      ]
     },
     "execution_count": 160,
     "metadata": {},
     "output_type": "execute_result"
    }
   ],
   "source": [
    "lm.fit(x_train,y_train,sample_weight=w1)"
   ]
  },
  {
   "cell_type": "code",
   "execution_count": 161,
   "id": "676524c4",
   "metadata": {},
   "outputs": [],
   "source": [
    "y_predd=lm.predict(x_test)"
   ]
  },
  {
   "cell_type": "code",
   "execution_count": 162,
   "id": "fc98ecce",
   "metadata": {},
   "outputs": [
    {
     "data": {
      "text/plain": [
       "array([4.90406267, 5.63127396, 5.56559058, 6.57689054, 5.94040405,\n",
       "       5.26171786, 5.68525468, 5.25197426, 5.60948005, 6.03332866,\n",
       "       5.89982367, 6.71332921, 6.39743015, 5.85013968, 4.99351247,\n",
       "       6.34018137, 5.86212669, 5.80498899, 6.16049828, 6.51193308,\n",
       "       6.16687762, 5.3196336 , 6.33784026, 5.47013218, 5.3854115 ,\n",
       "       5.92202471, 5.78675595, 5.50042026, 5.55171289, 5.09431037,\n",
       "       5.3678069 , 6.41889114, 6.17205429, 6.06950805, 6.13152873,\n",
       "       6.08639876, 5.81637775, 5.03315149, 5.81819011, 6.39411221,\n",
       "       6.06871553, 5.34345603, 5.46385886, 6.57379802, 5.63896179,\n",
       "       6.18662435, 5.38901926, 4.84498146, 5.85690654, 4.80631216,\n",
       "       5.62972853, 5.59946527, 5.44104381, 5.01350329, 6.08339378,\n",
       "       6.2347838 , 5.2375949 , 5.85144144, 5.70277755, 5.53351635,\n",
       "       5.6017956 , 5.2621443 , 5.47031393, 5.7247225 , 5.80803562,\n",
       "       6.467679  , 5.18531888, 6.473803  , 5.25006247, 6.13587662,\n",
       "       5.54753501, 6.10075341, 4.86635148, 6.42055694, 5.74156931,\n",
       "       5.5280367 , 5.39154023, 5.79180533, 6.49932484, 5.62632914,\n",
       "       6.56316721, 5.93896501, 5.77345852, 5.98289919, 5.73509706,\n",
       "       5.56498915, 6.3407636 , 5.24096108, 6.12684706, 5.21973004,\n",
       "       5.84061049, 6.56563172, 5.59579396, 5.72758797, 5.5818701 ,\n",
       "       5.54398487, 5.77548451, 5.7716007 , 5.7312308 , 5.45314505,\n",
       "       6.13206239, 5.77202554, 5.90175369, 5.83353886, 6.70584058,\n",
       "       6.68611025, 5.42265889, 6.3824069 , 6.12562956, 5.78944179,\n",
       "       5.91736137, 5.37298567, 6.66471045, 5.99379602, 6.01111379,\n",
       "       6.41675889, 6.04807082, 5.89114855, 5.4176302 , 6.63454064,\n",
       "       6.39928803, 5.25087893, 5.48731757, 5.3976625 , 5.4702971 ,\n",
       "       5.94971203, 6.01163739, 5.48307298, 5.81058007, 5.67778399,\n",
       "       5.80039069, 6.44868257, 5.44599078, 5.6162092 , 5.55765994,\n",
       "       5.67106851, 5.87030332, 5.75775584, 5.7516747 , 5.76066489,\n",
       "       4.96885329, 5.83370807, 5.92980989, 5.74916193, 6.24861672,\n",
       "       5.17882299, 5.56670971, 5.27296568, 5.61573133, 4.92336668,\n",
       "       5.30313949, 5.98046566, 4.67325077, 5.6449068 , 6.12392961,\n",
       "       5.60112985, 5.10007237, 6.00098238, 5.41630451, 6.31029613,\n",
       "       6.11307683, 5.92833984, 6.11829542, 5.69708357, 5.56371317,\n",
       "       6.33119636, 5.43682618, 5.10046612, 5.48879512, 6.30398171,\n",
       "       6.12723596, 6.29033787, 5.50997145, 6.04875234, 5.35710053,\n",
       "       5.15655149, 6.7306519 , 5.59555887, 5.28750722, 5.23928369,\n",
       "       5.51681687, 5.20541435, 5.40657639, 5.1606717 , 5.83816004,\n",
       "       5.40191148, 6.09064167, 5.61240347, 5.60600772, 6.01888478,\n",
       "       5.33015893, 6.0040587 , 5.53872632, 5.96631488, 6.47580901,\n",
       "       6.13055716, 5.75287344, 6.16226548, 5.68098767, 5.96339862,\n",
       "       6.08307711, 6.77784928, 6.52885764, 5.48331416, 6.16245202,\n",
       "       6.51235376, 6.0730433 , 5.25435607, 6.18066346, 5.74515138,\n",
       "       5.71660555, 5.06354498, 5.87980436, 5.6017956 , 7.11364451,\n",
       "       5.87099053, 6.50157028, 5.55505523, 5.64240575, 6.04066539,\n",
       "       5.28288371, 5.72551005, 5.15939535, 5.93689264, 5.34345603,\n",
       "       5.97641203, 6.32600381, 5.41945524, 6.51647957, 5.46971785,\n",
       "       6.44038918, 5.74634908, 5.94939783, 5.67528258, 6.18843191,\n",
       "       5.44141095, 6.06961712, 5.56431896, 5.83816004, 6.10842775,\n",
       "       4.34122545, 5.50668499, 5.88222825, 5.74147969, 5.21544983,\n",
       "       5.93690744, 6.17905502, 6.08566368, 5.22621477, 4.97711692,\n",
       "       5.48226699, 5.81282717, 5.42781202, 5.95091271, 5.55090858,\n",
       "       5.80421999, 6.37326152, 5.31514213, 5.02195765, 5.43117386,\n",
       "       5.27265753, 5.44092076, 6.13575789, 6.38214916, 6.59696266,\n",
       "       5.00908443, 5.134404  , 5.73487421, 5.18629269, 6.21610394,\n",
       "       5.50802278, 4.74504606, 4.94292001, 5.63047475, 6.90746111,\n",
       "       5.55486653, 6.00098238, 6.22252293, 5.27878354, 5.99806104,\n",
       "       6.10678229, 5.12608447, 6.13443378, 5.69557884, 5.55451594,\n",
       "       5.53847173, 5.81362097, 4.95466233, 7.02160837, 6.15874015,\n",
       "       6.25491607, 5.76616601, 5.60356932, 5.41509902, 6.40942918,\n",
       "       6.37655891, 5.80371287, 5.65533038, 6.72311463, 6.71127399,\n",
       "       5.4952564 , 6.68749716, 5.22886908, 4.79656399, 6.48919734,\n",
       "       5.5595528 , 5.06754038, 6.39421918, 5.37596904, 4.60128006,\n",
       "       6.88977738, 6.06851767, 6.26864165, 6.2902962 , 5.30217875,\n",
       "       5.65940654, 6.11377101, 5.62369809, 5.98591982, 4.99290044,\n",
       "       5.98349822, 6.78934071, 4.9388905 , 6.2082341 , 5.35257457,\n",
       "       6.17067798, 5.66403798, 5.50931769, 6.34988654, 5.63667846,\n",
       "       5.26042585, 6.38214916, 4.74382601, 5.47365658, 5.72007667,\n",
       "       6.10695086, 5.42809097, 5.98921021, 5.83707257, 6.48969833,\n",
       "       5.77287685, 5.22682168, 4.75091023, 5.92975081, 6.79262773,\n",
       "       5.61927391, 5.34367371, 6.1544746 , 5.92831153, 5.84354282,\n",
       "       6.34201239, 5.7359352 , 5.69029362, 5.41825947, 6.33165458,\n",
       "       5.8769404 , 6.2361359 , 6.02391935, 5.31263811, 5.85144144,\n",
       "       6.16024025, 6.18850162, 6.04251884, 5.43108486, 6.02380691,\n",
       "       6.03105361, 6.865763  , 5.59768363, 5.10893673, 5.64240575,\n",
       "       5.6205084 , 5.84802161, 4.89896853, 5.4692765 , 6.35616062,\n",
       "       5.75894491, 6.53873678, 6.12684706, 5.92270363, 6.47942163,\n",
       "       5.33452921, 5.60347097, 5.50733902, 5.98927616, 5.62890481,\n",
       "       6.21352184, 5.38330814, 5.92361017, 6.57677704, 5.31762986,\n",
       "       6.38321794, 6.04256266, 6.02817534, 5.36960535, 6.34445818,\n",
       "       6.1076832 , 5.53177582, 5.60529156, 5.27878354, 5.6964397 ,\n",
       "       5.88375158, 5.54117844, 6.4519559 , 6.0008143 , 6.01533197,\n",
       "       6.46663134, 6.41395595, 6.02295561, 5.59039804, 5.9789343 ,\n",
       "       5.78726798, 5.3636536 , 6.33259371, 6.02419607, 6.27555391,\n",
       "       5.03967486, 5.1090025 , 5.40739487, 5.81126515, 5.95777442,\n",
       "       5.93689264, 5.35563532, 5.78032344, 5.9275056 , 5.32349513,\n",
       "       5.46556877, 5.13328841, 5.99921966, 5.8680869 , 5.89194881,\n",
       "       5.4437058 , 5.08749162, 6.55769953, 5.62739573, 5.41729611,\n",
       "       5.63061706, 5.13709023, 5.78133679, 5.48233317, 5.53665679,\n",
       "       6.16040862, 6.51649837, 6.10467227, 6.67897162, 6.4711001 ,\n",
       "       5.01975972, 5.76410128, 5.62419862, 6.4461443 , 6.40356022,\n",
       "       6.18413017, 5.68313606, 5.40860745, 5.11424831, 5.27029203,\n",
       "       5.93430742, 4.48061251, 5.97052032, 4.72688875, 6.18747993,\n",
       "       6.6696161 , 5.66293369, 5.94908784, 6.04212808, 5.8842783 ,\n",
       "       5.48620053, 6.34999729, 5.5010116 , 6.04182432, 6.3178727 ,\n",
       "       6.04279487, 5.3122777 , 6.31032202, 5.63133186, 5.53606629,\n",
       "       6.27625847, 4.77280257, 5.41983941, 6.00881565, 5.86160247,\n",
       "       6.08573705, 6.30564504, 6.00730148, 6.56569988, 6.63491526,\n",
       "       5.52642749, 6.17649166, 5.57819575, 5.00503546, 6.16165989,\n",
       "       5.16656819, 5.55396252, 5.96798878, 5.91832379, 5.77346426,\n",
       "       6.34506346, 6.2347838 , 5.48233317, 4.57151713, 5.72250867,\n",
       "       5.52337505, 5.80441643, 6.3219221 , 4.98046019, 5.48990341,\n",
       "       6.04569852, 6.17066503, 6.27323569, 6.05623817, 5.34996566,\n",
       "       5.41070078, 6.79833213, 6.24082266, 5.83305918, 5.53693807,\n",
       "       6.28135979, 5.94185328, 5.82798903, 5.48879512, 5.66470847,\n",
       "       5.80149129, 5.88544402, 5.1090025 , 5.18540722, 5.71894288,\n",
       "       5.64412157, 5.1851976 , 6.04255055, 5.04072999, 5.5665677 ,\n",
       "       5.35833042, 6.25620832, 5.20102941, 5.67567649, 6.19090479,\n",
       "       5.64775057, 5.82453756, 6.63491526, 6.01248193, 6.33235471,\n",
       "       5.84520457, 5.97958781, 5.58705317, 5.90979043, 5.36721254,\n",
       "       5.91894683, 6.08157726, 5.64540899, 5.78467708, 5.16919918,\n",
       "       5.07172349, 5.0096266 , 6.04177368, 5.6430348 , 5.03146488,\n",
       "       5.91992513, 5.58219335, 6.37016777, 5.88222825, 5.73630622,\n",
       "       5.59858677, 6.36827589, 6.72283398, 6.33902805, 5.55870463,\n",
       "       6.0399535 , 6.40476844, 6.03312352, 5.25676828, 5.1126732 ,\n",
       "       5.39347053, 5.5359414 , 5.32035353, 6.24622304, 5.69084927,\n",
       "       6.39724148, 6.06189793, 5.6962735 , 5.04170484, 6.31358334,\n",
       "       5.76575353, 6.55716219, 5.2005688 , 6.471545  , 5.57089666,\n",
       "       6.73960985, 5.0135869 , 5.96317626, 5.55505523, 6.02267681,\n",
       "       5.73301095, 6.22571668, 5.30758522, 6.24208543, 5.55873661,\n",
       "       5.52800432, 7.23826295, 5.53522592, 5.80917911, 5.90103756,\n",
       "       6.17922402, 6.17950154, 6.40718379, 5.58025678, 5.19114869,\n",
       "       6.48639579, 5.83577628, 6.51924106, 6.19416858, 5.78467708,\n",
       "       5.79236721, 5.82886526, 6.28227461, 5.51169588, 5.86510343,\n",
       "       5.75362716, 5.43965132, 6.05843624, 5.40608747, 5.60338091,\n",
       "       6.36422592, 6.12900147, 5.86639559, 6.39839701, 6.07916835,\n",
       "       6.54408298, 6.1714416 , 6.11300473, 5.16702935, 6.28532999,\n",
       "       5.64315876, 5.2238593 , 5.38038567, 6.03291003, 5.79740713,\n",
       "       4.6922722 , 5.98932345, 5.90019219, 5.97433739, 5.8178503 ,\n",
       "       6.3411643 , 5.07397888, 5.54210648, 6.52138566, 5.91310462,\n",
       "       5.34689045, 5.59327605, 6.05441297, 5.61282827, 5.70926168,\n",
       "       5.5401704 , 6.10339328, 5.67778399, 5.59198199, 5.04170484,\n",
       "       5.39113284, 5.7823526 , 5.21141643, 5.3163217 , 5.65028997,\n",
       "       5.57854011, 5.13948345, 6.67598337, 6.39841351, 6.04786704,\n",
       "       5.19878905, 5.47365658, 5.9291273 , 5.72012358, 5.75657551,\n",
       "       5.35795938, 6.27625847, 6.08719945, 5.49639939, 5.42416751,\n",
       "       5.60501168, 6.12341999, 6.31284755, 5.58105913, 4.31175496,\n",
       "       5.41003662, 6.11838862, 6.15487938, 5.44850091, 5.11424831,\n",
       "       5.82138071, 5.74565514, 6.25491607, 5.68021715, 5.66776783,\n",
       "       5.70277755, 5.30336893, 4.47333095, 6.43444556, 6.45505184,\n",
       "       5.88239309, 6.68551247, 5.99409384, 6.20023509, 5.86538256,\n",
       "       5.69557884, 6.00822667, 6.77247335, 6.03894483, 5.64453561,\n",
       "       5.98961365, 5.66499708, 5.97669672, 6.1298108 , 5.29511484,\n",
       "       5.48011867, 4.92172805, 5.45395834, 5.46096008, 5.04181064,\n",
       "       6.08061665, 6.42289243, 6.63865297, 6.53162491, 5.21587645,\n",
       "       6.3894472 , 6.35744782, 4.99624306, 6.23242609, 5.45783473,\n",
       "       5.82106737, 6.0739508 , 6.03675733, 6.44759793, 5.67176278,\n",
       "       6.16071431, 6.29839974, 5.34454586, 6.36279398, 5.4491171 ,\n",
       "       6.07436546, 5.44874528, 6.56388882, 5.55924047, 5.74419314,\n",
       "       5.46913219, 5.71105329, 5.90855383, 6.22216598, 6.48685114,\n",
       "       6.07625927, 6.2522032 , 5.26090014, 6.6914378 , 6.71898835,\n",
       "       6.494211  , 5.71078659, 5.28970026, 5.80448081, 4.94782885,\n",
       "       5.6017956 , 4.9320976 , 5.54554   , 5.95920538, 6.15082228,\n",
       "       5.45173362, 5.92222932, 5.73273787, 5.29675397, 5.56413257,\n",
       "       5.97482315, 5.21158583, 6.23763116, 5.30549031, 6.83980392,\n",
       "       5.51865202, 5.99899737, 6.16196339, 4.5121056 , 5.60819951,\n",
       "       6.37274702, 6.10592287, 5.20080356, 6.17889924, 4.98516243,\n",
       "       5.1070314 , 6.38037904, 5.28292058, 5.56413231, 5.45173362,\n",
       "       5.99054231, 6.51389638, 5.90758348, 5.3084004 , 6.10875141,\n",
       "       5.26262724, 5.33215891, 6.21001747, 5.91594186, 6.32930203,\n",
       "       5.59818704, 5.81577145, 4.27359524, 6.77247057, 5.37627177,\n",
       "       5.99712598, 5.28342965, 6.04036547, 6.53065785, 6.2535527 ,\n",
       "       6.60553291, 5.66211369, 5.27136626, 5.02503999, 5.83309346,\n",
       "       5.85970476, 5.95169724, 5.47910648, 5.68402165, 6.073224  ,\n",
       "       6.11089294, 6.10587118, 6.31900393, 5.14879254, 6.1999128 ,\n",
       "       5.83565379, 6.25413046, 5.91059305, 6.18830398, 6.0342888 ,\n",
       "       6.12067632, 6.63899555, 4.92088342, 6.19831667, 6.39560458,\n",
       "       5.62277719, 5.26945989, 5.58478432, 6.18338647, 5.45729629,\n",
       "       5.51169588, 5.8120312 , 5.45212705, 6.12667617, 5.35819235,\n",
       "       5.47371783, 6.3069855 , 5.47365658, 5.46500636, 6.20840958,\n",
       "       5.69787383, 6.46537698, 5.78448205, 5.30760504, 6.01250632,\n",
       "       5.88544402, 6.4344183 , 5.43877431, 6.49932484, 6.3696833 ,\n",
       "       6.32911775, 6.16844707, 5.69592906, 6.30634898, 5.88402267,\n",
       "       4.47102849, 5.3883553 , 4.95045281, 5.98257227, 5.19986365,\n",
       "       5.94693404, 5.30313222, 5.81714203, 6.09182441, 6.95200333,\n",
       "       4.74899734, 5.94508442, 5.54554681, 5.50717588, 5.65461384,\n",
       "       6.4339964 , 6.26258111, 6.57065806, 5.62832227, 6.09668961,\n",
       "       5.2031352 , 5.72141606, 5.46913219, 5.7012296 , 5.54009487,\n",
       "       5.84742285, 5.46113271, 6.55562916, 5.71612478, 5.90672998,\n",
       "       5.88654208, 5.87489171, 6.234395  , 6.03107755, 5.46399434,\n",
       "       4.70532482, 6.42789286, 6.04982506, 6.03527621, 5.82748253,\n",
       "       5.61393979, 6.25585027, 6.20473253, 6.1887266 , 6.15223022,\n",
       "       5.92975081, 5.66929995, 5.59805258, 6.03283482, 5.55251421,\n",
       "       6.21253252, 5.96630136, 6.13455438, 6.3455388 , 5.61163958,\n",
       "       5.72806542, 5.09692401, 5.23830824, 5.21408061, 6.28568053,\n",
       "       5.05721285, 5.58247787, 6.52149849, 5.36030564, 5.14779289,\n",
       "       5.55162559, 5.44669325, 6.93851093, 6.74104458, 6.53037219,\n",
       "       4.42013628, 5.53793254, 6.05022626, 5.22071182, 6.78656899,\n",
       "       5.11665976, 5.46925616, 5.55241866, 5.483096  , 5.28536643,\n",
       "       5.58219335, 5.469109  , 5.61722407, 6.65492667, 5.07692472,\n",
       "       5.21339275, 5.51569505, 6.27998945, 5.77431715, 6.11546149,\n",
       "       5.63836532, 6.12022663, 5.55540852, 4.76603578, 5.69377946,\n",
       "       6.84738022, 6.1578352 , 6.13779925, 6.70584058, 5.96772298,\n",
       "       5.74170923, 6.12403069, 5.40602839, 5.40377011, 5.68871236,\n",
       "       5.24419475, 4.94537195, 5.19250161, 5.92376202, 5.83414471,\n",
       "       5.66254275, 5.16124531, 5.30251037, 5.30117863, 5.18796627,\n",
       "       5.66476563, 6.11320283, 5.7974981 , 5.28324953, 6.18971811])"
      ]
     },
     "execution_count": 162,
     "metadata": {},
     "output_type": "execute_result"
    }
   ],
   "source": [
    "y_predd"
   ]
  },
  {
   "cell_type": "code",
   "execution_count": 163,
   "id": "4b0d3f67",
   "metadata": {},
   "outputs": [
    {
     "data": {
      "text/plain": [
       "array([5., 6., 6., 7., 6., 5., 6., 5., 6., 6., 6., 7., 6., 6., 5., 6., 6.,\n",
       "       6., 6., 7., 6., 5., 6., 5., 5., 6., 6., 6., 6., 5., 5., 6., 6., 6.,\n",
       "       6., 6., 6., 5., 6., 6., 6., 5., 5., 7., 6., 6., 5., 5., 6., 5., 6.,\n",
       "       6., 5., 5., 6., 6., 5., 6., 6., 6., 6., 5., 5., 6., 6., 6., 5., 6.,\n",
       "       5., 6., 6., 6., 5., 6., 6., 6., 5., 6., 6., 6., 7., 6., 6., 6., 6.,\n",
       "       6., 6., 5., 6., 5., 6., 7., 6., 6., 6., 6., 6., 6., 6., 5., 6., 6.,\n",
       "       6., 6., 7., 7., 5., 6., 6., 6., 6., 5., 7., 6., 6., 6., 6., 6., 5.,\n",
       "       7., 6., 5., 5., 5., 5., 6., 6., 5., 6., 6., 6., 6., 5., 6., 6., 6.,\n",
       "       6., 6., 6., 6., 5., 6., 6., 6., 6., 5., 6., 5., 6., 5., 5., 6., 5.,\n",
       "       6., 6., 6., 5., 6., 5., 6., 6., 6., 6., 6., 6., 6., 5., 5., 5., 6.,\n",
       "       6., 6., 6., 6., 5., 5., 7., 6., 5., 5., 6., 5., 5., 5., 6., 5., 6.,\n",
       "       6., 6., 6., 5., 6., 6., 6., 6., 6., 6., 6., 6., 6., 6., 7., 7., 5.,\n",
       "       6., 7., 6., 5., 6., 6., 6., 5., 6., 6., 7., 6., 7., 6., 6., 6., 5.,\n",
       "       6., 5., 6., 5., 6., 6., 5., 7., 5., 6., 6., 6., 6., 6., 5., 6., 6.,\n",
       "       6., 6., 4., 6., 6., 6., 5., 6., 6., 6., 5., 5., 5., 6., 5., 6., 6.,\n",
       "       6., 6., 5., 5., 5., 5., 5., 6., 6., 7., 5., 5., 6., 5., 6., 6., 5.,\n",
       "       5., 6., 7., 6., 6., 6., 5., 6., 6., 5., 6., 6., 6., 6., 6., 5., 7.,\n",
       "       6., 6., 6., 6., 5., 6., 6., 6., 6., 7., 7., 5., 7., 5., 5., 6., 6.,\n",
       "       5., 6., 5., 5., 7., 6., 6., 6., 5., 6., 6., 6., 6., 5., 6., 7., 5.,\n",
       "       6., 5., 6., 6., 6., 6., 6., 5., 6., 5., 5., 6., 6., 5., 6., 6., 6.,\n",
       "       6., 5., 5., 6., 7., 6., 5., 6., 6., 6., 6., 6., 6., 5., 6., 6., 6.,\n",
       "       6., 5., 6., 6., 6., 6., 5., 6., 6., 7., 6., 5., 6., 6., 6., 5., 5.,\n",
       "       6., 6., 7., 6., 6., 6., 5., 6., 6., 6., 6., 6., 5., 6., 7., 5., 6.,\n",
       "       6., 6., 5., 6., 6., 6., 6., 5., 6., 6., 6., 6., 6., 6., 6., 6., 6.,\n",
       "       6., 6., 6., 5., 6., 6., 6., 5., 5., 5., 6., 6., 6., 5., 6., 6., 5.,\n",
       "       5., 5., 6., 6., 6., 5., 5., 7., 6., 5., 6., 5., 6., 5., 6., 6., 7.,\n",
       "       6., 7., 6., 5., 6., 6., 6., 6., 6., 6., 5., 5., 5., 6., 4., 6., 5.,\n",
       "       6., 7., 6., 6., 6., 6., 5., 6., 6., 6., 6., 6., 5., 6., 6., 6., 6.,\n",
       "       5., 5., 6., 6., 6., 6., 6., 7., 7., 6., 6., 6., 5., 6., 5., 6., 6.,\n",
       "       6., 6., 6., 6., 5., 5., 6., 6., 6., 6., 5., 5., 6., 6., 6., 6., 5.,\n",
       "       5., 7., 6., 6., 6., 6., 6., 6., 5., 6., 6., 6., 5., 5., 6., 6., 5.,\n",
       "       6., 5., 6., 5., 6., 5., 6., 6., 6., 6., 7., 6., 6., 6., 6., 6., 6.,\n",
       "       5., 6., 6., 6., 6., 5., 5., 5., 6., 6., 5., 6., 6., 6., 6., 6., 6.,\n",
       "       6., 7., 6., 6., 6., 6., 6., 5., 5., 5., 6., 5., 6., 6., 6., 6., 6.,\n",
       "       5., 6., 6., 7., 5., 6., 6., 7., 5., 6., 6., 6., 6., 6., 5., 6., 6.,\n",
       "       6., 7., 6., 6., 6., 6., 6., 6., 6., 5., 6., 6., 7., 6., 6., 6., 6.,\n",
       "       6., 6., 6., 6., 5., 6., 5., 6., 6., 6., 6., 6., 6., 7., 6., 6., 5.,\n",
       "       6., 6., 5., 5., 6., 6., 5., 6., 6., 6., 6., 6., 5., 6., 7., 6., 5.,\n",
       "       6., 6., 6., 6., 6., 6., 6., 6., 5., 5., 6., 5., 5., 6., 6., 5., 7.,\n",
       "       6., 6., 5., 5., 6., 6., 6., 5., 6., 6., 5., 5., 6., 6., 6., 6., 4.,\n",
       "       5., 6., 6., 5., 5., 6., 6., 6., 6., 6., 6., 5., 4., 6., 6., 6., 7.,\n",
       "       6., 6., 6., 6., 6., 7., 6., 6., 6., 6., 6., 6., 5., 5., 5., 5., 5.,\n",
       "       5., 6., 6., 7., 7., 5., 6., 6., 5., 6., 5., 6., 6., 6., 6., 6., 6.,\n",
       "       6., 5., 6., 5., 6., 5., 7., 6., 6., 5., 6., 6., 6., 6., 6., 6., 5.,\n",
       "       7., 7., 6., 6., 5., 6., 5., 6., 5., 6., 6., 6., 5., 6., 6., 5., 6.,\n",
       "       6., 5., 6., 5., 7., 6., 6., 6., 5., 6., 6., 6., 5., 6., 5., 5., 6.,\n",
       "       5., 6., 5., 6., 7., 6., 5., 6., 5., 5., 6., 6., 6., 6., 6., 4., 7.,\n",
       "       5., 6., 5., 6., 7., 6., 7., 6., 5., 5., 6., 6., 6., 5., 6., 6., 6.,\n",
       "       6., 6., 5., 6., 6., 6., 6., 6., 6., 6., 7., 5., 6., 6., 6., 5., 6.,\n",
       "       6., 5., 6., 6., 5., 6., 5., 5., 6., 5., 5., 6., 6., 6., 6., 5., 6.,\n",
       "       6., 6., 5., 6., 6., 6., 6., 6., 6., 6., 4., 5., 5., 6., 5., 6., 5.,\n",
       "       6., 6., 7., 5., 6., 6., 6., 6., 6., 6., 7., 6., 6., 5., 6., 5., 6.,\n",
       "       6., 6., 5., 7., 6., 6., 6., 6., 6., 6., 5., 5., 6., 6., 6., 6., 6.,\n",
       "       6., 6., 6., 6., 6., 6., 6., 6., 6., 6., 6., 6., 6., 6., 6., 5., 5.,\n",
       "       5., 6., 5., 6., 7., 5., 5., 6., 5., 7., 7., 7., 4., 6., 6., 5., 7.,\n",
       "       5., 5., 6., 5., 5., 6., 5., 6., 7., 5., 5., 6., 6., 6., 6., 6., 6.,\n",
       "       6., 5., 6., 7., 6., 6., 7., 6., 6., 6., 5., 5., 6., 5., 5., 5., 6.,\n",
       "       6., 6., 5., 5., 5., 5., 6., 6., 6., 5., 6.])"
      ]
     },
     "execution_count": 163,
     "metadata": {},
     "output_type": "execute_result"
    }
   ],
   "source": [
    "y_predd=y_predd.round()\n",
    "y_predd"
   ]
  },
  {
   "cell_type": "code",
   "execution_count": 164,
   "id": "db1aaf5b",
   "metadata": {},
   "outputs": [
    {
     "data": {
      "text/plain": [
       "0.6693877551020408"
      ]
     },
     "execution_count": 164,
     "metadata": {},
     "output_type": "execute_result"
    }
   ],
   "source": [
    "metrics.mean_squared_error(y_test,y_predd)"
   ]
  },
  {
   "cell_type": "code",
   "execution_count": 165,
   "id": "13b36508",
   "metadata": {},
   "outputs": [
    {
     "data": {
      "text/plain": [
       "0.0928798185941043"
      ]
     },
     "execution_count": 165,
     "metadata": {},
     "output_type": "execute_result"
    }
   ],
   "source": [
    "metrics.mean_absolute_percentage_error(y_test,y_predd)"
   ]
  },
  {
   "cell_type": "code",
   "execution_count": 156,
   "id": "dc03e2e8",
   "metadata": {},
   "outputs": [
    {
     "data": {
      "text/plain": [
       "0.14728353140916817"
      ]
     },
     "execution_count": 156,
     "metadata": {},
     "output_type": "execute_result"
    }
   ],
   "source": [
    "metrics.r2_score(y_test,y_predd)"
   ]
  },
  {
   "cell_type": "code",
   "execution_count": 190,
   "id": "589cab99",
   "metadata": {},
   "outputs": [
    {
     "name": "stdout",
     "output_type": "stream",
     "text": [
      "0.5275510204081633\n"
     ]
    }
   ],
   "source": [
    "print(metrics.accuracy_score(y_test,y_predd))"
   ]
  },
  {
   "cell_type": "markdown",
   "id": "4435a9ae",
   "metadata": {},
   "source": [
    "## AdaBoost"
   ]
  },
  {
   "cell_type": "markdown",
   "id": "9b26c81d",
   "metadata": {},
   "source": [
    "Ada boost je model koji se zasniva na promenljivim tezinama instanci. Prvo se pravi bazni model."
   ]
  },
  {
   "cell_type": "code",
   "execution_count": 166,
   "id": "3fca19b4",
   "metadata": {},
   "outputs": [],
   "source": [
    "base_estimator = ensemble.RandomForestClassifier(n_estimators=100, random_state=7) #bazni model"
   ]
  },
  {
   "cell_type": "code",
   "execution_count": 167,
   "id": "084bacd4",
   "metadata": {},
   "outputs": [],
   "source": [
    "#pravljenje ansambla\n",
    "adaboost = ensemble.AdaBoostClassifier(base_estimator=base_estimator, n_estimators=50,random_state=7)"
   ]
  },
  {
   "cell_type": "code",
   "execution_count": 168,
   "id": "9a27b5c8",
   "metadata": {},
   "outputs": [
    {
     "data": {
      "text/plain": [
       "AdaBoostClassifier(base_estimator=RandomForestClassifier(random_state=7),\n",
       "                   random_state=7)"
      ]
     },
     "execution_count": 168,
     "metadata": {},
     "output_type": "execute_result"
    }
   ],
   "source": [
    "# treniranje modela \n",
    "adaboost.fit(x_train, y_train)"
   ]
  },
  {
   "cell_type": "code",
   "execution_count": 169,
   "id": "fdf4768f",
   "metadata": {},
   "outputs": [],
   "source": [
    "# predvidjanje na test skupu \n",
    "y_preddd = adaboost.predict(x_test)"
   ]
  },
  {
   "cell_type": "code",
   "execution_count": 170,
   "id": "46312131",
   "metadata": {},
   "outputs": [
    {
     "name": "stdout",
     "output_type": "stream",
     "text": [
      "              precision    recall  f1-score   support\n",
      "\n",
      "           3       0.00      0.00      0.00         4\n",
      "           4       0.82      0.27      0.41        33\n",
      "           5       0.73      0.70      0.72       291\n",
      "           6       0.67      0.81      0.73       440\n",
      "           7       0.69      0.59      0.63       176\n",
      "           8       1.00      0.37      0.54        35\n",
      "           9       0.00      0.00      0.00         1\n",
      "\n",
      "    accuracy                           0.70       980\n",
      "   macro avg       0.56      0.39      0.43       980\n",
      "weighted avg       0.71      0.70      0.69       980\n",
      "\n"
     ]
    }
   ],
   "source": [
    "print(metrics.classification_report(y_test, y_preddd))"
   ]
  },
  {
   "cell_type": "code",
   "execution_count": 171,
   "id": "180d1946",
   "metadata": {},
   "outputs": [
    {
     "name": "stdout",
     "output_type": "stream",
     "text": [
      "[[  0   0   1   3   0   0   0]\n",
      " [  0   9  16   7   1   0   0]\n",
      " [  0   2 204  84   1   0   0]\n",
      " [  0   0  55 355  30   0   0]\n",
      " [  0   0   3  70 103   0   0]\n",
      " [  0   0   0   9  13  13   0]\n",
      " [  0   0   0   0   1   0   0]]\n"
     ]
    }
   ],
   "source": [
    "print(metrics.confusion_matrix(y_test,y_preddd))"
   ]
  },
  {
   "cell_type": "code",
   "execution_count": 172,
   "id": "fea5353f",
   "metadata": {},
   "outputs": [
    {
     "name": "stdout",
     "output_type": "stream",
     "text": [
      "0.6979591836734694\n"
     ]
    }
   ],
   "source": [
    "print(metrics.accuracy_score(y_test,y_preddd))"
   ]
  },
  {
   "cell_type": "code",
   "execution_count": 173,
   "id": "09720684",
   "metadata": {},
   "outputs": [
    {
     "data": {
      "text/plain": [
       "0.4020408163265306"
      ]
     },
     "execution_count": 173,
     "metadata": {},
     "output_type": "execute_result"
    }
   ],
   "source": [
    "metrics.mean_squared_error(y_test,y_preddd)"
   ]
  },
  {
   "cell_type": "code",
   "execution_count": 174,
   "id": "35dc69cb",
   "metadata": {},
   "outputs": [
    {
     "data": {
      "text/plain": [
       "0.48785016977928697"
      ]
     },
     "execution_count": 174,
     "metadata": {},
     "output_type": "execute_result"
    }
   ],
   "source": [
    "metrics.r2_score(y_test,y_preddd)"
   ]
  },
  {
   "cell_type": "code",
   "execution_count": 191,
   "id": "779f6584",
   "metadata": {},
   "outputs": [
    {
     "data": {
      "text/plain": [
       "0.05983438613540654"
      ]
     },
     "execution_count": 191,
     "metadata": {},
     "output_type": "execute_result"
    }
   ],
   "source": [
    "metrics.mean_absolute_percentage_error(y_test,y_preddd)"
   ]
  },
  {
   "cell_type": "markdown",
   "id": "6b7348b7",
   "metadata": {},
   "source": [
    "### Multinomijalna logisticka regresija"
   ]
  },
  {
   "cell_type": "code",
   "execution_count": 175,
   "id": "a5b5dc0b",
   "metadata": {},
   "outputs": [],
   "source": [
    "mlr=linear_model.LogisticRegression(multi_class='multinomial',max_iter=1000,solver='newton-cg')"
   ]
  },
  {
   "cell_type": "code",
   "execution_count": 176,
   "id": "38799d81",
   "metadata": {},
   "outputs": [
    {
     "data": {
      "text/plain": [
       "LogisticRegression(max_iter=1000, multi_class='multinomial', solver='newton-cg')"
      ]
     },
     "execution_count": 176,
     "metadata": {},
     "output_type": "execute_result"
    }
   ],
   "source": [
    "mlr.fit(x_train,y_train)"
   ]
  },
  {
   "cell_type": "code",
   "execution_count": 177,
   "id": "578a623f",
   "metadata": {},
   "outputs": [],
   "source": [
    "y_predddd=mlr.predict(x_test)"
   ]
  },
  {
   "cell_type": "code",
   "execution_count": 178,
   "id": "35aafc6b",
   "metadata": {},
   "outputs": [
    {
     "data": {
      "text/plain": [
       "array([5, 6, 6, 7, 6, 5, 6, 5, 6, 6, 6, 7, 6, 6, 5, 6, 6, 6, 6, 7, 6, 5,\n",
       "       7, 5, 5, 6, 6, 5, 6, 5, 6, 7, 6, 6, 6, 6, 6, 5, 6, 6, 6, 5, 5, 7,\n",
       "       6, 6, 4, 4, 6, 5, 6, 6, 5, 5, 6, 6, 5, 6, 6, 6, 6, 5, 5, 6, 6, 6,\n",
       "       5, 7, 5, 6, 5, 6, 5, 7, 6, 5, 6, 6, 7, 6, 7, 6, 6, 6, 6, 6, 7, 5,\n",
       "       6, 5, 6, 7, 6, 6, 6, 5, 6, 6, 6, 5, 6, 6, 6, 6, 7, 7, 5, 6, 6, 6,\n",
       "       6, 5, 7, 6, 6, 6, 6, 6, 6, 7, 6, 5, 5, 5, 5, 6, 6, 5, 6, 6, 6, 7,\n",
       "       5, 6, 6, 6, 6, 6, 6, 6, 5, 6, 6, 6, 6, 5, 6, 5, 6, 5, 5, 6, 5, 6,\n",
       "       6, 6, 5, 6, 5, 7, 6, 6, 6, 6, 6, 6, 5, 5, 5, 6, 6, 6, 5, 6, 5, 5,\n",
       "       7, 6, 5, 5, 6, 5, 5, 5, 6, 5, 6, 6, 6, 6, 5, 6, 5, 6, 7, 6, 6, 6,\n",
       "       6, 6, 6, 7, 6, 5, 6, 7, 6, 5, 6, 6, 6, 5, 6, 6, 7, 6, 6, 6, 6, 6,\n",
       "       5, 6, 5, 6, 5, 6, 6, 5, 7, 6, 7, 6, 6, 6, 6, 5, 6, 6, 6, 6, 5, 6,\n",
       "       6, 6, 5, 6, 6, 6, 5, 5, 6, 6, 5, 6, 6, 6, 7, 5, 5, 5, 5, 5, 6, 6,\n",
       "       7, 5, 5, 6, 5, 6, 6, 5, 5, 6, 7, 6, 6, 6, 5, 6, 6, 5, 6, 6, 6, 6,\n",
       "       6, 5, 7, 6, 6, 6, 6, 5, 7, 6, 6, 6, 7, 7, 5, 7, 5, 4, 7, 6, 5, 7,\n",
       "       5, 5, 7, 6, 6, 6, 5, 6, 6, 6, 6, 5, 6, 7, 5, 6, 5, 6, 6, 6, 6, 6,\n",
       "       5, 6, 5, 6, 6, 6, 5, 6, 6, 6, 6, 5, 5, 6, 7, 6, 5, 6, 6, 6, 6, 6,\n",
       "       6, 5, 7, 6, 6, 6, 5, 6, 6, 6, 6, 5, 6, 6, 7, 6, 5, 6, 6, 6, 5, 5,\n",
       "       6, 6, 7, 6, 6, 7, 5, 6, 6, 6, 6, 6, 5, 6, 6, 5, 6, 6, 6, 5, 6, 6,\n",
       "       5, 5, 5, 6, 6, 6, 7, 6, 6, 7, 6, 6, 6, 6, 6, 6, 7, 6, 6, 5, 5, 5,\n",
       "       6, 6, 6, 5, 6, 6, 5, 6, 5, 6, 6, 6, 5, 5, 6, 6, 5, 6, 5, 6, 5, 6,\n",
       "       6, 7, 6, 7, 7, 5, 6, 6, 6, 6, 6, 6, 5, 5, 5, 6, 5, 6, 5, 6, 7, 6,\n",
       "       6, 6, 6, 5, 7, 5, 6, 6, 6, 5, 6, 6, 5, 6, 5, 5, 6, 6, 6, 6, 6, 7,\n",
       "       7, 6, 7, 6, 5, 6, 5, 6, 6, 6, 6, 6, 6, 5, 5, 6, 5, 6, 6, 5, 6, 6,\n",
       "       6, 6, 6, 5, 5, 7, 7, 6, 6, 6, 6, 6, 5, 6, 6, 6, 5, 5, 6, 6, 5, 6,\n",
       "       5, 6, 5, 7, 5, 6, 6, 6, 6, 7, 6, 6, 6, 6, 6, 6, 5, 6, 6, 6, 6, 5,\n",
       "       5, 5, 6, 6, 5, 6, 5, 7, 6, 6, 6, 6, 7, 6, 6, 6, 6, 6, 5, 5, 5, 6,\n",
       "       5, 6, 6, 6, 6, 6, 5, 6, 6, 6, 5, 7, 6, 7, 5, 6, 6, 6, 6, 6, 5, 6,\n",
       "       6, 6, 8, 5, 6, 6, 6, 6, 6, 6, 5, 6, 6, 6, 6, 6, 6, 6, 6, 6, 6, 6,\n",
       "       6, 6, 5, 6, 7, 6, 6, 6, 6, 7, 6, 6, 5, 6, 6, 5, 5, 6, 6, 5, 6, 6,\n",
       "       6, 6, 6, 5, 6, 7, 6, 6, 6, 6, 6, 6, 6, 6, 6, 6, 5, 5, 6, 5, 5, 6,\n",
       "       6, 5, 7, 7, 6, 5, 6, 6, 6, 6, 5, 6, 6, 5, 5, 6, 6, 6, 6, 5, 5, 6,\n",
       "       6, 5, 5, 6, 6, 6, 6, 6, 6, 5, 4, 6, 7, 6, 7, 6, 6, 6, 6, 6, 7, 6,\n",
       "       6, 6, 6, 6, 6, 5, 5, 5, 5, 6, 5, 6, 6, 6, 7, 5, 6, 6, 5, 6, 5, 6,\n",
       "       6, 6, 7, 6, 6, 6, 5, 6, 6, 6, 6, 7, 6, 6, 5, 6, 6, 6, 7, 6, 6, 5,\n",
       "       7, 7, 6, 6, 5, 6, 5, 6, 5, 6, 6, 7, 5, 6, 6, 5, 6, 6, 5, 6, 5, 7,\n",
       "       5, 6, 6, 5, 6, 6, 6, 5, 6, 5, 5, 6, 5, 5, 5, 6, 6, 6, 5, 6, 5, 6,\n",
       "       6, 6, 6, 5, 6, 4, 7, 5, 6, 5, 6, 7, 6, 7, 6, 5, 5, 6, 6, 6, 6, 6,\n",
       "       6, 6, 6, 6, 5, 6, 6, 6, 6, 6, 6, 6, 7, 5, 6, 6, 6, 5, 6, 6, 5, 6,\n",
       "       6, 5, 6, 5, 5, 6, 6, 5, 6, 6, 6, 6, 5, 6, 6, 6, 5, 7, 6, 6, 6, 6,\n",
       "       6, 6, 5, 5, 5, 6, 5, 6, 5, 6, 6, 7, 5, 6, 6, 6, 6, 7, 6, 6, 6, 6,\n",
       "       5, 6, 5, 6, 5, 6, 5, 6, 6, 6, 6, 6, 6, 6, 5, 5, 6, 6, 6, 6, 6, 6,\n",
       "       6, 6, 6, 6, 6, 6, 6, 6, 6, 6, 6, 7, 6, 6, 4, 5, 5, 6, 5, 5, 6, 5,\n",
       "       5, 6, 5, 7, 7, 7, 5, 6, 6, 5, 7, 5, 5, 6, 5, 5, 5, 5, 6, 7, 5, 5,\n",
       "       6, 6, 6, 6, 6, 6, 6, 5, 6, 7, 6, 6, 7, 6, 6, 6, 5, 6, 6, 5, 5, 5,\n",
       "       6, 6, 6, 5, 5, 5, 5, 6, 6, 6, 5, 6], dtype=int64)"
      ]
     },
     "execution_count": 178,
     "metadata": {},
     "output_type": "execute_result"
    }
   ],
   "source": [
    "y_predddd"
   ]
  },
  {
   "cell_type": "code",
   "execution_count": 179,
   "id": "ad7e980a",
   "metadata": {},
   "outputs": [
    {
     "name": "stdout",
     "output_type": "stream",
     "text": [
      "[[  0   0   1   3   0   0   0]\n",
      " [  0   3  19  10   1   0   0]\n",
      " [  0   1 162 125   2   1   0]\n",
      " [  0   2  79 324  35   0   0]\n",
      " [  0   0   6 128  42   0   0]\n",
      " [  0   0   1  23  11   0   0]\n",
      " [  0   0   0   0   1   0   0]]\n"
     ]
    }
   ],
   "source": [
    "print(metrics.confusion_matrix(y_test,y_predddd))"
   ]
  },
  {
   "cell_type": "code",
   "execution_count": 180,
   "id": "33746420",
   "metadata": {},
   "outputs": [
    {
     "name": "stdout",
     "output_type": "stream",
     "text": [
      "              precision    recall  f1-score   support\n",
      "\n",
      "           3       0.00      0.00      0.00         4\n",
      "           4       0.50      0.09      0.15        33\n",
      "           5       0.60      0.56      0.58       291\n",
      "           6       0.53      0.74      0.62       440\n",
      "           7       0.46      0.24      0.31       176\n",
      "           8       0.00      0.00      0.00        35\n",
      "           9       0.00      0.00      0.00         1\n",
      "\n",
      "    accuracy                           0.54       980\n",
      "   macro avg       0.30      0.23      0.24       980\n",
      "weighted avg       0.52      0.54      0.51       980\n",
      "\n"
     ]
    }
   ],
   "source": [
    "print(metrics.classification_report(y_test,y_predddd))"
   ]
  },
  {
   "cell_type": "code",
   "execution_count": 181,
   "id": "18e386bd",
   "metadata": {},
   "outputs": [
    {
     "data": {
      "text/plain": [
       "0.6448979591836734"
      ]
     },
     "execution_count": 181,
     "metadata": {},
     "output_type": "execute_result"
    }
   ],
   "source": [
    "metrics.mean_squared_error(y_test,y_predddd)"
   ]
  },
  {
   "cell_type": "code",
   "execution_count": 182,
   "id": "28d2dea9",
   "metadata": {},
   "outputs": [
    {
     "data": {
      "text/plain": [
       "0.1784804753820034"
      ]
     },
     "execution_count": 182,
     "metadata": {},
     "output_type": "execute_result"
    }
   ],
   "source": [
    "metrics.r2_score(y_test,y_predddd)"
   ]
  },
  {
   "cell_type": "code",
   "execution_count": 192,
   "id": "28b3c650",
   "metadata": {},
   "outputs": [
    {
     "data": {
      "text/plain": [
       "0.0899546485260771"
      ]
     },
     "execution_count": 192,
     "metadata": {},
     "output_type": "execute_result"
    }
   ],
   "source": [
    "metrics.mean_absolute_percentage_error(y_test,y_predddd)"
   ]
  },
  {
   "cell_type": "code",
   "execution_count": null,
   "id": "72ede0db",
   "metadata": {},
   "outputs": [],
   "source": []
  }
 ],
 "metadata": {
  "kernelspec": {
   "display_name": "Python 3 (ipykernel)",
   "language": "python",
   "name": "python3"
  },
  "language_info": {
   "codemirror_mode": {
    "name": "ipython",
    "version": 3
   },
   "file_extension": ".py",
   "mimetype": "text/x-python",
   "name": "python",
   "nbconvert_exporter": "python",
   "pygments_lexer": "ipython3",
   "version": "3.9.13"
  }
 },
 "nbformat": 4,
 "nbformat_minor": 5
}
